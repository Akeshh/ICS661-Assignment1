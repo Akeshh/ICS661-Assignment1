{
  "nbformat": 4,
  "nbformat_minor": 0,
  "metadata": {
    "colab": {
      "provenance": [],
      "gpuType": "T4",
      "mount_file_id": "1twJGHih09QoLkCdlEdalQZCA-iJkKFt9",
      "authorship_tag": "ABX9TyOKhoVK6DZS9zxv/3DryxKt",
      "include_colab_link": true
    },
    "kernelspec": {
      "name": "python3",
      "display_name": "Python 3"
    },
    "language_info": {
      "name": "python"
    },
    "accelerator": "GPU"
  },
  "cells": [
    {
      "cell_type": "markdown",
      "metadata": {
        "id": "view-in-github",
        "colab_type": "text"
      },
      "source": [
        "<a href=\"https://colab.research.google.com/github/Akeshh/ICS661-Assignment1/blob/main/ICS661_Assignment1.ipynb\" target=\"_parent\"><img src=\"https://colab.research.google.com/assets/colab-badge.svg\" alt=\"Open In Colab\"/></a>"
      ]
    },
    {
      "cell_type": "code",
      "source": [
        "!pip install datasets\n",
        "!pip install torch"
      ],
      "metadata": {
        "colab": {
          "base_uri": "https://localhost:8080/"
        },
        "id": "N2lR-MlXiLnO",
        "outputId": "a0919f72-fa64-45d6-b8af-6fad47682b08"
      },
      "execution_count": null,
      "outputs": [
        {
          "output_type": "stream",
          "name": "stdout",
          "text": [
            "Collecting datasets\n",
            "  Downloading datasets-3.0.0-py3-none-any.whl.metadata (19 kB)\n",
            "Requirement already satisfied: filelock in /usr/local/lib/python3.10/dist-packages (from datasets) (3.16.1)\n",
            "Requirement already satisfied: numpy>=1.17 in /usr/local/lib/python3.10/dist-packages (from datasets) (1.26.4)\n",
            "Collecting pyarrow>=15.0.0 (from datasets)\n",
            "  Downloading pyarrow-17.0.0-cp310-cp310-manylinux_2_28_x86_64.whl.metadata (3.3 kB)\n",
            "Collecting dill<0.3.9,>=0.3.0 (from datasets)\n",
            "  Downloading dill-0.3.8-py3-none-any.whl.metadata (10 kB)\n",
            "Requirement already satisfied: pandas in /usr/local/lib/python3.10/dist-packages (from datasets) (2.1.4)\n",
            "Requirement already satisfied: requests>=2.32.2 in /usr/local/lib/python3.10/dist-packages (from datasets) (2.32.3)\n",
            "Requirement already satisfied: tqdm>=4.66.3 in /usr/local/lib/python3.10/dist-packages (from datasets) (4.66.5)\n",
            "Collecting xxhash (from datasets)\n",
            "  Downloading xxhash-3.5.0-cp310-cp310-manylinux_2_17_x86_64.manylinux2014_x86_64.whl.metadata (12 kB)\n",
            "Collecting multiprocess (from datasets)\n",
            "  Downloading multiprocess-0.70.16-py310-none-any.whl.metadata (7.2 kB)\n",
            "Requirement already satisfied: fsspec<=2024.6.1,>=2023.1.0 in /usr/local/lib/python3.10/dist-packages (from fsspec[http]<=2024.6.1,>=2023.1.0->datasets) (2024.6.1)\n",
            "Requirement already satisfied: aiohttp in /usr/local/lib/python3.10/dist-packages (from datasets) (3.10.5)\n",
            "Requirement already satisfied: huggingface-hub>=0.22.0 in /usr/local/lib/python3.10/dist-packages (from datasets) (0.24.7)\n",
            "Requirement already satisfied: packaging in /usr/local/lib/python3.10/dist-packages (from datasets) (24.1)\n",
            "Requirement already satisfied: pyyaml>=5.1 in /usr/local/lib/python3.10/dist-packages (from datasets) (6.0.2)\n",
            "Requirement already satisfied: aiohappyeyeballs>=2.3.0 in /usr/local/lib/python3.10/dist-packages (from aiohttp->datasets) (2.4.0)\n",
            "Requirement already satisfied: aiosignal>=1.1.2 in /usr/local/lib/python3.10/dist-packages (from aiohttp->datasets) (1.3.1)\n",
            "Requirement already satisfied: attrs>=17.3.0 in /usr/local/lib/python3.10/dist-packages (from aiohttp->datasets) (24.2.0)\n",
            "Requirement already satisfied: frozenlist>=1.1.1 in /usr/local/lib/python3.10/dist-packages (from aiohttp->datasets) (1.4.1)\n",
            "Requirement already satisfied: multidict<7.0,>=4.5 in /usr/local/lib/python3.10/dist-packages (from aiohttp->datasets) (6.1.0)\n",
            "Requirement already satisfied: yarl<2.0,>=1.0 in /usr/local/lib/python3.10/dist-packages (from aiohttp->datasets) (1.11.1)\n",
            "Requirement already satisfied: async-timeout<5.0,>=4.0 in /usr/local/lib/python3.10/dist-packages (from aiohttp->datasets) (4.0.3)\n",
            "Requirement already satisfied: typing-extensions>=3.7.4.3 in /usr/local/lib/python3.10/dist-packages (from huggingface-hub>=0.22.0->datasets) (4.12.2)\n",
            "Requirement already satisfied: charset-normalizer<4,>=2 in /usr/local/lib/python3.10/dist-packages (from requests>=2.32.2->datasets) (3.3.2)\n",
            "Requirement already satisfied: idna<4,>=2.5 in /usr/local/lib/python3.10/dist-packages (from requests>=2.32.2->datasets) (3.10)\n",
            "Requirement already satisfied: urllib3<3,>=1.21.1 in /usr/local/lib/python3.10/dist-packages (from requests>=2.32.2->datasets) (2.0.7)\n",
            "Requirement already satisfied: certifi>=2017.4.17 in /usr/local/lib/python3.10/dist-packages (from requests>=2.32.2->datasets) (2024.8.30)\n",
            "Requirement already satisfied: python-dateutil>=2.8.2 in /usr/local/lib/python3.10/dist-packages (from pandas->datasets) (2.8.2)\n",
            "Requirement already satisfied: pytz>=2020.1 in /usr/local/lib/python3.10/dist-packages (from pandas->datasets) (2024.2)\n",
            "Requirement already satisfied: tzdata>=2022.1 in /usr/local/lib/python3.10/dist-packages (from pandas->datasets) (2024.1)\n",
            "Requirement already satisfied: six>=1.5 in /usr/local/lib/python3.10/dist-packages (from python-dateutil>=2.8.2->pandas->datasets) (1.16.0)\n",
            "Downloading datasets-3.0.0-py3-none-any.whl (474 kB)\n",
            "\u001b[2K   \u001b[90m━━━━━━━━━━━━━━━━━━━━━━━━━━━━━━━━━━━━━━━━\u001b[0m \u001b[32m474.3/474.3 kB\u001b[0m \u001b[31m11.6 MB/s\u001b[0m eta \u001b[36m0:00:00\u001b[0m\n",
            "\u001b[?25hDownloading dill-0.3.8-py3-none-any.whl (116 kB)\n",
            "\u001b[2K   \u001b[90m━━━━━━━━━━━━━━━━━━━━━━━━━━━━━━━━━━━━━━━━\u001b[0m \u001b[32m116.3/116.3 kB\u001b[0m \u001b[31m7.6 MB/s\u001b[0m eta \u001b[36m0:00:00\u001b[0m\n",
            "\u001b[?25hDownloading pyarrow-17.0.0-cp310-cp310-manylinux_2_28_x86_64.whl (39.9 MB)\n",
            "\u001b[2K   \u001b[90m━━━━━━━━━━━━━━━━━━━━━━━━━━━━━━━━━━━━━━━━\u001b[0m \u001b[32m39.9/39.9 MB\u001b[0m \u001b[31m16.9 MB/s\u001b[0m eta \u001b[36m0:00:00\u001b[0m\n",
            "\u001b[?25hDownloading multiprocess-0.70.16-py310-none-any.whl (134 kB)\n",
            "\u001b[2K   \u001b[90m━━━━━━━━━━━━━━━━━━━━━━━━━━━━━━━━━━━━━━━━\u001b[0m \u001b[32m134.8/134.8 kB\u001b[0m \u001b[31m9.3 MB/s\u001b[0m eta \u001b[36m0:00:00\u001b[0m\n",
            "\u001b[?25hDownloading xxhash-3.5.0-cp310-cp310-manylinux_2_17_x86_64.manylinux2014_x86_64.whl (194 kB)\n",
            "\u001b[2K   \u001b[90m━━━━━━━━━━━━━━━━━━━━━━━━━━━━━━━━━━━━━━━━\u001b[0m \u001b[32m194.1/194.1 kB\u001b[0m \u001b[31m12.0 MB/s\u001b[0m eta \u001b[36m0:00:00\u001b[0m\n",
            "\u001b[?25hInstalling collected packages: xxhash, pyarrow, dill, multiprocess, datasets\n",
            "  Attempting uninstall: pyarrow\n",
            "    Found existing installation: pyarrow 14.0.2\n",
            "    Uninstalling pyarrow-14.0.2:\n",
            "      Successfully uninstalled pyarrow-14.0.2\n",
            "\u001b[31mERROR: pip's dependency resolver does not currently take into account all the packages that are installed. This behaviour is the source of the following dependency conflicts.\n",
            "cudf-cu12 24.4.1 requires pyarrow<15.0.0a0,>=14.0.1, but you have pyarrow 17.0.0 which is incompatible.\n",
            "ibis-framework 8.0.0 requires pyarrow<16,>=2, but you have pyarrow 17.0.0 which is incompatible.\u001b[0m\u001b[31m\n",
            "\u001b[0mSuccessfully installed datasets-3.0.0 dill-0.3.8 multiprocess-0.70.16 pyarrow-17.0.0 xxhash-3.5.0\n",
            "Requirement already satisfied: torch in /usr/local/lib/python3.10/dist-packages (2.4.1+cu121)\n",
            "Requirement already satisfied: filelock in /usr/local/lib/python3.10/dist-packages (from torch) (3.16.1)\n",
            "Requirement already satisfied: typing-extensions>=4.8.0 in /usr/local/lib/python3.10/dist-packages (from torch) (4.12.2)\n",
            "Requirement already satisfied: sympy in /usr/local/lib/python3.10/dist-packages (from torch) (1.13.2)\n",
            "Requirement already satisfied: networkx in /usr/local/lib/python3.10/dist-packages (from torch) (3.3)\n",
            "Requirement already satisfied: jinja2 in /usr/local/lib/python3.10/dist-packages (from torch) (3.1.4)\n",
            "Requirement already satisfied: fsspec in /usr/local/lib/python3.10/dist-packages (from torch) (2024.6.1)\n",
            "Requirement already satisfied: MarkupSafe>=2.0 in /usr/local/lib/python3.10/dist-packages (from jinja2->torch) (2.1.5)\n",
            "Requirement already satisfied: mpmath<1.4,>=1.1.0 in /usr/local/lib/python3.10/dist-packages (from sympy->torch) (1.3.0)\n"
          ]
        }
      ]
    },
    {
      "cell_type": "code",
      "execution_count": null,
      "metadata": {
        "id": "fAhT0iOOhnfV"
      },
      "outputs": [],
      "source": [
        "import torch\n",
        "from torch.utils.data import DataLoader, TensorDataset\n",
        "import pandas as pd\n",
        "from sklearn.model_selection import train_test_split\n",
        "\n",
        "# Load the datasets\n",
        "train_df = pd.read_csv('train.csv')\n",
        "test_df = pd.read_csv('test.csv')\n",
        "\n",
        "# Split features and labels\n",
        "train_features = train_df.iloc[:, 1:].values  # all columns except the first (features)\n",
        "train_labels = train_df.iloc[:, 0].values     # first column (labels)\n",
        "\n",
        "eval_features = test_df.iloc[:, 1:].values\n",
        "eval_labels = test_df.iloc[:, 0].values\n",
        "\n",
        "# Convert the data to PyTorch tensors\n",
        "train_features_tensor = torch.tensor(train_features, dtype=torch.float32)\n",
        "train_labels_tensor = torch.tensor(train_labels, dtype=torch.long)  # long for classification labels\n",
        "\n",
        "eval_features_tensor = torch.tensor(eval_features, dtype=torch.float32)\n",
        "eval_labels_tensor = torch.tensor(eval_labels, dtype=torch.long)\n",
        "\n",
        "# Create TensorDataset for PyTorch\n",
        "train_dataset = TensorDataset(train_features_tensor, train_labels_tensor)\n",
        "eval_dataset = TensorDataset(eval_features_tensor, eval_labels_tensor)\n",
        "\n",
        "# Create DataLoader for batching\n",
        "batch_size = 32  # You can adjust the batch size\n",
        "train_loader = DataLoader(train_dataset, batch_size=batch_size, shuffle=True)\n",
        "eval_loader = DataLoader(eval_dataset, batch_size=batch_size, shuffle=False)\n",
        "\n",
        "# You can now use train_loader and eval_loader in your training loop\n"
      ]
    },
    {
      "cell_type": "code",
      "source": [
        "import torch\n",
        "import torch.nn as nn\n",
        "import torch.optim as optim\n",
        "\n",
        "# Define the MLP model with corrected output size\n",
        "class MLP(nn.Module):\n",
        "    def __init__(self, input_size, hidden_sizes, output_size, activation_fn):\n",
        "        super(MLP, self).__init__()\n",
        "\n",
        "        # Store the activation function\n",
        "        self.activation_fn = activation_fn\n",
        "\n",
        "        # Input layer\n",
        "        layers = []\n",
        "        prev_size = input_size  # Ensure this is correctly matched to the feature size\n",
        "\n",
        "        # Hidden layers\n",
        "        for hidden_size in hidden_sizes:\n",
        "            layers.append(nn.Linear(prev_size, hidden_size))\n",
        "            layers.append(nn.BatchNorm1d(hidden_size))  # Add batch normalization\n",
        "            layers.append(self.activation_fn)           # Add activation function\n",
        "            layers.append(nn.Dropout(0.3))              # Add dropout\n",
        "            prev_size = hidden_size\n",
        "\n",
        "        # Output layer: Change output_size to 10 for 10 classes\n",
        "        layers.append(nn.Linear(prev_size, output_size))  # output_size should be 10 for 10 classes\n",
        "\n",
        "        # Build the model\n",
        "        self.model = nn.Sequential(*layers)\n",
        "\n",
        "    def forward(self, x):\n",
        "        return self.model(x)\n",
        "\n",
        "# Example model initialization with output size of 10 classes\n",
        "input_size = 784  # Number of features\n",
        "hidden_sizes = [512, 256, 128, 64]\n",
        "output_size = 10  # 10 classes\n",
        "\n"
      ],
      "metadata": {
        "id": "oG_kZb1ribb0"
      },
      "execution_count": null,
      "outputs": []
    },
    {
      "cell_type": "code",
      "source": [
        "import torch.optim as optim\n",
        "\n",
        "# Define the get_optimizer function\n",
        "def get_optimizer(optimizer_name, model, learning_rate):\n",
        "    if optimizer_name == 'Adam':\n",
        "        return optim.Adam(model.parameters(), lr=learning_rate)\n",
        "    elif optimizer_name == 'AdamW':\n",
        "        return optim.AdamW(model.parameters(), lr=learning_rate)\n",
        "    elif optimizer_name == 'SGD':\n",
        "        return optim.SGD(model.parameters(), lr=learning_rate, momentum=0.9)\n",
        "    else:\n",
        "        raise ValueError(\"Unsupported optimizer. Choose from 'Adam', 'AdamW', or 'SGD'.\")\n",
        "\n"
      ],
      "metadata": {
        "id": "K9GKJrdc_rzR"
      },
      "execution_count": null,
      "outputs": []
    },
    {
      "cell_type": "code",
      "source": [
        "# Define activation function\n",
        "activation_fn = nn.ReLU()\n",
        "\n",
        "model = MLP(input_size=input_size, hidden_sizes=hidden_sizes, output_size=output_size, activation_fn=activation_fn)\n",
        "# Check if a GPU is available and use it; otherwise, fall back to CPU\n",
        "device = torch.device('cuda' if torch.cuda.is_available() else 'cpu')\n",
        "print(f\"Using device: {device}\")\n",
        "\n",
        "\n",
        "\n",
        "# Define loss function (criterion) for classification\n",
        "criterion = nn.CrossEntropyLoss()\n",
        "# Example usage\n",
        "optimizer_name = 'AdamW'  # You can choose 'Adam', 'AdamW', or 'SGD'\n",
        "learning_rate = 1e-03\n",
        "optimizer = get_optimizer(optimizer_name, model, learning_rate)\n",
        "  # Choose your activation function\n",
        "\n",
        "# Move the model to the device (GPU or CPU)\n",
        "model = model.to(device)\n",
        "print(model)  # Check the model structure"
      ],
      "metadata": {
        "colab": {
          "base_uri": "https://localhost:8080/"
        },
        "id": "Qht8Xhj1I7Ta",
        "outputId": "b270188b-8761-432a-e8c8-7f4f29b563dd"
      },
      "execution_count": null,
      "outputs": [
        {
          "output_type": "stream",
          "name": "stdout",
          "text": [
            "Using device: cpu\n",
            "MLP(\n",
            "  (activation_fn): ReLU()\n",
            "  (model): Sequential(\n",
            "    (0): Linear(in_features=784, out_features=512, bias=True)\n",
            "    (1): BatchNorm1d(512, eps=1e-05, momentum=0.1, affine=True, track_running_stats=True)\n",
            "    (2): ReLU()\n",
            "    (3): Dropout(p=0.3, inplace=False)\n",
            "    (4): Linear(in_features=512, out_features=256, bias=True)\n",
            "    (5): BatchNorm1d(256, eps=1e-05, momentum=0.1, affine=True, track_running_stats=True)\n",
            "    (6): ReLU()\n",
            "    (7): Dropout(p=0.3, inplace=False)\n",
            "    (8): Linear(in_features=256, out_features=128, bias=True)\n",
            "    (9): BatchNorm1d(128, eps=1e-05, momentum=0.1, affine=True, track_running_stats=True)\n",
            "    (10): ReLU()\n",
            "    (11): Dropout(p=0.3, inplace=False)\n",
            "    (12): Linear(in_features=128, out_features=64, bias=True)\n",
            "    (13): BatchNorm1d(64, eps=1e-05, momentum=0.1, affine=True, track_running_stats=True)\n",
            "    (14): ReLU()\n",
            "    (15): Dropout(p=0.3, inplace=False)\n",
            "    (16): Linear(in_features=64, out_features=10, bias=True)\n",
            "  )\n",
            ")\n"
          ]
        }
      ]
    },
    {
      "cell_type": "code",
      "source": [
        "import matplotlib.pyplot as plt\n",
        "import torch\n",
        "from sklearn.metrics import accuracy_score, f1_score\n",
        "import numpy as np\n",
        "from tqdm import tqdm\n",
        "from sklearn.metrics import classification_report\n",
        "\n",
        "# Evaluation function for the validation set\n",
        "def evaluate_model(model, eval_loader, criterion):\n",
        "    model.eval()  # Set the model to evaluation mode\n",
        "    eval_loss = 0.0\n",
        "    all_preds = []\n",
        "    all_labels = []\n",
        "\n",
        "    with torch.no_grad():\n",
        "        for inputs, labels in eval_loader:\n",
        "            inputs, labels = inputs.to(device), labels.to(device)\n",
        "            outputs = model(inputs)\n",
        "            loss = criterion(outputs, labels)\n",
        "            eval_loss += loss.item()\n",
        "\n",
        "            _, predicted = torch.max(outputs, 1)\n",
        "            all_preds.append(predicted.cpu().numpy())\n",
        "            all_labels.append(labels.cpu().numpy())\n",
        "\n",
        "    all_preds = np.concatenate(all_preds)\n",
        "    all_labels = np.concatenate(all_labels)\n",
        "\n",
        "    # Calculate accuracy and F1 score\n",
        "    acc = accuracy_score(all_labels, all_preds)\n",
        "    f1 = f1_score(all_labels, all_preds, average='weighted')\n",
        "\n",
        "    # Print classification report to see precision and recall for each class\n",
        "    print(classification_report(all_labels, all_preds))\n",
        "\n",
        "\n",
        "\n",
        "    return eval_loss / len(eval_loader), acc, f1\n",
        "\n",
        "# Visualization function to plot metrics at the end of training\n",
        "def plot_metrics(steps, accuracies, f1_scores):\n",
        "    plt.figure(figsize=(10, 5))\n",
        "\n",
        "    # Plot accuracy\n",
        "    plt.subplot(1, 2, 1)\n",
        "    plt.plot(steps, accuracies, label='Accuracy', color='blue', marker='o')\n",
        "    plt.xlabel('Epoch')\n",
        "    plt.ylabel('Accuracy')\n",
        "    plt.title('Accuracy Over Epochs')\n",
        "    plt.grid(True)\n",
        "    plt.legend()\n",
        "\n",
        "    # Plot F1 Score\n",
        "    plt.subplot(1, 2, 2)\n",
        "    plt.plot(steps, f1_scores, label='F1 Score', color='green', marker='o')\n",
        "    plt.xlabel('Epoch')\n",
        "    plt.ylabel('F1 Score')\n",
        "    plt.title('F1 Score Over Epochs')\n",
        "    plt.grid(True)\n",
        "    plt.legend()\n",
        "\n",
        "    plt.tight_layout()\n",
        "    plt.show()"
      ],
      "metadata": {
        "id": "FDrBOkAD2IlH"
      },
      "execution_count": null,
      "outputs": []
    },
    {
      "cell_type": "code",
      "source": [
        "def train_and_evaluate(model, train_loader, eval_loader, criterion, optimizer, epochs=10):\n",
        "    best_loss = float('inf')\n",
        "    best_model = None\n",
        "    best_metrics = None\n",
        "    best_epoch = None\n",
        "\n",
        "    for epoch in range(epochs):\n",
        "        model.train()  # Set the model to training mode\n",
        "        running_loss = 0.0\n",
        "        num_batches = len(train_loader)\n",
        "\n",
        "        # Progress bar with tqdm\n",
        "        with tqdm(total=num_batches, desc=f\"Epoch {epoch+1}/{epochs}\") as pbar:\n",
        "            for i, (inputs, labels) in enumerate(train_loader):\n",
        "                # Move inputs and labels to the device (GPU or CPU)\n",
        "                inputs, labels = inputs.to(device), labels.to(device)\n",
        "\n",
        "                optimizer.zero_grad()\n",
        "                outputs = model(inputs)\n",
        "                loss = criterion(outputs, labels)\n",
        "                loss.backward()\n",
        "                optimizer.step()\n",
        "\n",
        "                running_loss += loss.item()\n",
        "                pbar.set_postfix({'Train Loss': running_loss / (i+1)})\n",
        "                pbar.update(1)\n",
        "\n",
        "        # Evaluate on validation set after each epoch\n",
        "        eval_loss, eval_acc, eval_f1 = evaluate_model(model, eval_loader, criterion)\n",
        "\n",
        "        # Store the results for plotting after all epochs\n",
        "        epoch_accuracies.append(eval_acc)\n",
        "        epoch_f1_scores.append(eval_f1)\n",
        "        epoch_steps.append(epoch + 1)\n",
        "\n",
        "        print(f\"\\nEpoch {epoch+1}: Validation Loss: {eval_loss:.4f}, Accuracy: {eval_acc:.4f}, F1 Score: {eval_f1:.4f}\")\n",
        "\n",
        "        # Save the model with the best evaluation loss\n",
        "        if eval_loss < best_loss:\n",
        "            best_loss = eval_loss\n",
        "            best_model = model.state_dict()  # Save the best model\n",
        "            best_metrics = {'Accuracy': eval_acc, 'F1 Score': eval_f1}\n",
        "            best_epoch = epoch + 1\n",
        "\n",
        "        print(f\"Epoch {epoch+1} completed. Average Train Loss: {running_loss / num_batches:.4f}\")\n",
        "\n",
        "    # Save the best model to a file\n",
        "    torch.save(best_model, 'best_model.pth')\n",
        "    print(f\"Best model saved as 'best_model.pth' at epoch {best_epoch}.\")\n",
        "    print(f\"Best metrics at epoch {best_epoch}: {best_metrics}\")\n",
        "\n",
        "    # Plot the metrics after all epochs are processed\n",
        "    plot_metrics(epoch_steps, epoch_accuracies, epoch_f1_scores)\n",
        "\n",
        "epoch_accuracies = []\n",
        "epoch_f1_scores = []\n",
        "epoch_steps = []\n",
        "\n",
        "# Example function call with both train_loader and eval_loader\n",
        "train_and_evaluate(model, train_loader, eval_loader, criterion, optimizer, epochs=20)"
      ],
      "metadata": {
        "colab": {
          "base_uri": "https://localhost:8080/",
          "height": 1000
        },
        "id": "BcFyLqeh4zEg",
        "outputId": "5db8b17d-0f13-4bc9-dc48-93659d8a8fa7"
      },
      "execution_count": null,
      "outputs": [
        {
          "output_type": "stream",
          "name": "stderr",
          "text": [
            "Epoch 1/20: 100%|██████████| 1875/1875 [00:22<00:00, 82.53it/s, Train Loss=0.405] \n"
          ]
        },
        {
          "output_type": "stream",
          "name": "stdout",
          "text": [
            "              precision    recall  f1-score   support\n",
            "\n",
            "           0       0.98      0.98      0.98       980\n",
            "           1       0.99      0.99      0.99      1135\n",
            "           2       0.95      0.96      0.96      1032\n",
            "           3       0.96      0.95      0.95      1010\n",
            "           4       0.96      0.98      0.97       982\n",
            "           5       0.98      0.96      0.97       892\n",
            "           6       0.96      0.98      0.97       958\n",
            "           7       0.96      0.95      0.96      1027\n",
            "           8       0.97      0.96      0.96       974\n",
            "           9       0.96      0.94      0.95      1009\n",
            "\n",
            "    accuracy                           0.97      9999\n",
            "   macro avg       0.97      0.97      0.97      9999\n",
            "weighted avg       0.97      0.97      0.97      9999\n",
            "\n",
            "\n",
            "Epoch 1: Validation Loss: 0.1146, Accuracy: 0.9655, F1 Score: 0.9655\n",
            "Epoch 1 completed. Average Train Loss: 0.4050\n"
          ]
        },
        {
          "output_type": "stream",
          "name": "stderr",
          "text": [
            "Epoch 2/20: 100%|██████████| 1875/1875 [00:16<00:00, 113.24it/s, Train Loss=0.222]\n"
          ]
        },
        {
          "output_type": "stream",
          "name": "stdout",
          "text": [
            "              precision    recall  f1-score   support\n",
            "\n",
            "           0       0.97      0.99      0.98       980\n",
            "           1       0.98      0.99      0.99      1135\n",
            "           2       0.98      0.97      0.97      1032\n",
            "           3       0.97      0.98      0.97      1010\n",
            "           4       0.97      0.97      0.97       982\n",
            "           5       0.98      0.96      0.97       892\n",
            "           6       0.98      0.97      0.98       958\n",
            "           7       0.97      0.96      0.97      1027\n",
            "           8       0.94      0.97      0.96       974\n",
            "           9       0.97      0.95      0.96      1009\n",
            "\n",
            "    accuracy                           0.97      9999\n",
            "   macro avg       0.97      0.97      0.97      9999\n",
            "weighted avg       0.97      0.97      0.97      9999\n",
            "\n",
            "\n",
            "Epoch 2: Validation Loss: 0.0915, Accuracy: 0.9718, F1 Score: 0.9718\n",
            "Epoch 2 completed. Average Train Loss: 0.2223\n"
          ]
        },
        {
          "output_type": "stream",
          "name": "stderr",
          "text": [
            "Epoch 3/20: 100%|██████████| 1875/1875 [00:16<00:00, 110.71it/s, Train Loss=0.186]\n"
          ]
        },
        {
          "output_type": "stream",
          "name": "stdout",
          "text": [
            "              precision    recall  f1-score   support\n",
            "\n",
            "           0       0.98      0.98      0.98       980\n",
            "           1       0.98      0.99      0.99      1135\n",
            "           2       0.98      0.97      0.97      1032\n",
            "           3       0.96      0.98      0.97      1010\n",
            "           4       0.96      0.98      0.97       982\n",
            "           5       0.99      0.96      0.97       892\n",
            "           6       0.97      0.98      0.98       958\n",
            "           7       0.97      0.96      0.97      1027\n",
            "           8       0.96      0.97      0.97       974\n",
            "           9       0.98      0.96      0.97      1009\n",
            "\n",
            "    accuracy                           0.97      9999\n",
            "   macro avg       0.97      0.97      0.97      9999\n",
            "weighted avg       0.97      0.97      0.97      9999\n",
            "\n",
            "\n",
            "Epoch 3: Validation Loss: 0.0861, Accuracy: 0.9737, F1 Score: 0.9737\n",
            "Epoch 3 completed. Average Train Loss: 0.1855\n"
          ]
        },
        {
          "output_type": "stream",
          "name": "stderr",
          "text": [
            "Epoch 4/20: 100%|██████████| 1875/1875 [00:16<00:00, 116.63it/s, Train Loss=0.157]\n"
          ]
        },
        {
          "output_type": "stream",
          "name": "stdout",
          "text": [
            "              precision    recall  f1-score   support\n",
            "\n",
            "           0       0.97      0.99      0.98       980\n",
            "           1       0.99      0.99      0.99      1135\n",
            "           2       0.98      0.97      0.98      1032\n",
            "           3       0.97      0.98      0.97      1010\n",
            "           4       0.98      0.98      0.98       982\n",
            "           5       0.99      0.96      0.97       892\n",
            "           6       0.98      0.98      0.98       958\n",
            "           7       0.97      0.97      0.97      1027\n",
            "           8       0.97      0.98      0.98       974\n",
            "           9       0.97      0.97      0.97      1009\n",
            "\n",
            "    accuracy                           0.98      9999\n",
            "   macro avg       0.98      0.98      0.98      9999\n",
            "weighted avg       0.98      0.98      0.98      9999\n",
            "\n",
            "\n",
            "Epoch 4: Validation Loss: 0.0738, Accuracy: 0.9779, F1 Score: 0.9779\n",
            "Epoch 4 completed. Average Train Loss: 0.1575\n"
          ]
        },
        {
          "output_type": "stream",
          "name": "stderr",
          "text": [
            "Epoch 5/20: 100%|██████████| 1875/1875 [00:16<00:00, 115.08it/s, Train Loss=0.146]\n"
          ]
        },
        {
          "output_type": "stream",
          "name": "stdout",
          "text": [
            "              precision    recall  f1-score   support\n",
            "\n",
            "           0       0.99      0.98      0.98       980\n",
            "           1       0.99      0.99      0.99      1135\n",
            "           2       0.98      0.98      0.98      1032\n",
            "           3       0.98      0.98      0.98      1010\n",
            "           4       0.98      0.98      0.98       982\n",
            "           5       0.99      0.98      0.98       892\n",
            "           6       0.98      0.98      0.98       958\n",
            "           7       0.97      0.98      0.98      1027\n",
            "           8       0.98      0.98      0.98       974\n",
            "           9       0.97      0.98      0.97      1009\n",
            "\n",
            "    accuracy                           0.98      9999\n",
            "   macro avg       0.98      0.98      0.98      9999\n",
            "weighted avg       0.98      0.98      0.98      9999\n",
            "\n",
            "\n",
            "Epoch 5: Validation Loss: 0.0667, Accuracy: 0.9798, F1 Score: 0.9798\n",
            "Epoch 5 completed. Average Train Loss: 0.1456\n"
          ]
        },
        {
          "output_type": "stream",
          "name": "stderr",
          "text": [
            "Epoch 6/20: 100%|██████████| 1875/1875 [00:16<00:00, 114.48it/s, Train Loss=0.127]\n"
          ]
        },
        {
          "output_type": "stream",
          "name": "stdout",
          "text": [
            "              precision    recall  f1-score   support\n",
            "\n",
            "           0       0.98      0.99      0.99       980\n",
            "           1       0.99      0.99      0.99      1135\n",
            "           2       0.98      0.99      0.99      1032\n",
            "           3       0.98      0.98      0.98      1010\n",
            "           4       0.98      0.98      0.98       982\n",
            "           5       0.98      0.98      0.98       892\n",
            "           6       0.98      0.98      0.98       958\n",
            "           7       0.97      0.98      0.98      1027\n",
            "           8       0.99      0.96      0.98       974\n",
            "           9       0.98      0.98      0.98      1009\n",
            "\n",
            "    accuracy                           0.98      9999\n",
            "   macro avg       0.98      0.98      0.98      9999\n",
            "weighted avg       0.98      0.98      0.98      9999\n",
            "\n",
            "\n",
            "Epoch 6: Validation Loss: 0.0627, Accuracy: 0.9816, F1 Score: 0.9816\n",
            "Epoch 6 completed. Average Train Loss: 0.1268\n"
          ]
        },
        {
          "output_type": "stream",
          "name": "stderr",
          "text": [
            "Epoch 7/20: 100%|██████████| 1875/1875 [00:18<00:00, 99.48it/s, Train Loss=0.119]\n"
          ]
        },
        {
          "output_type": "stream",
          "name": "stdout",
          "text": [
            "              precision    recall  f1-score   support\n",
            "\n",
            "           0       0.98      0.99      0.99       980\n",
            "           1       0.99      1.00      0.99      1135\n",
            "           2       0.99      0.97      0.98      1032\n",
            "           3       0.98      0.98      0.98      1010\n",
            "           4       0.97      0.98      0.98       982\n",
            "           5       0.99      0.98      0.98       892\n",
            "           6       0.98      0.98      0.98       958\n",
            "           7       0.97      0.97      0.97      1027\n",
            "           8       0.98      0.98      0.98       974\n",
            "           9       0.98      0.97      0.97      1009\n",
            "\n",
            "    accuracy                           0.98      9999\n",
            "   macro avg       0.98      0.98      0.98      9999\n",
            "weighted avg       0.98      0.98      0.98      9999\n",
            "\n",
            "\n",
            "Epoch 7: Validation Loss: 0.0579, Accuracy: 0.9812, F1 Score: 0.9812\n",
            "Epoch 7 completed. Average Train Loss: 0.1194\n"
          ]
        },
        {
          "output_type": "stream",
          "name": "stderr",
          "text": [
            "Epoch 8/20: 100%|██████████| 1875/1875 [00:15<00:00, 119.02it/s, Train Loss=0.111]\n"
          ]
        },
        {
          "output_type": "stream",
          "name": "stdout",
          "text": [
            "              precision    recall  f1-score   support\n",
            "\n",
            "           0       0.98      0.99      0.99       980\n",
            "           1       0.99      0.99      0.99      1135\n",
            "           2       0.98      0.98      0.98      1032\n",
            "           3       0.99      0.98      0.99      1010\n",
            "           4       0.98      0.98      0.98       982\n",
            "           5       0.99      0.99      0.99       892\n",
            "           6       0.99      0.98      0.99       958\n",
            "           7       0.97      0.98      0.98      1027\n",
            "           8       0.98      0.98      0.98       974\n",
            "           9       0.98      0.97      0.97      1009\n",
            "\n",
            "    accuracy                           0.98      9999\n",
            "   macro avg       0.98      0.98      0.98      9999\n",
            "weighted avg       0.98      0.98      0.98      9999\n",
            "\n",
            "\n",
            "Epoch 8: Validation Loss: 0.0549, Accuracy: 0.9831, F1 Score: 0.9831\n",
            "Epoch 8 completed. Average Train Loss: 0.1113\n"
          ]
        },
        {
          "output_type": "stream",
          "name": "stderr",
          "text": [
            "Epoch 9/20: 100%|██████████| 1875/1875 [00:16<00:00, 116.26it/s, Train Loss=0.102]\n"
          ]
        },
        {
          "output_type": "stream",
          "name": "stdout",
          "text": [
            "              precision    recall  f1-score   support\n",
            "\n",
            "           0       0.98      0.99      0.99       980\n",
            "           1       0.98      0.99      0.99      1135\n",
            "           2       0.98      0.99      0.98      1032\n",
            "           3       0.97      0.99      0.98      1010\n",
            "           4       0.98      0.98      0.98       982\n",
            "           5       0.99      0.97      0.98       892\n",
            "           6       0.99      0.99      0.99       958\n",
            "           7       0.99      0.98      0.98      1027\n",
            "           8       0.99      0.99      0.99       974\n",
            "           9       0.98      0.97      0.98      1009\n",
            "\n",
            "    accuracy                           0.98      9999\n",
            "   macro avg       0.98      0.98      0.98      9999\n",
            "weighted avg       0.98      0.98      0.98      9999\n",
            "\n",
            "\n",
            "Epoch 9: Validation Loss: 0.0536, Accuracy: 0.9839, F1 Score: 0.9839\n",
            "Epoch 9 completed. Average Train Loss: 0.1022\n"
          ]
        },
        {
          "output_type": "stream",
          "name": "stderr",
          "text": [
            "Epoch 10/20: 100%|██████████| 1875/1875 [00:16<00:00, 113.27it/s, Train Loss=0.0977]\n"
          ]
        },
        {
          "output_type": "stream",
          "name": "stdout",
          "text": [
            "              precision    recall  f1-score   support\n",
            "\n",
            "           0       0.98      0.99      0.99       980\n",
            "           1       0.99      1.00      0.99      1135\n",
            "           2       0.98      0.98      0.98      1032\n",
            "           3       0.98      0.98      0.98      1010\n",
            "           4       0.98      0.98      0.98       982\n",
            "           5       0.99      0.97      0.98       892\n",
            "           6       0.98      0.98      0.98       958\n",
            "           7       0.98      0.99      0.98      1027\n",
            "           8       0.98      0.98      0.98       974\n",
            "           9       0.98      0.98      0.98      1009\n",
            "\n",
            "    accuracy                           0.98      9999\n",
            "   macro avg       0.98      0.98      0.98      9999\n",
            "weighted avg       0.98      0.98      0.98      9999\n",
            "\n",
            "\n",
            "Epoch 10: Validation Loss: 0.0533, Accuracy: 0.9836, F1 Score: 0.9836\n",
            "Epoch 10 completed. Average Train Loss: 0.0977\n"
          ]
        },
        {
          "output_type": "stream",
          "name": "stderr",
          "text": [
            "Epoch 11/20: 100%|██████████| 1875/1875 [00:16<00:00, 110.40it/s, Train Loss=0.093]\n"
          ]
        },
        {
          "output_type": "stream",
          "name": "stdout",
          "text": [
            "              precision    recall  f1-score   support\n",
            "\n",
            "           0       0.98      0.99      0.99       980\n",
            "           1       0.99      0.99      0.99      1135\n",
            "           2       0.99      0.99      0.99      1032\n",
            "           3       0.98      0.99      0.99      1010\n",
            "           4       0.98      0.98      0.98       982\n",
            "           5       0.99      0.98      0.98       892\n",
            "           6       0.99      0.99      0.99       958\n",
            "           7       0.97      0.98      0.98      1027\n",
            "           8       0.99      0.98      0.98       974\n",
            "           9       0.98      0.97      0.98      1009\n",
            "\n",
            "    accuracy                           0.98      9999\n",
            "   macro avg       0.98      0.98      0.98      9999\n",
            "weighted avg       0.98      0.98      0.98      9999\n",
            "\n",
            "\n",
            "Epoch 11: Validation Loss: 0.0500, Accuracy: 0.9842, F1 Score: 0.9842\n",
            "Epoch 11 completed. Average Train Loss: 0.0930\n"
          ]
        },
        {
          "output_type": "stream",
          "name": "stderr",
          "text": [
            "Epoch 12/20: 100%|██████████| 1875/1875 [00:16<00:00, 112.66it/s, Train Loss=0.087]\n"
          ]
        },
        {
          "output_type": "stream",
          "name": "stdout",
          "text": [
            "              precision    recall  f1-score   support\n",
            "\n",
            "           0       0.98      0.99      0.99       980\n",
            "           1       0.99      1.00      0.99      1135\n",
            "           2       0.98      0.99      0.99      1032\n",
            "           3       0.99      0.99      0.99      1010\n",
            "           4       0.98      0.98      0.98       982\n",
            "           5       0.99      0.98      0.98       892\n",
            "           6       0.99      0.98      0.98       958\n",
            "           7       0.97      0.98      0.98      1027\n",
            "           8       0.99      0.99      0.99       974\n",
            "           9       0.98      0.97      0.98      1009\n",
            "\n",
            "    accuracy                           0.98      9999\n",
            "   macro avg       0.98      0.98      0.98      9999\n",
            "weighted avg       0.98      0.98      0.98      9999\n",
            "\n",
            "\n",
            "Epoch 12: Validation Loss: 0.0516, Accuracy: 0.9841, F1 Score: 0.9841\n",
            "Epoch 12 completed. Average Train Loss: 0.0870\n"
          ]
        },
        {
          "output_type": "stream",
          "name": "stderr",
          "text": [
            "Epoch 13/20: 100%|██████████| 1875/1875 [00:16<00:00, 114.30it/s, Train Loss=0.0822]\n"
          ]
        },
        {
          "output_type": "stream",
          "name": "stdout",
          "text": [
            "              precision    recall  f1-score   support\n",
            "\n",
            "           0       0.99      0.99      0.99       980\n",
            "           1       0.99      0.99      0.99      1135\n",
            "           2       0.98      0.99      0.99      1032\n",
            "           3       0.98      0.98      0.98      1010\n",
            "           4       0.99      0.98      0.98       982\n",
            "           5       0.99      0.98      0.99       892\n",
            "           6       0.99      0.98      0.99       958\n",
            "           7       0.99      0.97      0.98      1027\n",
            "           8       0.98      0.98      0.98       974\n",
            "           9       0.97      0.98      0.98      1009\n",
            "\n",
            "    accuracy                           0.98      9999\n",
            "   macro avg       0.98      0.98      0.98      9999\n",
            "weighted avg       0.98      0.98      0.98      9999\n",
            "\n",
            "\n",
            "Epoch 13: Validation Loss: 0.0541, Accuracy: 0.9840, F1 Score: 0.9840\n",
            "Epoch 13 completed. Average Train Loss: 0.0822\n"
          ]
        },
        {
          "output_type": "stream",
          "name": "stderr",
          "text": [
            "Epoch 14/20: 100%|██████████| 1875/1875 [00:16<00:00, 116.23it/s, Train Loss=0.0796]\n"
          ]
        },
        {
          "output_type": "stream",
          "name": "stdout",
          "text": [
            "              precision    recall  f1-score   support\n",
            "\n",
            "           0       0.98      0.99      0.99       980\n",
            "           1       0.99      0.99      0.99      1135\n",
            "           2       0.99      0.99      0.99      1032\n",
            "           3       0.99      0.99      0.99      1010\n",
            "           4       0.98      0.98      0.98       982\n",
            "           5       0.99      0.98      0.99       892\n",
            "           6       0.99      0.98      0.99       958\n",
            "           7       0.99      0.98      0.98      1027\n",
            "           8       0.99      0.99      0.99       974\n",
            "           9       0.97      0.99      0.98      1009\n",
            "\n",
            "    accuracy                           0.99      9999\n",
            "   macro avg       0.99      0.99      0.99      9999\n",
            "weighted avg       0.99      0.99      0.99      9999\n",
            "\n",
            "\n",
            "Epoch 14: Validation Loss: 0.0490, Accuracy: 0.9858, F1 Score: 0.9858\n",
            "Epoch 14 completed. Average Train Loss: 0.0796\n"
          ]
        },
        {
          "output_type": "stream",
          "name": "stderr",
          "text": [
            "Epoch 15/20: 100%|██████████| 1875/1875 [00:16<00:00, 116.05it/s, Train Loss=0.0756]\n"
          ]
        },
        {
          "output_type": "stream",
          "name": "stdout",
          "text": [
            "              precision    recall  f1-score   support\n",
            "\n",
            "           0       0.99      0.99      0.99       980\n",
            "           1       0.99      0.99      0.99      1135\n",
            "           2       0.98      0.99      0.98      1032\n",
            "           3       0.98      0.98      0.98      1010\n",
            "           4       0.98      0.99      0.98       982\n",
            "           5       0.99      0.97      0.98       892\n",
            "           6       0.98      0.99      0.98       958\n",
            "           7       0.98      0.98      0.98      1027\n",
            "           8       0.98      0.98      0.98       974\n",
            "           9       0.98      0.98      0.98      1009\n",
            "\n",
            "    accuracy                           0.98      9999\n",
            "   macro avg       0.98      0.98      0.98      9999\n",
            "weighted avg       0.98      0.98      0.98      9999\n",
            "\n",
            "\n",
            "Epoch 15: Validation Loss: 0.0538, Accuracy: 0.9837, F1 Score: 0.9837\n",
            "Epoch 15 completed. Average Train Loss: 0.0756\n"
          ]
        },
        {
          "output_type": "stream",
          "name": "stderr",
          "text": [
            "Epoch 16/20: 100%|██████████| 1875/1875 [00:16<00:00, 114.26it/s, Train Loss=0.0734]\n"
          ]
        },
        {
          "output_type": "stream",
          "name": "stdout",
          "text": [
            "              precision    recall  f1-score   support\n",
            "\n",
            "           0       0.99      0.99      0.99       980\n",
            "           1       0.99      1.00      0.99      1135\n",
            "           2       0.99      0.99      0.99      1032\n",
            "           3       0.99      0.98      0.99      1010\n",
            "           4       0.98      0.99      0.98       982\n",
            "           5       0.98      0.99      0.98       892\n",
            "           6       0.99      0.99      0.99       958\n",
            "           7       0.98      0.98      0.98      1027\n",
            "           8       0.99      0.98      0.99       974\n",
            "           9       0.99      0.97      0.98      1009\n",
            "\n",
            "    accuracy                           0.99      9999\n",
            "   macro avg       0.99      0.99      0.99      9999\n",
            "weighted avg       0.99      0.99      0.99      9999\n",
            "\n",
            "\n",
            "Epoch 16: Validation Loss: 0.0492, Accuracy: 0.9858, F1 Score: 0.9858\n",
            "Epoch 16 completed. Average Train Loss: 0.0734\n"
          ]
        },
        {
          "output_type": "stream",
          "name": "stderr",
          "text": [
            "Epoch 17/20: 100%|██████████| 1875/1875 [00:17<00:00, 110.01it/s, Train Loss=0.0707]\n"
          ]
        },
        {
          "output_type": "stream",
          "name": "stdout",
          "text": [
            "              precision    recall  f1-score   support\n",
            "\n",
            "           0       0.99      0.99      0.99       980\n",
            "           1       0.99      1.00      0.99      1135\n",
            "           2       0.99      0.98      0.99      1032\n",
            "           3       0.99      0.98      0.99      1010\n",
            "           4       0.99      0.98      0.98       982\n",
            "           5       0.98      0.99      0.99       892\n",
            "           6       0.99      0.99      0.99       958\n",
            "           7       0.98      0.98      0.98      1027\n",
            "           8       0.98      0.99      0.98       974\n",
            "           9       0.98      0.98      0.98      1009\n",
            "\n",
            "    accuracy                           0.99      9999\n",
            "   macro avg       0.99      0.99      0.99      9999\n",
            "weighted avg       0.99      0.99      0.99      9999\n",
            "\n",
            "\n",
            "Epoch 17: Validation Loss: 0.0486, Accuracy: 0.9855, F1 Score: 0.9855\n",
            "Epoch 17 completed. Average Train Loss: 0.0707\n"
          ]
        },
        {
          "output_type": "stream",
          "name": "stderr",
          "text": [
            "Epoch 18/20: 100%|██████████| 1875/1875 [00:16<00:00, 115.72it/s, Train Loss=0.0697]\n"
          ]
        },
        {
          "output_type": "stream",
          "name": "stdout",
          "text": [
            "              precision    recall  f1-score   support\n",
            "\n",
            "           0       0.99      0.99      0.99       980\n",
            "           1       0.99      0.99      0.99      1135\n",
            "           2       0.98      0.99      0.99      1032\n",
            "           3       0.98      0.98      0.98      1010\n",
            "           4       0.99      0.99      0.99       982\n",
            "           5       0.99      0.99      0.99       892\n",
            "           6       0.99      0.98      0.99       958\n",
            "           7       0.98      0.98      0.98      1027\n",
            "           8       0.99      0.99      0.99       974\n",
            "           9       0.99      0.97      0.98      1009\n",
            "\n",
            "    accuracy                           0.99      9999\n",
            "   macro avg       0.99      0.99      0.99      9999\n",
            "weighted avg       0.99      0.99      0.99      9999\n",
            "\n",
            "\n",
            "Epoch 18: Validation Loss: 0.0476, Accuracy: 0.9861, F1 Score: 0.9861\n",
            "Epoch 18 completed. Average Train Loss: 0.0697\n"
          ]
        },
        {
          "output_type": "stream",
          "name": "stderr",
          "text": [
            "Epoch 19/20: 100%|██████████| 1875/1875 [00:16<00:00, 114.54it/s, Train Loss=0.0664]\n"
          ]
        },
        {
          "output_type": "stream",
          "name": "stdout",
          "text": [
            "              precision    recall  f1-score   support\n",
            "\n",
            "           0       0.99      0.99      0.99       980\n",
            "           1       0.99      0.99      0.99      1135\n",
            "           2       0.98      0.98      0.98      1032\n",
            "           3       0.98      0.98      0.98      1010\n",
            "           4       0.99      0.99      0.99       982\n",
            "           5       0.99      0.98      0.99       892\n",
            "           6       0.99      0.99      0.99       958\n",
            "           7       0.98      0.98      0.98      1027\n",
            "           8       0.99      0.98      0.99       974\n",
            "           9       0.98      0.98      0.98      1009\n",
            "\n",
            "    accuracy                           0.99      9999\n",
            "   macro avg       0.99      0.99      0.99      9999\n",
            "weighted avg       0.99      0.99      0.99      9999\n",
            "\n",
            "\n",
            "Epoch 19: Validation Loss: 0.0486, Accuracy: 0.9853, F1 Score: 0.9853\n",
            "Epoch 19 completed. Average Train Loss: 0.0664\n"
          ]
        },
        {
          "output_type": "stream",
          "name": "stderr",
          "text": [
            "Epoch 20/20: 100%|██████████| 1875/1875 [00:16<00:00, 111.83it/s, Train Loss=0.065]\n"
          ]
        },
        {
          "output_type": "stream",
          "name": "stdout",
          "text": [
            "              precision    recall  f1-score   support\n",
            "\n",
            "           0       0.98      0.99      0.99       980\n",
            "           1       0.99      0.99      0.99      1135\n",
            "           2       0.98      0.98      0.98      1032\n",
            "           3       0.98      0.98      0.98      1010\n",
            "           4       0.98      0.99      0.98       982\n",
            "           5       0.98      0.98      0.98       892\n",
            "           6       0.99      0.99      0.99       958\n",
            "           7       0.99      0.97      0.98      1027\n",
            "           8       0.99      0.98      0.99       974\n",
            "           9       0.98      0.98      0.98      1009\n",
            "\n",
            "    accuracy                           0.98      9999\n",
            "   macro avg       0.98      0.98      0.98      9999\n",
            "weighted avg       0.98      0.98      0.98      9999\n",
            "\n",
            "\n",
            "Epoch 20: Validation Loss: 0.0522, Accuracy: 0.9843, F1 Score: 0.9843\n",
            "Epoch 20 completed. Average Train Loss: 0.0650\n",
            "Best model saved as 'best_model.pth' at epoch 18.\n",
            "Best metrics at epoch 18: {'Accuracy': 0.9860986098609861, 'F1 Score': 0.9860953701295954}\n"
          ]
        },
        {
          "output_type": "display_data",
          "data": {
            "text/plain": [
              "<Figure size 1000x500 with 2 Axes>"
            ],
            "image/png": "[encoded data removed]"
          },
          "metadata": {}
        }
      ]
    },
    {
      "cell_type": "code",
      "source": [
        "import torch.optim as optim\n",
        "import matplotlib.pyplot as plt\n",
        "\n",
        "# Define a function to get the optimizer based on its name\n",
        "def get_optimizer(optimizer_name, model, learning_rate=0.001):\n",
        "    if optimizer_name == 'Adam':\n",
        "        return optim.Adam(model.parameters(), lr=learning_rate)\n",
        "    elif optimizer_name == 'AdamW':\n",
        "        return optim.AdamW(model.parameters(), lr=learning_rate)\n",
        "    elif optimizer_name == 'SGD':\n",
        "        return optim.SGD(model.parameters(), lr=learning_rate, momentum=0.9)\n",
        "    else:\n",
        "        raise ValueError(f\"Unsupported optimizer: {optimizer_name}\")\n",
        "\n",
        "# Function to train and evaluate with a given optimizer\n",
        "def train_and_evaluate(model, train_loader, eval_loader, criterion, optimizer, epochs=10):\n",
        "    best_loss = float('inf')\n",
        "    best_model = None\n",
        "    best_metrics = None\n",
        "    best_epoch = None\n",
        "\n",
        "    epoch_accuracies = []\n",
        "    epoch_f1_scores = []\n",
        "    epoch_steps = []\n",
        "\n",
        "    for epoch in range(epochs):\n",
        "        model.train()  # Set the model to training mode\n",
        "        running_loss = 0.0\n",
        "        num_batches = len(train_loader)\n",
        "\n",
        "        # Progress bar with tqdm\n",
        "        with tqdm(total=num_batches, desc=f\"Epoch {epoch+1}/{epochs}\") as pbar:\n",
        "            for i, (inputs, labels) in enumerate(train_loader):\n",
        "                # Move inputs and labels to the device (GPU or CPU)\n",
        "                inputs, labels = inputs.to(device), labels.to(device)\n",
        "\n",
        "                optimizer.zero_grad()\n",
        "                outputs = model(inputs)\n",
        "                loss = criterion(outputs, labels)\n",
        "                loss.backward()\n",
        "                optimizer.step()\n",
        "\n",
        "                running_loss += loss.item()\n",
        "                pbar.set_postfix({'Train Loss': running_loss / (i+1)})\n",
        "                pbar.update(1)\n",
        "\n",
        "        # Evaluate on validation set after each epoch\n",
        "        eval_loss, eval_acc, eval_f1 = evaluate_model(model, eval_loader, criterion)\n",
        "\n",
        "        # Store the results for plotting after all epochs\n",
        "        epoch_accuracies.append(eval_acc)\n",
        "        epoch_f1_scores.append(eval_f1)\n",
        "        epoch_steps.append(epoch + 1)\n",
        "\n",
        "        print(f\"\\nEpoch {epoch+1}: Validation Loss: {eval_loss:.4f}, Accuracy: {eval_acc:.4f}, F1 Score: {eval_f1:.4f}\")\n",
        "\n",
        "        # Save the model with the best evaluation loss\n",
        "        if eval_loss < best_loss:\n",
        "            best_loss = eval_loss\n",
        "            best_model = model.state_dict()  # Save the best model\n",
        "            best_metrics = {'Accuracy': eval_acc, 'F1 Score': eval_f1}\n",
        "            best_epoch = epoch + 1\n",
        "\n",
        "        print(f\"Epoch {epoch+1} completed. Average Train Loss: {running_loss / num_batches:.4f}\")\n",
        "\n",
        "    return epoch_steps, epoch_accuracies, epoch_f1_scores\n",
        "\n",
        "# Function to compare three optimizers and plot the results\n",
        "def compare_optimizers_and_plot(model, train_loader, eval_loader, criterion, epochs=20):\n",
        "    optimizers = ['Adam', 'AdamW', 'SGD']\n",
        "    optimizer_colors = ['blue', 'green', 'red']\n",
        "\n",
        "    # Create lists to store results for each optimizer\n",
        "    all_accuracies = {}\n",
        "    all_f1_scores = {}\n",
        "\n",
        "    for optimizer_name, color in zip(optimizers, optimizer_colors):\n",
        "        # Reset the model before each optimizer is tested\n",
        "        model.apply(lambda m: m.reset_parameters() if hasattr(m, 'reset_parameters') else None)\n",
        "        optimizer = get_optimizer(optimizer_name, model)\n",
        "\n",
        "        # Train and evaluate with the optimizer\n",
        "        epoch_steps, accuracies, f1_scores = train_and_evaluate(model, train_loader, eval_loader, criterion, optimizer, epochs)\n",
        "\n",
        "        # Store results for each optimizer\n",
        "        all_accuracies[optimizer_name] = accuracies\n",
        "        all_f1_scores[optimizer_name] = f1_scores\n",
        "\n",
        "    # Plot the results\n",
        "    fig, ax = plt.subplots(1, 2, figsize=(12, 6))\n",
        "\n",
        "    # Plot accuracy\n",
        "    for optimizer_name, color in zip(optimizers, optimizer_colors):\n",
        "        ax[0].plot(epoch_steps, all_accuracies[optimizer_name], label=f'{optimizer_name} Accuracy', color=color, marker='o')\n",
        "\n",
        "    # Plot F1 score\n",
        "    for optimizer_name, color in zip(optimizers, optimizer_colors):\n",
        "        ax[1].plot(epoch_steps, all_f1_scores[optimizer_name], label=f'{optimizer_name} F1 Score', color=color, marker='o')\n",
        "\n",
        "    # Customize the accuracy plot\n",
        "    ax[0].set_title('Accuracy Over Epochs')\n",
        "    ax[0].set_xlabel('Epoch')\n",
        "    ax[0].set_ylabel('Accuracy')\n",
        "    ax[0].legend()\n",
        "    ax[0].grid(True)\n",
        "\n",
        "    # Customize the F1 score plot\n",
        "    ax[1].set_title('F1 Score Over Epochs')\n",
        "    ax[1].set_xlabel('Epoch')\n",
        "    ax[1].set_ylabel('F1 Score')\n",
        "    ax[1].legend()\n",
        "    ax[1].grid(True)\n",
        "\n",
        "    plt.tight_layout()\n",
        "    plt.show()\n",
        "\n",
        "# Example call to compare optimizers and plot results\n",
        "compare_optimizers_and_plot(model, train_loader, eval_loader, criterion, epochs=20)"
      ],
      "metadata": {
        "id": "P4uOA3u-fy8U",
        "colab": {
          "base_uri": "https://localhost:8080/",
          "height": 1000
        },
        "outputId": "29f233c2-0734-4261-d190-b34a40852aa4"
      },
      "execution_count": null,
      "outputs": [
        {
          "output_type": "stream",
          "name": "stderr",
          "text": [
            "Epoch 1/20: 100%|██████████| 1875/1875 [00:15<00:00, 119.12it/s, Train Loss=0.416]\n"
          ]
        },
        {
          "output_type": "stream",
          "name": "stdout",
          "text": [
            "              precision    recall  f1-score   support\n",
            "\n",
            "           0       0.99      0.98      0.98       980\n",
            "           1       0.98      0.99      0.98      1135\n",
            "           2       0.96      0.96      0.96      1032\n",
            "           3       0.95      0.95      0.95      1010\n",
            "           4       0.96      0.95      0.96       982\n",
            "           5       0.93      0.97      0.95       892\n",
            "           6       0.98      0.96      0.97       958\n",
            "           7       0.95      0.96      0.96      1027\n",
            "           8       0.97      0.94      0.95       974\n",
            "           9       0.94      0.95      0.95      1009\n",
            "\n",
            "    accuracy                           0.96      9999\n",
            "   macro avg       0.96      0.96      0.96      9999\n",
            "weighted avg       0.96      0.96      0.96      9999\n",
            "\n",
            "\n",
            "Epoch 1: Validation Loss: 0.1222, Accuracy: 0.9614, F1 Score: 0.9614\n",
            "Epoch 1 completed. Average Train Loss: 0.4159\n"
          ]
        },
        {
          "output_type": "stream",
          "name": "stderr",
          "text": [
            "Epoch 2/20: 100%|██████████| 1875/1875 [00:16<00:00, 115.24it/s, Train Loss=0.219]\n"
          ]
        },
        {
          "output_type": "stream",
          "name": "stdout",
          "text": [
            "              precision    recall  f1-score   support\n",
            "\n",
            "           0       0.98      0.99      0.98       980\n",
            "           1       0.98      0.99      0.99      1135\n",
            "           2       0.98      0.97      0.98      1032\n",
            "           3       0.95      0.98      0.96      1010\n",
            "           4       0.97      0.96      0.97       982\n",
            "           5       0.99      0.94      0.97       892\n",
            "           6       0.97      0.98      0.98       958\n",
            "           7       0.96      0.97      0.97      1027\n",
            "           8       0.97      0.97      0.97       974\n",
            "           9       0.96      0.96      0.96      1009\n",
            "\n",
            "    accuracy                           0.97      9999\n",
            "   macro avg       0.97      0.97      0.97      9999\n",
            "weighted avg       0.97      0.97      0.97      9999\n",
            "\n",
            "\n",
            "Epoch 2: Validation Loss: 0.0931, Accuracy: 0.9718, F1 Score: 0.9718\n",
            "Epoch 2 completed. Average Train Loss: 0.2187\n"
          ]
        },
        {
          "output_type": "stream",
          "name": "stderr",
          "text": [
            "Epoch 3/20: 100%|██████████| 1875/1875 [00:15<00:00, 117.22it/s, Train Loss=0.181]\n"
          ]
        },
        {
          "output_type": "stream",
          "name": "stdout",
          "text": [
            "              precision    recall  f1-score   support\n",
            "\n",
            "           0       0.98      0.98      0.98       980\n",
            "           1       0.99      0.99      0.99      1135\n",
            "           2       0.99      0.97      0.98      1032\n",
            "           3       0.97      0.98      0.97      1010\n",
            "           4       0.96      0.98      0.97       982\n",
            "           5       0.97      0.98      0.98       892\n",
            "           6       0.98      0.98      0.98       958\n",
            "           7       0.98      0.96      0.97      1027\n",
            "           8       0.96      0.98      0.97       974\n",
            "           9       0.97      0.96      0.96      1009\n",
            "\n",
            "    accuracy                           0.98      9999\n",
            "   macro avg       0.98      0.98      0.98      9999\n",
            "weighted avg       0.98      0.98      0.98      9999\n",
            "\n",
            "\n",
            "Epoch 3: Validation Loss: 0.0804, Accuracy: 0.9754, F1 Score: 0.9754\n",
            "Epoch 3 completed. Average Train Loss: 0.1814\n"
          ]
        },
        {
          "output_type": "stream",
          "name": "stderr",
          "text": [
            "Epoch 4/20: 100%|██████████| 1875/1875 [00:15<00:00, 118.60it/s, Train Loss=0.156]\n"
          ]
        },
        {
          "output_type": "stream",
          "name": "stdout",
          "text": [
            "              precision    recall  f1-score   support\n",
            "\n",
            "           0       0.98      0.99      0.99       980\n",
            "           1       0.99      0.99      0.99      1135\n",
            "           2       0.97      0.98      0.97      1032\n",
            "           3       0.97      0.99      0.98      1010\n",
            "           4       0.98      0.98      0.98       982\n",
            "           5       0.98      0.98      0.98       892\n",
            "           6       0.98      0.98      0.98       958\n",
            "           7       0.98      0.97      0.97      1027\n",
            "           8       0.96      0.98      0.97       974\n",
            "           9       0.98      0.96      0.97      1009\n",
            "\n",
            "    accuracy                           0.98      9999\n",
            "   macro avg       0.98      0.98      0.98      9999\n",
            "weighted avg       0.98      0.98      0.98      9999\n",
            "\n",
            "\n",
            "Epoch 4: Validation Loss: 0.0669, Accuracy: 0.9797, F1 Score: 0.9797\n",
            "Epoch 4 completed. Average Train Loss: 0.1560\n"
          ]
        },
        {
          "output_type": "stream",
          "name": "stderr",
          "text": [
            "Epoch 5/20: 100%|██████████| 1875/1875 [00:16<00:00, 115.22it/s, Train Loss=0.142]\n"
          ]
        },
        {
          "output_type": "stream",
          "name": "stdout",
          "text": [
            "              precision    recall  f1-score   support\n",
            "\n",
            "           0       0.98      0.99      0.98       980\n",
            "           1       0.99      0.99      0.99      1135\n",
            "           2       0.98      0.98      0.98      1032\n",
            "           3       0.97      0.99      0.98      1010\n",
            "           4       0.98      0.97      0.98       982\n",
            "           5       0.99      0.98      0.98       892\n",
            "           6       0.98      0.98      0.98       958\n",
            "           7       0.98      0.97      0.98      1027\n",
            "           8       0.98      0.98      0.98       974\n",
            "           9       0.98      0.97      0.97      1009\n",
            "\n",
            "    accuracy                           0.98      9999\n",
            "   macro avg       0.98      0.98      0.98      9999\n",
            "weighted avg       0.98      0.98      0.98      9999\n",
            "\n",
            "\n",
            "Epoch 5: Validation Loss: 0.0642, Accuracy: 0.9809, F1 Score: 0.9809\n",
            "Epoch 5 completed. Average Train Loss: 0.1417\n"
          ]
        },
        {
          "output_type": "stream",
          "name": "stderr",
          "text": [
            "Epoch 6/20: 100%|██████████| 1875/1875 [00:18<00:00, 101.17it/s, Train Loss=0.127]\n"
          ]
        },
        {
          "output_type": "stream",
          "name": "stdout",
          "text": [
            "              precision    recall  f1-score   support\n",
            "\n",
            "           0       0.99      0.99      0.99       980\n",
            "           1       0.99      0.99      0.99      1135\n",
            "           2       0.97      0.99      0.98      1032\n",
            "           3       0.97      0.98      0.98      1010\n",
            "           4       0.99      0.97      0.98       982\n",
            "           5       0.99      0.97      0.98       892\n",
            "           6       0.99      0.97      0.98       958\n",
            "           7       0.97      0.98      0.97      1027\n",
            "           8       0.98      0.98      0.98       974\n",
            "           9       0.97      0.98      0.97      1009\n",
            "\n",
            "    accuracy                           0.98      9999\n",
            "   macro avg       0.98      0.98      0.98      9999\n",
            "weighted avg       0.98      0.98      0.98      9999\n",
            "\n",
            "\n",
            "Epoch 6: Validation Loss: 0.0646, Accuracy: 0.9808, F1 Score: 0.9808\n",
            "Epoch 6 completed. Average Train Loss: 0.1266\n"
          ]
        },
        {
          "output_type": "stream",
          "name": "stderr",
          "text": [
            "Epoch 7/20: 100%|██████████| 1875/1875 [00:16<00:00, 110.53it/s, Train Loss=0.116]\n"
          ]
        },
        {
          "output_type": "stream",
          "name": "stdout",
          "text": [
            "              precision    recall  f1-score   support\n",
            "\n",
            "           0       0.98      0.99      0.99       980\n",
            "           1       0.99      0.99      0.99      1135\n",
            "           2       0.98      0.99      0.98      1032\n",
            "           3       0.99      0.98      0.98      1010\n",
            "           4       0.98      0.98      0.98       982\n",
            "           5       0.99      0.98      0.98       892\n",
            "           6       0.99      0.99      0.99       958\n",
            "           7       0.98      0.97      0.98      1027\n",
            "           8       0.98      0.98      0.98       974\n",
            "           9       0.98      0.97      0.97      1009\n",
            "\n",
            "    accuracy                           0.98      9999\n",
            "   macro avg       0.98      0.98      0.98      9999\n",
            "weighted avg       0.98      0.98      0.98      9999\n",
            "\n",
            "\n",
            "Epoch 7: Validation Loss: 0.0604, Accuracy: 0.9820, F1 Score: 0.9820\n",
            "Epoch 7 completed. Average Train Loss: 0.1163\n"
          ]
        },
        {
          "output_type": "stream",
          "name": "stderr",
          "text": [
            "Epoch 8/20: 100%|██████████| 1875/1875 [00:16<00:00, 115.47it/s, Train Loss=0.105]\n"
          ]
        },
        {
          "output_type": "stream",
          "name": "stdout",
          "text": [
            "              precision    recall  f1-score   support\n",
            "\n",
            "           0       0.98      0.99      0.99       980\n",
            "           1       0.99      0.99      0.99      1135\n",
            "           2       0.99      0.98      0.98      1032\n",
            "           3       0.98      0.99      0.98      1010\n",
            "           4       0.98      0.98      0.98       982\n",
            "           5       0.99      0.98      0.99       892\n",
            "           6       0.99      0.99      0.99       958\n",
            "           7       0.97      0.99      0.98      1027\n",
            "           8       0.99      0.98      0.98       974\n",
            "           9       0.99      0.97      0.98      1009\n",
            "\n",
            "    accuracy                           0.98      9999\n",
            "   macro avg       0.98      0.98      0.98      9999\n",
            "weighted avg       0.98      0.98      0.98      9999\n",
            "\n",
            "\n",
            "Epoch 8: Validation Loss: 0.0578, Accuracy: 0.9840, F1 Score: 0.9840\n",
            "Epoch 8 completed. Average Train Loss: 0.1049\n"
          ]
        },
        {
          "output_type": "stream",
          "name": "stderr",
          "text": [
            "Epoch 9/20: 100%|██████████| 1875/1875 [00:16<00:00, 116.82it/s, Train Loss=0.0989]\n"
          ]
        },
        {
          "output_type": "stream",
          "name": "stdout",
          "text": [
            "              precision    recall  f1-score   support\n",
            "\n",
            "           0       0.98      0.99      0.99       980\n",
            "           1       0.99      0.99      0.99      1135\n",
            "           2       0.98      0.98      0.98      1032\n",
            "           3       0.98      0.98      0.98      1010\n",
            "           4       0.98      0.98      0.98       982\n",
            "           5       0.98      0.98      0.98       892\n",
            "           6       0.99      0.98      0.99       958\n",
            "           7       0.97      0.99      0.98      1027\n",
            "           8       0.98      0.98      0.98       974\n",
            "           9       0.99      0.96      0.98      1009\n",
            "\n",
            "    accuracy                           0.98      9999\n",
            "   macro avg       0.98      0.98      0.98      9999\n",
            "weighted avg       0.98      0.98      0.98      9999\n",
            "\n",
            "\n",
            "Epoch 9: Validation Loss: 0.0556, Accuracy: 0.9839, F1 Score: 0.9839\n",
            "Epoch 9 completed. Average Train Loss: 0.0989\n"
          ]
        },
        {
          "output_type": "stream",
          "name": "stderr",
          "text": [
            "Epoch 10/20: 100%|██████████| 1875/1875 [00:15<00:00, 117.60it/s, Train Loss=0.0952]\n"
          ]
        },
        {
          "output_type": "stream",
          "name": "stdout",
          "text": [
            "              precision    recall  f1-score   support\n",
            "\n",
            "           0       0.98      0.99      0.99       980\n",
            "           1       0.99      0.99      0.99      1135\n",
            "           2       0.98      0.98      0.98      1032\n",
            "           3       0.98      0.98      0.98      1010\n",
            "           4       0.98      0.97      0.98       982\n",
            "           5       0.99      0.98      0.98       892\n",
            "           6       0.99      0.98      0.98       958\n",
            "           7       0.98      0.99      0.98      1027\n",
            "           8       0.99      0.98      0.98       974\n",
            "           9       0.97      0.98      0.97      1009\n",
            "\n",
            "    accuracy                           0.98      9999\n",
            "   macro avg       0.98      0.98      0.98      9999\n",
            "weighted avg       0.98      0.98      0.98      9999\n",
            "\n",
            "\n",
            "Epoch 10: Validation Loss: 0.0575, Accuracy: 0.9830, F1 Score: 0.9830\n",
            "Epoch 10 completed. Average Train Loss: 0.0952\n"
          ]
        },
        {
          "output_type": "stream",
          "name": "stderr",
          "text": [
            "Epoch 11/20: 100%|██████████| 1875/1875 [00:15<00:00, 117.44it/s, Train Loss=0.0887]\n"
          ]
        },
        {
          "output_type": "stream",
          "name": "stdout",
          "text": [
            "              precision    recall  f1-score   support\n",
            "\n",
            "           0       0.98      0.99      0.99       980\n",
            "           1       0.99      0.99      0.99      1135\n",
            "           2       0.98      0.99      0.98      1032\n",
            "           3       0.99      0.98      0.98      1010\n",
            "           4       0.98      0.98      0.98       982\n",
            "           5       0.98      0.99      0.98       892\n",
            "           6       0.99      0.98      0.98       958\n",
            "           7       0.98      0.97      0.98      1027\n",
            "           8       0.99      0.99      0.99       974\n",
            "           9       0.97      0.98      0.97      1009\n",
            "\n",
            "    accuracy                           0.98      9999\n",
            "   macro avg       0.98      0.98      0.98      9999\n",
            "weighted avg       0.98      0.98      0.98      9999\n",
            "\n",
            "\n",
            "Epoch 11: Validation Loss: 0.0574, Accuracy: 0.9836, F1 Score: 0.9836\n",
            "Epoch 11 completed. Average Train Loss: 0.0887\n"
          ]
        },
        {
          "output_type": "stream",
          "name": "stderr",
          "text": [
            "Epoch 12/20: 100%|██████████| 1875/1875 [00:16<00:00, 115.28it/s, Train Loss=0.083]\n"
          ]
        },
        {
          "output_type": "stream",
          "name": "stdout",
          "text": [
            "              precision    recall  f1-score   support\n",
            "\n",
            "           0       0.98      0.99      0.99       980\n",
            "           1       0.99      0.99      0.99      1135\n",
            "           2       0.98      0.98      0.98      1032\n",
            "           3       0.96      0.99      0.97      1010\n",
            "           4       0.99      0.97      0.98       982\n",
            "           5       0.99      0.98      0.98       892\n",
            "           6       0.99      0.98      0.99       958\n",
            "           7       0.98      0.97      0.98      1027\n",
            "           8       0.99      0.98      0.98       974\n",
            "           9       0.97      0.98      0.98      1009\n",
            "\n",
            "    accuracy                           0.98      9999\n",
            "   macro avg       0.98      0.98      0.98      9999\n",
            "weighted avg       0.98      0.98      0.98      9999\n",
            "\n",
            "\n",
            "Epoch 12: Validation Loss: 0.0590, Accuracy: 0.9824, F1 Score: 0.9824\n",
            "Epoch 12 completed. Average Train Loss: 0.0830\n"
          ]
        },
        {
          "output_type": "stream",
          "name": "stderr",
          "text": [
            "Epoch 13/20: 100%|██████████| 1875/1875 [00:16<00:00, 115.29it/s, Train Loss=0.0784]\n"
          ]
        },
        {
          "output_type": "stream",
          "name": "stdout",
          "text": [
            "              precision    recall  f1-score   support\n",
            "\n",
            "           0       0.99      0.99      0.99       980\n",
            "           1       0.99      0.99      0.99      1135\n",
            "           2       0.99      0.99      0.99      1032\n",
            "           3       0.98      0.99      0.98      1010\n",
            "           4       0.98      0.98      0.98       982\n",
            "           5       0.99      0.98      0.99       892\n",
            "           6       0.99      0.98      0.98       958\n",
            "           7       0.98      0.98      0.98      1027\n",
            "           8       0.99      0.98      0.98       974\n",
            "           9       0.98      0.98      0.98      1009\n",
            "\n",
            "    accuracy                           0.98      9999\n",
            "   macro avg       0.98      0.98      0.98      9999\n",
            "weighted avg       0.98      0.98      0.98      9999\n",
            "\n",
            "\n",
            "Epoch 13: Validation Loss: 0.0528, Accuracy: 0.9847, F1 Score: 0.9847\n",
            "Epoch 13 completed. Average Train Loss: 0.0784\n"
          ]
        },
        {
          "output_type": "stream",
          "name": "stderr",
          "text": [
            "Epoch 14/20: 100%|██████████| 1875/1875 [00:16<00:00, 115.39it/s, Train Loss=0.075]\n"
          ]
        },
        {
          "output_type": "stream",
          "name": "stdout",
          "text": [
            "              precision    recall  f1-score   support\n",
            "\n",
            "           0       0.99      0.99      0.99       980\n",
            "           1       0.99      0.99      0.99      1135\n",
            "           2       0.98      0.99      0.98      1032\n",
            "           3       0.98      0.99      0.98      1010\n",
            "           4       0.97      0.99      0.98       982\n",
            "           5       0.99      0.98      0.98       892\n",
            "           6       0.99      0.99      0.99       958\n",
            "           7       0.99      0.97      0.98      1027\n",
            "           8       0.98      0.98      0.98       974\n",
            "           9       0.98      0.97      0.98      1009\n",
            "\n",
            "    accuracy                           0.98      9999\n",
            "   macro avg       0.98      0.98      0.98      9999\n",
            "weighted avg       0.98      0.98      0.98      9999\n",
            "\n",
            "\n",
            "Epoch 14: Validation Loss: 0.0614, Accuracy: 0.9832, F1 Score: 0.9832\n",
            "Epoch 14 completed. Average Train Loss: 0.0750\n"
          ]
        },
        {
          "output_type": "stream",
          "name": "stderr",
          "text": [
            "Epoch 15/20: 100%|██████████| 1875/1875 [00:17<00:00, 110.20it/s, Train Loss=0.0706]\n"
          ]
        },
        {
          "output_type": "stream",
          "name": "stdout",
          "text": [
            "              precision    recall  f1-score   support\n",
            "\n",
            "           0       0.99      0.99      0.99       980\n",
            "           1       0.99      0.99      0.99      1135\n",
            "           2       0.97      0.99      0.98      1032\n",
            "           3       0.98      0.99      0.98      1010\n",
            "           4       0.99      0.98      0.98       982\n",
            "           5       0.99      0.98      0.98       892\n",
            "           6       0.99      0.98      0.99       958\n",
            "           7       0.98      0.98      0.98      1027\n",
            "           8       0.98      0.98      0.98       974\n",
            "           9       0.98      0.98      0.98      1009\n",
            "\n",
            "    accuracy                           0.98      9999\n",
            "   macro avg       0.98      0.98      0.98      9999\n",
            "weighted avg       0.98      0.98      0.98      9999\n",
            "\n",
            "\n",
            "Epoch 15: Validation Loss: 0.0537, Accuracy: 0.9842, F1 Score: 0.9842\n",
            "Epoch 15 completed. Average Train Loss: 0.0706\n"
          ]
        },
        {
          "output_type": "stream",
          "name": "stderr",
          "text": [
            "Epoch 16/20: 100%|██████████| 1875/1875 [00:16<00:00, 110.33it/s, Train Loss=0.0715]\n"
          ]
        },
        {
          "output_type": "stream",
          "name": "stdout",
          "text": [
            "              precision    recall  f1-score   support\n",
            "\n",
            "           0       0.99      0.99      0.99       980\n",
            "           1       0.99      0.99      0.99      1135\n",
            "           2       0.99      0.99      0.99      1032\n",
            "           3       0.98      0.99      0.98      1010\n",
            "           4       0.98      0.99      0.98       982\n",
            "           5       0.99      0.99      0.99       892\n",
            "           6       0.99      0.98      0.99       958\n",
            "           7       0.99      0.98      0.98      1027\n",
            "           8       0.98      0.98      0.98       974\n",
            "           9       0.98      0.97      0.97      1009\n",
            "\n",
            "    accuracy                           0.98      9999\n",
            "   macro avg       0.98      0.98      0.98      9999\n",
            "weighted avg       0.98      0.98      0.98      9999\n",
            "\n",
            "\n",
            "Epoch 16: Validation Loss: 0.0500, Accuracy: 0.9849, F1 Score: 0.9849\n",
            "Epoch 16 completed. Average Train Loss: 0.0715\n"
          ]
        },
        {
          "output_type": "stream",
          "name": "stderr",
          "text": [
            "Epoch 17/20: 100%|██████████| 1875/1875 [00:16<00:00, 112.58it/s, Train Loss=0.0644]\n"
          ]
        },
        {
          "output_type": "stream",
          "name": "stdout",
          "text": [
            "              precision    recall  f1-score   support\n",
            "\n",
            "           0       0.98      0.99      0.99       980\n",
            "           1       0.99      0.99      0.99      1135\n",
            "           2       0.99      0.99      0.99      1032\n",
            "           3       0.99      0.98      0.99      1010\n",
            "           4       0.98      0.98      0.98       982\n",
            "           5       0.99      0.98      0.99       892\n",
            "           6       0.99      0.98      0.99       958\n",
            "           7       0.98      0.98      0.98      1027\n",
            "           8       0.99      0.98      0.99       974\n",
            "           9       0.98      0.98      0.98      1009\n",
            "\n",
            "    accuracy                           0.99      9999\n",
            "   macro avg       0.99      0.98      0.99      9999\n",
            "weighted avg       0.99      0.99      0.99      9999\n",
            "\n",
            "\n",
            "Epoch 17: Validation Loss: 0.0510, Accuracy: 0.9851, F1 Score: 0.9851\n",
            "Epoch 17 completed. Average Train Loss: 0.0644\n"
          ]
        },
        {
          "output_type": "stream",
          "name": "stderr",
          "text": [
            "Epoch 18/20: 100%|██████████| 1875/1875 [00:16<00:00, 113.98it/s, Train Loss=0.0632]\n"
          ]
        },
        {
          "output_type": "stream",
          "name": "stdout",
          "text": [
            "              precision    recall  f1-score   support\n",
            "\n",
            "           0       0.98      0.99      0.99       980\n",
            "           1       0.99      0.99      0.99      1135\n",
            "           2       0.99      0.99      0.99      1032\n",
            "           3       0.98      0.99      0.99      1010\n",
            "           4       0.99      0.98      0.98       982\n",
            "           5       0.99      0.98      0.99       892\n",
            "           6       0.99      0.98      0.99       958\n",
            "           7       0.97      0.98      0.98      1027\n",
            "           8       0.98      0.99      0.99       974\n",
            "           9       0.99      0.98      0.98      1009\n",
            "\n",
            "    accuracy                           0.99      9999\n",
            "   macro avg       0.99      0.99      0.99      9999\n",
            "weighted avg       0.99      0.99      0.99      9999\n",
            "\n",
            "\n",
            "Epoch 18: Validation Loss: 0.0492, Accuracy: 0.9857, F1 Score: 0.9857\n",
            "Epoch 18 completed. Average Train Loss: 0.0632\n"
          ]
        },
        {
          "output_type": "stream",
          "name": "stderr",
          "text": [
            "Epoch 19/20: 100%|██████████| 1875/1875 [00:16<00:00, 114.80it/s, Train Loss=0.0621]\n"
          ]
        },
        {
          "output_type": "stream",
          "name": "stdout",
          "text": [
            "              precision    recall  f1-score   support\n",
            "\n",
            "           0       0.99      0.99      0.99       980\n",
            "           1       0.99      0.99      0.99      1135\n",
            "           2       0.99      0.99      0.99      1032\n",
            "           3       0.98      0.99      0.99      1010\n",
            "           4       0.98      0.98      0.98       982\n",
            "           5       0.99      0.98      0.99       892\n",
            "           6       0.99      0.99      0.99       958\n",
            "           7       0.98      0.97      0.98      1027\n",
            "           8       0.98      0.99      0.98       974\n",
            "           9       0.98      0.97      0.98      1009\n",
            "\n",
            "    accuracy                           0.98      9999\n",
            "   macro avg       0.99      0.98      0.98      9999\n",
            "weighted avg       0.98      0.98      0.98      9999\n",
            "\n",
            "\n",
            "Epoch 19: Validation Loss: 0.0502, Accuracy: 0.9850, F1 Score: 0.9850\n",
            "Epoch 19 completed. Average Train Loss: 0.0621\n"
          ]
        },
        {
          "output_type": "stream",
          "name": "stderr",
          "text": [
            "Epoch 20/20: 100%|██████████| 1875/1875 [00:16<00:00, 115.04it/s, Train Loss=0.0595]\n"
          ]
        },
        {
          "output_type": "stream",
          "name": "stdout",
          "text": [
            "              precision    recall  f1-score   support\n",
            "\n",
            "           0       0.99      0.99      0.99       980\n",
            "           1       0.99      0.99      0.99      1135\n",
            "           2       0.98      0.99      0.99      1032\n",
            "           3       0.97      0.99      0.98      1010\n",
            "           4       0.98      0.99      0.98       982\n",
            "           5       0.99      0.98      0.98       892\n",
            "           6       0.99      0.99      0.99       958\n",
            "           7       0.99      0.97      0.98      1027\n",
            "           8       0.98      0.98      0.98       974\n",
            "           9       0.98      0.97      0.98      1009\n",
            "\n",
            "    accuracy                           0.98      9999\n",
            "   macro avg       0.98      0.98      0.98      9999\n",
            "weighted avg       0.98      0.98      0.98      9999\n",
            "\n",
            "\n",
            "Epoch 20: Validation Loss: 0.0482, Accuracy: 0.9848, F1 Score: 0.9848\n",
            "Epoch 20 completed. Average Train Loss: 0.0595\n"
          ]
        },
        {
          "output_type": "stream",
          "name": "stderr",
          "text": [
            "Epoch 1/20: 100%|██████████| 1875/1875 [00:16<00:00, 114.75it/s, Train Loss=0.412]\n"
          ]
        },
        {
          "output_type": "stream",
          "name": "stdout",
          "text": [
            "              precision    recall  f1-score   support\n",
            "\n",
            "           0       0.97      0.99      0.98       980\n",
            "           1       0.97      0.99      0.98      1135\n",
            "           2       0.97      0.97      0.97      1032\n",
            "           3       0.96      0.96      0.96      1010\n",
            "           4       0.96      0.97      0.97       982\n",
            "           5       0.95      0.97      0.96       892\n",
            "           6       0.98      0.97      0.97       958\n",
            "           7       0.98      0.94      0.96      1027\n",
            "           8       0.96      0.97      0.96       974\n",
            "           9       0.97      0.93      0.95      1009\n",
            "\n",
            "    accuracy                           0.97      9999\n",
            "   macro avg       0.97      0.97      0.97      9999\n",
            "weighted avg       0.97      0.97      0.97      9999\n",
            "\n",
            "\n",
            "Epoch 1: Validation Loss: 0.1148, Accuracy: 0.9658, F1 Score: 0.9657\n",
            "Epoch 1 completed. Average Train Loss: 0.4116\n"
          ]
        },
        {
          "output_type": "stream",
          "name": "stderr",
          "text": [
            "Epoch 2/20: 100%|██████████| 1875/1875 [00:16<00:00, 113.37it/s, Train Loss=0.221]\n"
          ]
        },
        {
          "output_type": "stream",
          "name": "stdout",
          "text": [
            "              precision    recall  f1-score   support\n",
            "\n",
            "           0       0.97      0.99      0.98       980\n",
            "           1       0.98      0.99      0.99      1135\n",
            "           2       0.97      0.97      0.97      1032\n",
            "           3       0.97      0.97      0.97      1010\n",
            "           4       0.97      0.97      0.97       982\n",
            "           5       0.98      0.97      0.97       892\n",
            "           6       0.98      0.98      0.98       958\n",
            "           7       0.97      0.97      0.97      1027\n",
            "           8       0.97      0.97      0.97       974\n",
            "           9       0.97      0.96      0.96      1009\n",
            "\n",
            "    accuracy                           0.97      9999\n",
            "   macro avg       0.97      0.97      0.97      9999\n",
            "weighted avg       0.97      0.97      0.97      9999\n",
            "\n",
            "\n",
            "Epoch 2: Validation Loss: 0.0919, Accuracy: 0.9731, F1 Score: 0.9731\n",
            "Epoch 2 completed. Average Train Loss: 0.2211\n"
          ]
        },
        {
          "output_type": "stream",
          "name": "stderr",
          "text": [
            "Epoch 3/20: 100%|██████████| 1875/1875 [00:16<00:00, 116.24it/s, Train Loss=0.183]\n"
          ]
        },
        {
          "output_type": "stream",
          "name": "stdout",
          "text": [
            "              precision    recall  f1-score   support\n",
            "\n",
            "           0       0.97      0.99      0.98       980\n",
            "           1       0.99      0.99      0.99      1135\n",
            "           2       0.95      0.99      0.97      1032\n",
            "           3       0.98      0.97      0.97      1010\n",
            "           4       0.98      0.97      0.98       982\n",
            "           5       0.98      0.97      0.98       892\n",
            "           6       0.99      0.97      0.98       958\n",
            "           7       0.98      0.96      0.97      1027\n",
            "           8       0.96      0.98      0.97       974\n",
            "           9       0.98      0.96      0.97      1009\n",
            "\n",
            "    accuracy                           0.98      9999\n",
            "   macro avg       0.98      0.98      0.98      9999\n",
            "weighted avg       0.98      0.98      0.98      9999\n",
            "\n",
            "\n",
            "Epoch 3: Validation Loss: 0.0818, Accuracy: 0.9758, F1 Score: 0.9758\n",
            "Epoch 3 completed. Average Train Loss: 0.1827\n"
          ]
        },
        {
          "output_type": "stream",
          "name": "stderr",
          "text": [
            "Epoch 4/20: 100%|██████████| 1875/1875 [00:15<00:00, 118.82it/s, Train Loss=0.16]\n"
          ]
        },
        {
          "output_type": "stream",
          "name": "stdout",
          "text": [
            "              precision    recall  f1-score   support\n",
            "\n",
            "           0       0.98      0.99      0.98       980\n",
            "           1       0.98      1.00      0.99      1135\n",
            "           2       0.99      0.97      0.98      1032\n",
            "           3       0.99      0.96      0.97      1010\n",
            "           4       0.98      0.97      0.98       982\n",
            "           5       0.97      0.98      0.97       892\n",
            "           6       0.97      0.98      0.98       958\n",
            "           7       0.97      0.98      0.97      1027\n",
            "           8       0.97      0.98      0.98       974\n",
            "           9       0.97      0.97      0.97      1009\n",
            "\n",
            "    accuracy                           0.98      9999\n",
            "   macro avg       0.98      0.98      0.98      9999\n",
            "weighted avg       0.98      0.98      0.98      9999\n",
            "\n",
            "\n",
            "Epoch 4: Validation Loss: 0.0722, Accuracy: 0.9779, F1 Score: 0.9779\n",
            "Epoch 4 completed. Average Train Loss: 0.1599\n"
          ]
        },
        {
          "output_type": "stream",
          "name": "stderr",
          "text": [
            "Epoch 5/20: 100%|██████████| 1875/1875 [00:17<00:00, 107.79it/s, Train Loss=0.142]\n"
          ]
        },
        {
          "output_type": "stream",
          "name": "stdout",
          "text": [
            "              precision    recall  f1-score   support\n",
            "\n",
            "           0       0.98      0.99      0.98       980\n",
            "           1       0.99      0.99      0.99      1135\n",
            "           2       0.98      0.98      0.98      1032\n",
            "           3       0.98      0.98      0.98      1010\n",
            "           4       0.98      0.98      0.98       982\n",
            "           5       0.99      0.97      0.98       892\n",
            "           6       0.98      0.99      0.98       958\n",
            "           7       0.98      0.97      0.97      1027\n",
            "           8       0.98      0.98      0.98       974\n",
            "           9       0.97      0.97      0.97      1009\n",
            "\n",
            "    accuracy                           0.98      9999\n",
            "   macro avg       0.98      0.98      0.98      9999\n",
            "weighted avg       0.98      0.98      0.98      9999\n",
            "\n",
            "\n",
            "Epoch 5: Validation Loss: 0.0668, Accuracy: 0.9802, F1 Score: 0.9802\n",
            "Epoch 5 completed. Average Train Loss: 0.1423\n"
          ]
        },
        {
          "output_type": "stream",
          "name": "stderr",
          "text": [
            "Epoch 6/20: 100%|██████████| 1875/1875 [00:16<00:00, 114.51it/s, Train Loss=0.129]\n"
          ]
        },
        {
          "output_type": "stream",
          "name": "stdout",
          "text": [
            "              precision    recall  f1-score   support\n",
            "\n",
            "           0       0.99      0.99      0.99       980\n",
            "           1       0.98      0.99      0.99      1135\n",
            "           2       0.98      0.99      0.98      1032\n",
            "           3       0.98      0.98      0.98      1010\n",
            "           4       0.98      0.97      0.98       982\n",
            "           5       0.98      0.97      0.98       892\n",
            "           6       0.98      0.99      0.98       958\n",
            "           7       0.98      0.97      0.98      1027\n",
            "           8       0.98      0.98      0.98       974\n",
            "           9       0.97      0.97      0.97      1009\n",
            "\n",
            "    accuracy                           0.98      9999\n",
            "   macro avg       0.98      0.98      0.98      9999\n",
            "weighted avg       0.98      0.98      0.98      9999\n",
            "\n",
            "\n",
            "Epoch 6: Validation Loss: 0.0663, Accuracy: 0.9806, F1 Score: 0.9806\n",
            "Epoch 6 completed. Average Train Loss: 0.1292\n"
          ]
        },
        {
          "output_type": "stream",
          "name": "stderr",
          "text": [
            "Epoch 7/20: 100%|██████████| 1875/1875 [00:16<00:00, 116.42it/s, Train Loss=0.117]\n"
          ]
        },
        {
          "output_type": "stream",
          "name": "stdout",
          "text": [
            "              precision    recall  f1-score   support\n",
            "\n",
            "           0       0.99      0.99      0.99       980\n",
            "           1       0.99      0.99      0.99      1135\n",
            "           2       0.98      0.99      0.98      1032\n",
            "           3       0.98      0.98      0.98      1010\n",
            "           4       0.99      0.98      0.99       982\n",
            "           5       0.99      0.98      0.98       892\n",
            "           6       0.98      0.98      0.98       958\n",
            "           7       0.98      0.98      0.98      1027\n",
            "           8       0.98      0.98      0.98       974\n",
            "           9       0.97      0.98      0.98      1009\n",
            "\n",
            "    accuracy                           0.98      9999\n",
            "   macro avg       0.98      0.98      0.98      9999\n",
            "weighted avg       0.98      0.98      0.98      9999\n",
            "\n",
            "\n",
            "Epoch 7: Validation Loss: 0.0546, Accuracy: 0.9835, F1 Score: 0.9835\n",
            "Epoch 7 completed. Average Train Loss: 0.1168\n"
          ]
        },
        {
          "output_type": "stream",
          "name": "stderr",
          "text": [
            "Epoch 8/20: 100%|██████████| 1875/1875 [00:16<00:00, 116.38it/s, Train Loss=0.112]\n"
          ]
        },
        {
          "output_type": "stream",
          "name": "stdout",
          "text": [
            "              precision    recall  f1-score   support\n",
            "\n",
            "           0       0.98      0.99      0.99       980\n",
            "           1       0.99      1.00      0.99      1135\n",
            "           2       0.99      0.98      0.98      1032\n",
            "           3       0.98      0.98      0.98      1010\n",
            "           4       0.99      0.97      0.98       982\n",
            "           5       0.99      0.98      0.98       892\n",
            "           6       0.98      0.99      0.98       958\n",
            "           7       0.98      0.98      0.98      1027\n",
            "           8       0.98      0.99      0.98       974\n",
            "           9       0.98      0.97      0.97      1009\n",
            "\n",
            "    accuracy                           0.98      9999\n",
            "   macro avg       0.98      0.98      0.98      9999\n",
            "weighted avg       0.98      0.98      0.98      9999\n",
            "\n",
            "\n",
            "Epoch 8: Validation Loss: 0.0565, Accuracy: 0.9832, F1 Score: 0.9832\n",
            "Epoch 8 completed. Average Train Loss: 0.1121\n"
          ]
        },
        {
          "output_type": "stream",
          "name": "stderr",
          "text": [
            "Epoch 9/20: 100%|██████████| 1875/1875 [00:16<00:00, 115.78it/s, Train Loss=0.105]\n"
          ]
        },
        {
          "output_type": "stream",
          "name": "stdout",
          "text": [
            "              precision    recall  f1-score   support\n",
            "\n",
            "           0       0.98      0.99      0.99       980\n",
            "           1       0.99      0.99      0.99      1135\n",
            "           2       0.99      0.98      0.99      1032\n",
            "           3       0.99      0.98      0.98      1010\n",
            "           4       0.98      0.98      0.98       982\n",
            "           5       0.99      0.97      0.98       892\n",
            "           6       0.98      0.98      0.98       958\n",
            "           7       0.98      0.98      0.98      1027\n",
            "           8       0.97      0.98      0.98       974\n",
            "           9       0.97      0.98      0.97      1009\n",
            "\n",
            "    accuracy                           0.98      9999\n",
            "   macro avg       0.98      0.98      0.98      9999\n",
            "weighted avg       0.98      0.98      0.98      9999\n",
            "\n",
            "\n",
            "Epoch 9: Validation Loss: 0.0582, Accuracy: 0.9819, F1 Score: 0.9819\n",
            "Epoch 9 completed. Average Train Loss: 0.1045\n"
          ]
        },
        {
          "output_type": "stream",
          "name": "stderr",
          "text": [
            "Epoch 10/20: 100%|██████████| 1875/1875 [00:16<00:00, 116.33it/s, Train Loss=0.0934]\n"
          ]
        },
        {
          "output_type": "stream",
          "name": "stdout",
          "text": [
            "              precision    recall  f1-score   support\n",
            "\n",
            "           0       0.99      0.99      0.99       980\n",
            "           1       0.99      0.99      0.99      1135\n",
            "           2       0.98      0.99      0.99      1032\n",
            "           3       0.99      0.98      0.98      1010\n",
            "           4       0.97      0.98      0.98       982\n",
            "           5       0.99      0.98      0.98       892\n",
            "           6       0.98      0.99      0.98       958\n",
            "           7       0.97      0.99      0.98      1027\n",
            "           8       0.99      0.98      0.98       974\n",
            "           9       0.98      0.98      0.98      1009\n",
            "\n",
            "    accuracy                           0.98      9999\n",
            "   macro avg       0.98      0.98      0.98      9999\n",
            "weighted avg       0.98      0.98      0.98      9999\n",
            "\n",
            "\n",
            "Epoch 10: Validation Loss: 0.0578, Accuracy: 0.9837, F1 Score: 0.9837\n",
            "Epoch 10 completed. Average Train Loss: 0.0934\n"
          ]
        },
        {
          "output_type": "stream",
          "name": "stderr",
          "text": [
            "Epoch 11/20: 100%|██████████| 1875/1875 [00:16<00:00, 116.90it/s, Train Loss=0.0912]\n"
          ]
        },
        {
          "output_type": "stream",
          "name": "stdout",
          "text": [
            "              precision    recall  f1-score   support\n",
            "\n",
            "           0       0.98      1.00      0.99       980\n",
            "           1       0.99      1.00      0.99      1135\n",
            "           2       0.99      0.99      0.99      1032\n",
            "           3       0.98      0.99      0.99      1010\n",
            "           4       0.99      0.98      0.98       982\n",
            "           5       1.00      0.98      0.99       892\n",
            "           6       0.98      0.99      0.99       958\n",
            "           7       0.98      0.98      0.98      1027\n",
            "           8       0.99      0.98      0.99       974\n",
            "           9       0.97      0.98      0.98      1009\n",
            "\n",
            "    accuracy                           0.99      9999\n",
            "   macro avg       0.99      0.99      0.99      9999\n",
            "weighted avg       0.99      0.99      0.99      9999\n",
            "\n",
            "\n",
            "Epoch 11: Validation Loss: 0.0495, Accuracy: 0.9853, F1 Score: 0.9853\n",
            "Epoch 11 completed. Average Train Loss: 0.0912\n"
          ]
        },
        {
          "output_type": "stream",
          "name": "stderr",
          "text": [
            "Epoch 12/20: 100%|██████████| 1875/1875 [00:15<00:00, 118.31it/s, Train Loss=0.0838]\n"
          ]
        },
        {
          "output_type": "stream",
          "name": "stdout",
          "text": [
            "              precision    recall  f1-score   support\n",
            "\n",
            "           0       0.99      0.99      0.99       980\n",
            "           1       0.99      0.99      0.99      1135\n",
            "           2       0.98      0.99      0.99      1032\n",
            "           3       0.99      0.98      0.98      1010\n",
            "           4       0.98      0.98      0.98       982\n",
            "           5       0.98      0.98      0.98       892\n",
            "           6       0.98      0.99      0.98       958\n",
            "           7       0.98      0.97      0.98      1027\n",
            "           8       0.98      0.98      0.98       974\n",
            "           9       0.97      0.98      0.98      1009\n",
            "\n",
            "    accuracy                           0.98      9999\n",
            "   macro avg       0.98      0.98      0.98      9999\n",
            "weighted avg       0.98      0.98      0.98      9999\n",
            "\n",
            "\n",
            "Epoch 12: Validation Loss: 0.0558, Accuracy: 0.9828, F1 Score: 0.9828\n",
            "Epoch 12 completed. Average Train Loss: 0.0838\n"
          ]
        },
        {
          "output_type": "stream",
          "name": "stderr",
          "text": [
            "Epoch 13/20: 100%|██████████| 1875/1875 [00:16<00:00, 114.68it/s, Train Loss=0.0845]\n"
          ]
        },
        {
          "output_type": "stream",
          "name": "stdout",
          "text": [
            "              precision    recall  f1-score   support\n",
            "\n",
            "           0       0.98      1.00      0.99       980\n",
            "           1       0.99      0.99      0.99      1135\n",
            "           2       0.99      0.99      0.99      1032\n",
            "           3       0.98      0.98      0.98      1010\n",
            "           4       0.99      0.98      0.99       982\n",
            "           5       0.99      0.97      0.98       892\n",
            "           6       0.99      0.99      0.99       958\n",
            "           7       0.97      0.99      0.98      1027\n",
            "           8       0.98      0.99      0.99       974\n",
            "           9       0.98      0.98      0.98      1009\n",
            "\n",
            "    accuracy                           0.98      9999\n",
            "   macro avg       0.99      0.98      0.98      9999\n",
            "weighted avg       0.99      0.98      0.98      9999\n",
            "\n",
            "\n",
            "Epoch 13: Validation Loss: 0.0486, Accuracy: 0.9850, F1 Score: 0.9850\n",
            "Epoch 13 completed. Average Train Loss: 0.0845\n"
          ]
        },
        {
          "output_type": "stream",
          "name": "stderr",
          "text": [
            "Epoch 14/20: 100%|██████████| 1875/1875 [00:17<00:00, 108.86it/s, Train Loss=0.0778]\n"
          ]
        },
        {
          "output_type": "stream",
          "name": "stdout",
          "text": [
            "              precision    recall  f1-score   support\n",
            "\n",
            "           0       0.99      0.99      0.99       980\n",
            "           1       0.99      0.99      0.99      1135\n",
            "           2       0.98      0.99      0.99      1032\n",
            "           3       0.99      0.99      0.99      1010\n",
            "           4       0.98      0.99      0.98       982\n",
            "           5       0.98      0.98      0.98       892\n",
            "           6       0.99      0.99      0.99       958\n",
            "           7       0.98      0.98      0.98      1027\n",
            "           8       0.99      0.98      0.98       974\n",
            "           9       0.99      0.97      0.98      1009\n",
            "\n",
            "    accuracy                           0.99      9999\n",
            "   macro avg       0.99      0.99      0.99      9999\n",
            "weighted avg       0.99      0.99      0.99      9999\n",
            "\n",
            "\n",
            "Epoch 14: Validation Loss: 0.0497, Accuracy: 0.9851, F1 Score: 0.9851\n",
            "Epoch 14 completed. Average Train Loss: 0.0778\n"
          ]
        },
        {
          "output_type": "stream",
          "name": "stderr",
          "text": [
            "Epoch 15/20: 100%|██████████| 1875/1875 [00:16<00:00, 110.54it/s, Train Loss=0.079]\n"
          ]
        },
        {
          "output_type": "stream",
          "name": "stdout",
          "text": [
            "              precision    recall  f1-score   support\n",
            "\n",
            "           0       0.99      0.99      0.99       980\n",
            "           1       0.99      0.99      0.99      1135\n",
            "           2       0.98      0.97      0.98      1032\n",
            "           3       0.97      0.98      0.98      1010\n",
            "           4       0.98      0.99      0.98       982\n",
            "           5       0.99      0.98      0.98       892\n",
            "           6       0.99      0.98      0.99       958\n",
            "           7       0.98      0.98      0.98      1027\n",
            "           8       0.98      0.98      0.98       974\n",
            "           9       0.98      0.98      0.98      1009\n",
            "\n",
            "    accuracy                           0.98      9999\n",
            "   macro avg       0.98      0.98      0.98      9999\n",
            "weighted avg       0.98      0.98      0.98      9999\n",
            "\n",
            "\n",
            "Epoch 15: Validation Loss: 0.0545, Accuracy: 0.9831, F1 Score: 0.9831\n",
            "Epoch 15 completed. Average Train Loss: 0.0790\n"
          ]
        },
        {
          "output_type": "stream",
          "name": "stderr",
          "text": [
            "Epoch 16/20: 100%|██████████| 1875/1875 [00:16<00:00, 113.23it/s, Train Loss=0.0717]\n"
          ]
        },
        {
          "output_type": "stream",
          "name": "stdout",
          "text": [
            "              precision    recall  f1-score   support\n",
            "\n",
            "           0       0.99      0.99      0.99       980\n",
            "           1       0.99      0.99      0.99      1135\n",
            "           2       0.98      0.99      0.98      1032\n",
            "           3       0.98      0.98      0.98      1010\n",
            "           4       0.99      0.97      0.98       982\n",
            "           5       0.99      0.98      0.99       892\n",
            "           6       0.99      0.99      0.99       958\n",
            "           7       0.98      0.98      0.98      1027\n",
            "           8       0.98      0.99      0.98       974\n",
            "           9       0.97      0.99      0.98      1009\n",
            "\n",
            "    accuracy                           0.98      9999\n",
            "   macro avg       0.99      0.98      0.98      9999\n",
            "weighted avg       0.99      0.98      0.98      9999\n",
            "\n",
            "\n",
            "Epoch 16: Validation Loss: 0.0506, Accuracy: 0.9850, F1 Score: 0.9850\n",
            "Epoch 16 completed. Average Train Loss: 0.0717\n"
          ]
        },
        {
          "output_type": "stream",
          "name": "stderr",
          "text": [
            "Epoch 17/20: 100%|██████████| 1875/1875 [00:16<00:00, 115.16it/s, Train Loss=0.0723]\n"
          ]
        },
        {
          "output_type": "stream",
          "name": "stdout",
          "text": [
            "              precision    recall  f1-score   support\n",
            "\n",
            "           0       0.99      0.99      0.99       980\n",
            "           1       0.99      0.99      0.99      1135\n",
            "           2       0.98      0.99      0.98      1032\n",
            "           3       0.99      0.99      0.99      1010\n",
            "           4       0.98      0.99      0.99       982\n",
            "           5       0.99      0.98      0.99       892\n",
            "           6       0.99      0.99      0.99       958\n",
            "           7       0.98      0.99      0.98      1027\n",
            "           8       0.99      0.98      0.98       974\n",
            "           9       0.98      0.98      0.98      1009\n",
            "\n",
            "    accuracy                           0.99      9999\n",
            "   macro avg       0.99      0.99      0.99      9999\n",
            "weighted avg       0.99      0.99      0.99      9999\n",
            "\n",
            "\n",
            "Epoch 17: Validation Loss: 0.0470, Accuracy: 0.9856, F1 Score: 0.9856\n",
            "Epoch 17 completed. Average Train Loss: 0.0723\n"
          ]
        },
        {
          "output_type": "stream",
          "name": "stderr",
          "text": [
            "Epoch 18/20: 100%|██████████| 1875/1875 [00:16<00:00, 116.57it/s, Train Loss=0.0694]\n"
          ]
        },
        {
          "output_type": "stream",
          "name": "stdout",
          "text": [
            "              precision    recall  f1-score   support\n",
            "\n",
            "           0       0.99      0.99      0.99       980\n",
            "           1       0.99      1.00      0.99      1135\n",
            "           2       0.99      0.99      0.99      1032\n",
            "           3       0.98      0.99      0.99      1010\n",
            "           4       0.99      0.98      0.99       982\n",
            "           5       1.00      0.98      0.99       892\n",
            "           6       0.98      0.99      0.99       958\n",
            "           7       0.98      0.98      0.98      1027\n",
            "           8       0.99      0.98      0.99       974\n",
            "           9       0.98      0.98      0.98      1009\n",
            "\n",
            "    accuracy                           0.99      9999\n",
            "   macro avg       0.99      0.99      0.99      9999\n",
            "weighted avg       0.99      0.99      0.99      9999\n",
            "\n",
            "\n",
            "Epoch 18: Validation Loss: 0.0486, Accuracy: 0.9865, F1 Score: 0.9865\n",
            "Epoch 18 completed. Average Train Loss: 0.0694\n"
          ]
        },
        {
          "output_type": "stream",
          "name": "stderr",
          "text": [
            "Epoch 19/20: 100%|██████████| 1875/1875 [00:16<00:00, 114.73it/s, Train Loss=0.0653]\n"
          ]
        },
        {
          "output_type": "stream",
          "name": "stdout",
          "text": [
            "              precision    recall  f1-score   support\n",
            "\n",
            "           0       0.98      0.99      0.99       980\n",
            "           1       0.99      0.99      0.99      1135\n",
            "           2       0.98      0.99      0.99      1032\n",
            "           3       0.99      0.99      0.99      1010\n",
            "           4       0.99      0.98      0.98       982\n",
            "           5       0.99      0.99      0.99       892\n",
            "           6       0.99      0.99      0.99       958\n",
            "           7       0.98      0.98      0.98      1027\n",
            "           8       0.99      0.98      0.99       974\n",
            "           9       0.98      0.97      0.98      1009\n",
            "\n",
            "    accuracy                           0.99      9999\n",
            "   macro avg       0.99      0.99      0.99      9999\n",
            "weighted avg       0.99      0.99      0.99      9999\n",
            "\n",
            "\n",
            "Epoch 19: Validation Loss: 0.0512, Accuracy: 0.9852, F1 Score: 0.9852\n",
            "Epoch 19 completed. Average Train Loss: 0.0653\n"
          ]
        },
        {
          "output_type": "stream",
          "name": "stderr",
          "text": [
            "Epoch 20/20: 100%|██████████| 1875/1875 [00:16<00:00, 112.62it/s, Train Loss=0.0643]\n"
          ]
        },
        {
          "output_type": "stream",
          "name": "stdout",
          "text": [
            "              precision    recall  f1-score   support\n",
            "\n",
            "           0       0.98      0.99      0.99       980\n",
            "           1       0.99      0.99      0.99      1135\n",
            "           2       0.98      0.99      0.99      1032\n",
            "           3       0.99      0.99      0.99      1010\n",
            "           4       0.98      0.99      0.98       982\n",
            "           5       0.99      0.99      0.99       892\n",
            "           6       0.99      0.99      0.99       958\n",
            "           7       0.99      0.97      0.98      1027\n",
            "           8       0.99      0.99      0.99       974\n",
            "           9       0.98      0.98      0.98      1009\n",
            "\n",
            "    accuracy                           0.99      9999\n",
            "   macro avg       0.99      0.99      0.99      9999\n",
            "weighted avg       0.99      0.99      0.99      9999\n",
            "\n",
            "\n",
            "Epoch 20: Validation Loss: 0.0469, Accuracy: 0.9862, F1 Score: 0.9862\n",
            "Epoch 20 completed. Average Train Loss: 0.0643\n"
          ]
        },
        {
          "output_type": "stream",
          "name": "stderr",
          "text": [
            "Epoch 1/20: 100%|██████████| 1875/1875 [00:15<00:00, 118.93it/s, Train Loss=0.718]\n"
          ]
        },
        {
          "output_type": "stream",
          "name": "stdout",
          "text": [
            "              precision    recall  f1-score   support\n",
            "\n",
            "           0       0.95      0.98      0.97       980\n",
            "           1       0.98      0.98      0.98      1135\n",
            "           2       0.96      0.94      0.95      1032\n",
            "           3       0.91      0.96      0.93      1010\n",
            "           4       0.94      0.94      0.94       982\n",
            "           5       0.96      0.90      0.93       892\n",
            "           6       0.94      0.97      0.95       958\n",
            "           7       0.96      0.93      0.94      1027\n",
            "           8       0.95      0.93      0.94       974\n",
            "           9       0.93      0.93      0.93      1009\n",
            "\n",
            "    accuracy                           0.95      9999\n",
            "   macro avg       0.95      0.95      0.95      9999\n",
            "weighted avg       0.95      0.95      0.95      9999\n",
            "\n",
            "\n",
            "Epoch 1: Validation Loss: 0.1800, Accuracy: 0.9476, F1 Score: 0.9475\n",
            "Epoch 1 completed. Average Train Loss: 0.7182\n"
          ]
        },
        {
          "output_type": "stream",
          "name": "stderr",
          "text": [
            "Epoch 2/20: 100%|██████████| 1875/1875 [00:15<00:00, 120.61it/s, Train Loss=0.343]\n"
          ]
        },
        {
          "output_type": "stream",
          "name": "stdout",
          "text": [
            "              precision    recall  f1-score   support\n",
            "\n",
            "           0       0.97      0.98      0.98       980\n",
            "           1       0.98      0.99      0.99      1135\n",
            "           2       0.97      0.96      0.97      1032\n",
            "           3       0.96      0.97      0.96      1010\n",
            "           4       0.96      0.96      0.96       982\n",
            "           5       0.97      0.94      0.95       892\n",
            "           6       0.95      0.98      0.96       958\n",
            "           7       0.95      0.96      0.96      1027\n",
            "           8       0.97      0.96      0.96       974\n",
            "           9       0.95      0.94      0.95      1009\n",
            "\n",
            "    accuracy                           0.96      9999\n",
            "   macro avg       0.96      0.96      0.96      9999\n",
            "weighted avg       0.96      0.96      0.96      9999\n",
            "\n",
            "\n",
            "Epoch 2: Validation Loss: 0.1235, Accuracy: 0.9635, F1 Score: 0.9635\n",
            "Epoch 2 completed. Average Train Loss: 0.3434\n"
          ]
        },
        {
          "output_type": "stream",
          "name": "stderr",
          "text": [
            "Epoch 3/20: 100%|██████████| 1875/1875 [00:15<00:00, 120.39it/s, Train Loss=0.275]\n"
          ]
        },
        {
          "output_type": "stream",
          "name": "stdout",
          "text": [
            "              precision    recall  f1-score   support\n",
            "\n",
            "           0       0.97      0.99      0.98       980\n",
            "           1       0.98      0.99      0.99      1135\n",
            "           2       0.96      0.97      0.97      1032\n",
            "           3       0.98      0.96      0.97      1010\n",
            "           4       0.96      0.97      0.97       982\n",
            "           5       0.97      0.96      0.97       892\n",
            "           6       0.96      0.98      0.97       958\n",
            "           7       0.97      0.95      0.96      1027\n",
            "           8       0.95      0.97      0.96       974\n",
            "           9       0.97      0.94      0.96      1009\n",
            "\n",
            "    accuracy                           0.97      9999\n",
            "   macro avg       0.97      0.97      0.97      9999\n",
            "weighted avg       0.97      0.97      0.97      9999\n",
            "\n",
            "\n",
            "Epoch 3: Validation Loss: 0.1011, Accuracy: 0.9695, F1 Score: 0.9695\n",
            "Epoch 3 completed. Average Train Loss: 0.2749\n"
          ]
        },
        {
          "output_type": "stream",
          "name": "stderr",
          "text": [
            "Epoch 4/20: 100%|██████████| 1875/1875 [00:16<00:00, 114.99it/s, Train Loss=0.237]\n"
          ]
        },
        {
          "output_type": "stream",
          "name": "stdout",
          "text": [
            "              precision    recall  f1-score   support\n",
            "\n",
            "           0       0.98      0.99      0.98       980\n",
            "           1       0.99      0.99      0.99      1135\n",
            "           2       0.97      0.97      0.97      1032\n",
            "           3       0.97      0.97      0.97      1010\n",
            "           4       0.97      0.98      0.97       982\n",
            "           5       0.98      0.96      0.97       892\n",
            "           6       0.97      0.98      0.98       958\n",
            "           7       0.96      0.97      0.97      1027\n",
            "           8       0.96      0.97      0.96       974\n",
            "           9       0.97      0.96      0.97      1009\n",
            "\n",
            "    accuracy                           0.97      9999\n",
            "   macro avg       0.97      0.97      0.97      9999\n",
            "weighted avg       0.97      0.97      0.97      9999\n",
            "\n",
            "\n",
            "Epoch 4: Validation Loss: 0.0891, Accuracy: 0.9732, F1 Score: 0.9732\n",
            "Epoch 4 completed. Average Train Loss: 0.2367\n"
          ]
        },
        {
          "output_type": "stream",
          "name": "stderr",
          "text": [
            "Epoch 5/20: 100%|██████████| 1875/1875 [00:16<00:00, 116.77it/s, Train Loss=0.21]\n"
          ]
        },
        {
          "output_type": "stream",
          "name": "stdout",
          "text": [
            "              precision    recall  f1-score   support\n",
            "\n",
            "           0       0.98      0.99      0.98       980\n",
            "           1       0.99      0.99      0.99      1135\n",
            "           2       0.97      0.97      0.97      1032\n",
            "           3       0.97      0.98      0.97      1010\n",
            "           4       0.98      0.97      0.97       982\n",
            "           5       0.98      0.98      0.98       892\n",
            "           6       0.99      0.98      0.98       958\n",
            "           7       0.97      0.96      0.97      1027\n",
            "           8       0.98      0.98      0.98       974\n",
            "           9       0.97      0.96      0.96      1009\n",
            "\n",
            "    accuracy                           0.98      9999\n",
            "   macro avg       0.98      0.98      0.98      9999\n",
            "weighted avg       0.98      0.98      0.98      9999\n",
            "\n",
            "\n",
            "Epoch 5: Validation Loss: 0.0775, Accuracy: 0.9767, F1 Score: 0.9767\n",
            "Epoch 5 completed. Average Train Loss: 0.2097\n"
          ]
        },
        {
          "output_type": "stream",
          "name": "stderr",
          "text": [
            "Epoch 6/20: 100%|██████████| 1875/1875 [00:15<00:00, 117.35it/s, Train Loss=0.189]\n"
          ]
        },
        {
          "output_type": "stream",
          "name": "stdout",
          "text": [
            "              precision    recall  f1-score   support\n",
            "\n",
            "           0       0.98      0.99      0.99       980\n",
            "           1       0.99      0.99      0.99      1135\n",
            "           2       0.98      0.98      0.98      1032\n",
            "           3       0.97      0.98      0.98      1010\n",
            "           4       0.98      0.97      0.98       982\n",
            "           5       0.99      0.97      0.98       892\n",
            "           6       0.98      0.98      0.98       958\n",
            "           7       0.97      0.97      0.97      1027\n",
            "           8       0.97      0.98      0.97       974\n",
            "           9       0.98      0.97      0.97      1009\n",
            "\n",
            "    accuracy                           0.98      9999\n",
            "   macro avg       0.98      0.98      0.98      9999\n",
            "weighted avg       0.98      0.98      0.98      9999\n",
            "\n",
            "\n",
            "Epoch 6: Validation Loss: 0.0723, Accuracy: 0.9787, F1 Score: 0.9787\n",
            "Epoch 6 completed. Average Train Loss: 0.1885\n"
          ]
        },
        {
          "output_type": "stream",
          "name": "stderr",
          "text": [
            "Epoch 7/20: 100%|██████████| 1875/1875 [00:16<00:00, 114.60it/s, Train Loss=0.174]\n"
          ]
        },
        {
          "output_type": "stream",
          "name": "stdout",
          "text": [
            "              precision    recall  f1-score   support\n",
            "\n",
            "           0       0.98      0.99      0.99       980\n",
            "           1       0.99      0.99      0.99      1135\n",
            "           2       0.98      0.98      0.98      1032\n",
            "           3       0.98      0.98      0.98      1010\n",
            "           4       0.97      0.99      0.98       982\n",
            "           5       0.99      0.96      0.97       892\n",
            "           6       0.97      0.98      0.98       958\n",
            "           7       0.98      0.96      0.97      1027\n",
            "           8       0.97      0.98      0.98       974\n",
            "           9       0.97      0.97      0.97      1009\n",
            "\n",
            "    accuracy                           0.98      9999\n",
            "   macro avg       0.98      0.98      0.98      9999\n",
            "weighted avg       0.98      0.98      0.98      9999\n",
            "\n",
            "\n",
            "Epoch 7: Validation Loss: 0.0722, Accuracy: 0.9780, F1 Score: 0.9780\n",
            "Epoch 7 completed. Average Train Loss: 0.1737\n"
          ]
        },
        {
          "output_type": "stream",
          "name": "stderr",
          "text": [
            "Epoch 8/20: 100%|██████████| 1875/1875 [00:15<00:00, 118.95it/s, Train Loss=0.165]\n"
          ]
        },
        {
          "output_type": "stream",
          "name": "stdout",
          "text": [
            "              precision    recall  f1-score   support\n",
            "\n",
            "           0       0.98      0.99      0.99       980\n",
            "           1       0.99      0.99      0.99      1135\n",
            "           2       0.98      0.97      0.98      1032\n",
            "           3       0.98      0.98      0.98      1010\n",
            "           4       0.98      0.98      0.98       982\n",
            "           5       0.99      0.98      0.98       892\n",
            "           6       0.99      0.98      0.99       958\n",
            "           7       0.97      0.98      0.98      1027\n",
            "           8       0.97      0.98      0.97       974\n",
            "           9       0.98      0.97      0.98      1009\n",
            "\n",
            "    accuracy                           0.98      9999\n",
            "   macro avg       0.98      0.98      0.98      9999\n",
            "weighted avg       0.98      0.98      0.98      9999\n",
            "\n",
            "\n",
            "Epoch 8: Validation Loss: 0.0668, Accuracy: 0.9806, F1 Score: 0.9806\n",
            "Epoch 8 completed. Average Train Loss: 0.1646\n"
          ]
        },
        {
          "output_type": "stream",
          "name": "stderr",
          "text": [
            "Epoch 9/20: 100%|██████████| 1875/1875 [00:15<00:00, 120.17it/s, Train Loss=0.155]\n"
          ]
        },
        {
          "output_type": "stream",
          "name": "stdout",
          "text": [
            "              precision    recall  f1-score   support\n",
            "\n",
            "           0       0.98      0.99      0.99       980\n",
            "           1       0.99      0.99      0.99      1135\n",
            "           2       0.99      0.98      0.98      1032\n",
            "           3       0.97      0.98      0.98      1010\n",
            "           4       0.98      0.98      0.98       982\n",
            "           5       0.99      0.97      0.98       892\n",
            "           6       0.99      0.97      0.98       958\n",
            "           7       0.96      0.98      0.97      1027\n",
            "           8       0.98      0.98      0.98       974\n",
            "           9       0.97      0.97      0.97      1009\n",
            "\n",
            "    accuracy                           0.98      9999\n",
            "   macro avg       0.98      0.98      0.98      9999\n",
            "weighted avg       0.98      0.98      0.98      9999\n",
            "\n",
            "\n",
            "Epoch 9: Validation Loss: 0.0663, Accuracy: 0.9802, F1 Score: 0.9802\n",
            "Epoch 9 completed. Average Train Loss: 0.1545\n"
          ]
        },
        {
          "output_type": "stream",
          "name": "stderr",
          "text": [
            "Epoch 10/20: 100%|██████████| 1875/1875 [00:16<00:00, 116.68it/s, Train Loss=0.143]\n"
          ]
        },
        {
          "output_type": "stream",
          "name": "stdout",
          "text": [
            "              precision    recall  f1-score   support\n",
            "\n",
            "           0       0.98      0.99      0.98       980\n",
            "           1       0.99      0.99      0.99      1135\n",
            "           2       0.98      0.98      0.98      1032\n",
            "           3       0.98      0.98      0.98      1010\n",
            "           4       0.98      0.98      0.98       982\n",
            "           5       0.99      0.97      0.98       892\n",
            "           6       0.98      0.99      0.98       958\n",
            "           7       0.98      0.97      0.97      1027\n",
            "           8       0.98      0.98      0.98       974\n",
            "           9       0.98      0.97      0.97      1009\n",
            "\n",
            "    accuracy                           0.98      9999\n",
            "   macro avg       0.98      0.98      0.98      9999\n",
            "weighted avg       0.98      0.98      0.98      9999\n",
            "\n",
            "\n",
            "Epoch 10: Validation Loss: 0.0652, Accuracy: 0.9800, F1 Score: 0.9800\n",
            "Epoch 10 completed. Average Train Loss: 0.1435\n"
          ]
        },
        {
          "output_type": "stream",
          "name": "stderr",
          "text": [
            "Epoch 11/20: 100%|██████████| 1875/1875 [00:16<00:00, 116.80it/s, Train Loss=0.138]\n"
          ]
        },
        {
          "output_type": "stream",
          "name": "stdout",
          "text": [
            "              precision    recall  f1-score   support\n",
            "\n",
            "           0       0.98      0.99      0.99       980\n",
            "           1       0.99      0.99      0.99      1135\n",
            "           2       0.98      0.98      0.98      1032\n",
            "           3       0.98      0.98      0.98      1010\n",
            "           4       0.98      0.98      0.98       982\n",
            "           5       0.98      0.98      0.98       892\n",
            "           6       0.97      0.99      0.98       958\n",
            "           7       0.98      0.97      0.98      1027\n",
            "           8       0.98      0.98      0.98       974\n",
            "           9       0.98      0.97      0.97      1009\n",
            "\n",
            "    accuracy                           0.98      9999\n",
            "   macro avg       0.98      0.98      0.98      9999\n",
            "weighted avg       0.98      0.98      0.98      9999\n",
            "\n",
            "\n",
            "Epoch 11: Validation Loss: 0.0596, Accuracy: 0.9819, F1 Score: 0.9819\n",
            "Epoch 11 completed. Average Train Loss: 0.1380\n"
          ]
        },
        {
          "output_type": "stream",
          "name": "stderr",
          "text": [
            "Epoch 12/20: 100%|██████████| 1875/1875 [00:15<00:00, 121.06it/s, Train Loss=0.132]\n"
          ]
        },
        {
          "output_type": "stream",
          "name": "stdout",
          "text": [
            "              precision    recall  f1-score   support\n",
            "\n",
            "           0       0.97      0.99      0.98       980\n",
            "           1       0.99      0.99      0.99      1135\n",
            "           2       0.98      0.98      0.98      1032\n",
            "           3       0.98      0.99      0.98      1010\n",
            "           4       0.99      0.98      0.98       982\n",
            "           5       0.99      0.98      0.98       892\n",
            "           6       0.99      0.99      0.99       958\n",
            "           7       0.98      0.97      0.97      1027\n",
            "           8       0.98      0.98      0.98       974\n",
            "           9       0.98      0.97      0.98      1009\n",
            "\n",
            "    accuracy                           0.98      9999\n",
            "   macro avg       0.98      0.98      0.98      9999\n",
            "weighted avg       0.98      0.98      0.98      9999\n",
            "\n",
            "\n",
            "Epoch 12: Validation Loss: 0.0601, Accuracy: 0.9821, F1 Score: 0.9821\n",
            "Epoch 12 completed. Average Train Loss: 0.1322\n"
          ]
        },
        {
          "output_type": "stream",
          "name": "stderr",
          "text": [
            "Epoch 13/20: 100%|██████████| 1875/1875 [00:17<00:00, 108.15it/s, Train Loss=0.124]\n"
          ]
        },
        {
          "output_type": "stream",
          "name": "stdout",
          "text": [
            "              precision    recall  f1-score   support\n",
            "\n",
            "           0       0.98      0.99      0.99       980\n",
            "           1       0.99      0.99      0.99      1135\n",
            "           2       0.98      0.99      0.98      1032\n",
            "           3       0.98      0.98      0.98      1010\n",
            "           4       0.99      0.98      0.98       982\n",
            "           5       0.99      0.98      0.99       892\n",
            "           6       0.99      0.99      0.99       958\n",
            "           7       0.98      0.97      0.98      1027\n",
            "           8       0.98      0.98      0.98       974\n",
            "           9       0.98      0.97      0.98      1009\n",
            "\n",
            "    accuracy                           0.98      9999\n",
            "   macro avg       0.98      0.98      0.98      9999\n",
            "weighted avg       0.98      0.98      0.98      9999\n",
            "\n",
            "\n",
            "Epoch 13: Validation Loss: 0.0561, Accuracy: 0.9832, F1 Score: 0.9832\n",
            "Epoch 13 completed. Average Train Loss: 0.1236\n"
          ]
        },
        {
          "output_type": "stream",
          "name": "stderr",
          "text": [
            "Epoch 14/20: 100%|██████████| 1875/1875 [00:16<00:00, 110.95it/s, Train Loss=0.118]\n"
          ]
        },
        {
          "output_type": "stream",
          "name": "stdout",
          "text": [
            "              precision    recall  f1-score   support\n",
            "\n",
            "           0       0.98      0.99      0.99       980\n",
            "           1       0.99      0.99      0.99      1135\n",
            "           2       0.99      0.98      0.99      1032\n",
            "           3       0.99      0.98      0.98      1010\n",
            "           4       0.99      0.98      0.98       982\n",
            "           5       0.99      0.98      0.98       892\n",
            "           6       0.98      0.99      0.98       958\n",
            "           7       0.97      0.98      0.97      1027\n",
            "           8       0.98      0.98      0.98       974\n",
            "           9       0.98      0.98      0.98      1009\n",
            "\n",
            "    accuracy                           0.98      9999\n",
            "   macro avg       0.98      0.98      0.98      9999\n",
            "weighted avg       0.98      0.98      0.98      9999\n",
            "\n",
            "\n",
            "Epoch 14: Validation Loss: 0.0553, Accuracy: 0.9828, F1 Score: 0.9828\n",
            "Epoch 14 completed. Average Train Loss: 0.1185\n"
          ]
        },
        {
          "output_type": "stream",
          "name": "stderr",
          "text": [
            "Epoch 15/20: 100%|██████████| 1875/1875 [00:15<00:00, 120.47it/s, Train Loss=0.119]\n"
          ]
        },
        {
          "output_type": "stream",
          "name": "stdout",
          "text": [
            "              precision    recall  f1-score   support\n",
            "\n",
            "           0       0.98      0.99      0.99       980\n",
            "           1       0.99      0.99      0.99      1135\n",
            "           2       0.99      0.99      0.99      1032\n",
            "           3       0.99      0.99      0.99      1010\n",
            "           4       0.99      0.98      0.98       982\n",
            "           5       0.99      0.98      0.98       892\n",
            "           6       0.99      0.99      0.99       958\n",
            "           7       0.97      0.98      0.98      1027\n",
            "           8       0.98      0.99      0.98       974\n",
            "           9       0.98      0.97      0.98      1009\n",
            "\n",
            "    accuracy                           0.98      9999\n",
            "   macro avg       0.98      0.98      0.98      9999\n",
            "weighted avg       0.98      0.98      0.98      9999\n",
            "\n",
            "\n",
            "Epoch 15: Validation Loss: 0.0550, Accuracy: 0.9837, F1 Score: 0.9837\n",
            "Epoch 15 completed. Average Train Loss: 0.1188\n"
          ]
        },
        {
          "output_type": "stream",
          "name": "stderr",
          "text": [
            "Epoch 16/20: 100%|██████████| 1875/1875 [00:15<00:00, 120.80it/s, Train Loss=0.113]\n"
          ]
        },
        {
          "output_type": "stream",
          "name": "stdout",
          "text": [
            "              precision    recall  f1-score   support\n",
            "\n",
            "           0       0.98      0.99      0.99       980\n",
            "           1       0.99      0.99      0.99      1135\n",
            "           2       0.98      0.98      0.98      1032\n",
            "           3       0.98      0.99      0.98      1010\n",
            "           4       0.99      0.98      0.98       982\n",
            "           5       0.99      0.98      0.99       892\n",
            "           6       0.99      0.99      0.99       958\n",
            "           7       0.98      0.98      0.98      1027\n",
            "           8       0.98      0.98      0.98       974\n",
            "           9       0.98      0.98      0.98      1009\n",
            "\n",
            "    accuracy                           0.98      9999\n",
            "   macro avg       0.98      0.98      0.98      9999\n",
            "weighted avg       0.98      0.98      0.98      9999\n",
            "\n",
            "\n",
            "Epoch 16: Validation Loss: 0.0534, Accuracy: 0.9836, F1 Score: 0.9836\n",
            "Epoch 16 completed. Average Train Loss: 0.1127\n"
          ]
        },
        {
          "output_type": "stream",
          "name": "stderr",
          "text": [
            "Epoch 17/20: 100%|██████████| 1875/1875 [00:15<00:00, 120.23it/s, Train Loss=0.109]\n"
          ]
        },
        {
          "output_type": "stream",
          "name": "stdout",
          "text": [
            "              precision    recall  f1-score   support\n",
            "\n",
            "           0       0.98      0.99      0.99       980\n",
            "           1       0.99      0.99      0.99      1135\n",
            "           2       0.98      0.98      0.98      1032\n",
            "           3       0.98      0.98      0.98      1010\n",
            "           4       0.99      0.98      0.98       982\n",
            "           5       0.99      0.99      0.99       892\n",
            "           6       0.99      0.98      0.98       958\n",
            "           7       0.98      0.97      0.98      1027\n",
            "           8       0.98      0.99      0.98       974\n",
            "           9       0.97      0.98      0.98      1009\n",
            "\n",
            "    accuracy                           0.98      9999\n",
            "   macro avg       0.98      0.98      0.98      9999\n",
            "weighted avg       0.98      0.98      0.98      9999\n",
            "\n",
            "\n",
            "Epoch 17: Validation Loss: 0.0531, Accuracy: 0.9833, F1 Score: 0.9833\n",
            "Epoch 17 completed. Average Train Loss: 0.1095\n"
          ]
        },
        {
          "output_type": "stream",
          "name": "stderr",
          "text": [
            "Epoch 18/20: 100%|██████████| 1875/1875 [00:15<00:00, 119.88it/s, Train Loss=0.106]\n"
          ]
        },
        {
          "output_type": "stream",
          "name": "stdout",
          "text": [
            "              precision    recall  f1-score   support\n",
            "\n",
            "           0       0.98      0.99      0.99       980\n",
            "           1       0.99      0.99      0.99      1135\n",
            "           2       0.98      0.99      0.98      1032\n",
            "           3       0.98      0.98      0.98      1010\n",
            "           4       0.99      0.98      0.99       982\n",
            "           5       0.99      0.98      0.98       892\n",
            "           6       0.99      0.99      0.99       958\n",
            "           7       0.98      0.99      0.98      1027\n",
            "           8       0.98      0.98      0.98       974\n",
            "           9       0.98      0.98      0.98      1009\n",
            "\n",
            "    accuracy                           0.98      9999\n",
            "   macro avg       0.98      0.98      0.98      9999\n",
            "weighted avg       0.98      0.98      0.98      9999\n",
            "\n",
            "\n",
            "Epoch 18: Validation Loss: 0.0513, Accuracy: 0.9847, F1 Score: 0.9847\n",
            "Epoch 18 completed. Average Train Loss: 0.1061\n"
          ]
        },
        {
          "output_type": "stream",
          "name": "stderr",
          "text": [
            "Epoch 19/20: 100%|██████████| 1875/1875 [00:15<00:00, 118.78it/s, Train Loss=0.102]\n"
          ]
        },
        {
          "output_type": "stream",
          "name": "stdout",
          "text": [
            "              precision    recall  f1-score   support\n",
            "\n",
            "           0       0.98      0.99      0.99       980\n",
            "           1       0.99      0.99      0.99      1135\n",
            "           2       0.98      0.99      0.98      1032\n",
            "           3       0.99      0.99      0.99      1010\n",
            "           4       0.99      0.98      0.99       982\n",
            "           5       0.99      0.99      0.99       892\n",
            "           6       0.99      0.98      0.99       958\n",
            "           7       0.98      0.98      0.98      1027\n",
            "           8       0.98      0.99      0.98       974\n",
            "           9       0.98      0.98      0.98      1009\n",
            "\n",
            "    accuracy                           0.99      9999\n",
            "   macro avg       0.99      0.99      0.99      9999\n",
            "weighted avg       0.99      0.99      0.99      9999\n",
            "\n",
            "\n",
            "Epoch 19: Validation Loss: 0.0478, Accuracy: 0.9855, F1 Score: 0.9855\n",
            "Epoch 19 completed. Average Train Loss: 0.1019\n"
          ]
        },
        {
          "output_type": "stream",
          "name": "stderr",
          "text": [
            "Epoch 20/20: 100%|██████████| 1875/1875 [00:15<00:00, 117.48it/s, Train Loss=0.1]\n"
          ]
        },
        {
          "output_type": "stream",
          "name": "stdout",
          "text": [
            "              precision    recall  f1-score   support\n",
            "\n",
            "           0       0.98      0.99      0.99       980\n",
            "           1       0.99      0.99      0.99      1135\n",
            "           2       0.98      0.98      0.98      1032\n",
            "           3       0.99      0.98      0.99      1010\n",
            "           4       0.99      0.98      0.98       982\n",
            "           5       0.99      0.99      0.99       892\n",
            "           6       0.98      0.99      0.99       958\n",
            "           7       0.98      0.97      0.98      1027\n",
            "           8       0.99      0.97      0.98       974\n",
            "           9       0.97      0.98      0.98      1009\n",
            "\n",
            "    accuracy                           0.98      9999\n",
            "   macro avg       0.98      0.98      0.98      9999\n",
            "weighted avg       0.98      0.98      0.98      9999\n",
            "\n",
            "\n",
            "Epoch 20: Validation Loss: 0.0530, Accuracy: 0.9843, F1 Score: 0.9843\n",
            "Epoch 20 completed. Average Train Loss: 0.1002\n"
          ]
        },
        {
          "output_type": "display_data",
          "data": {
            "text/plain": [
              "<Figure size 1200x600 with 2 Axes>"
            ],
            "image/png": "[encoded data removed]"
          },
          "metadata": {}
        }
      ]
    },
    {
      "cell_type": "code",
      "source": [
        "import torch.optim as optim\n",
        "import matplotlib.pyplot as plt\n",
        "\n",
        "# Function to set the dropout rate in the model during training\n",
        "def set_dropout_rate(model, dropout_rate):\n",
        "    for module in model.modules():\n",
        "        if isinstance(module, torch.nn.Dropout):\n",
        "            module.p = dropout_rate\n",
        "\n",
        "# Function to train and evaluate with a given optimizer and dropout rate\n",
        "def train_and_evaluate_with_dropout(model, train_loader, eval_loader, criterion, optimizer, dropout_rate, epochs=10):\n",
        "    set_dropout_rate(model, dropout_rate)  # Set the dropout rate for training\n",
        "\n",
        "    best_loss = float('inf')\n",
        "    best_model = None\n",
        "    best_metrics = None\n",
        "    best_epoch = None\n",
        "\n",
        "    epoch_accuracies = []\n",
        "    epoch_f1_scores = []\n",
        "    epoch_steps = []\n",
        "\n",
        "    for epoch in range(epochs):\n",
        "        model.train()  # Set the model to training mode (dropout active)\n",
        "\n",
        "        running_loss = 0.0\n",
        "        num_batches = len(train_loader)\n",
        "\n",
        "        # Progress bar with tqdm\n",
        "        with tqdm(total=num_batches, desc=f\"Epoch {epoch+1}/{epochs} (Dropout {dropout_rate})\") as pbar:\n",
        "\n",
        "            for i, (inputs, labels) in enumerate(train_loader):\n",
        "\n",
        "                # Move inputs and labels to the device (GPU or CPU)\n",
        "                inputs, labels = inputs.to(device), labels.to(device)\n",
        "\n",
        "                optimizer.zero_grad()\n",
        "                outputs = model(inputs)  # Forward pass\n",
        "                loss = criterion(outputs, labels)\n",
        "                loss.backward()\n",
        "                optimizer.step()\n",
        "\n",
        "                running_loss += loss.item()\n",
        "                pbar.set_postfix({'Train Loss': running_loss / (i+1)})\n",
        "                pbar.update(1)\n",
        "\n",
        "        # After each epoch, evaluate the model\n",
        "        model.eval()  # Disable dropout for evaluation\n",
        "\n",
        "        eval_loss, eval_acc, eval_f1 = evaluate_model(model, eval_loader, criterion)\n",
        "\n",
        "        # Store the results for plotting\n",
        "        epoch_accuracies.append(eval_acc)\n",
        "        epoch_f1_scores.append(eval_f1)\n",
        "        epoch_steps.append(epoch + 1)\n",
        "\n",
        "        print(f\"\\nEpoch {epoch+1}: Validation Loss: {eval_loss:.4f}, Accuracy: {eval_acc:.4f}, F1 Score: {eval_f1:.4f}\")\n",
        "\n",
        "        # Save the model with the best evaluation loss\n",
        "        if eval_loss < best_loss:\n",
        "            best_loss = eval_loss\n",
        "            best_model = model.state_dict()  # Save the best model\n",
        "            best_metrics = {'Accuracy': eval_acc, 'F1 Score': eval_f1}\n",
        "            best_epoch = epoch + 1\n",
        "\n",
        "        print(f\"Epoch {epoch+1} completed. Average Train Loss: {running_loss / num_batches:.4f}\")\n",
        "\n",
        "    return epoch_steps, epoch_accuracies, epoch_f1_scores\n",
        "\n",
        "# Function to compare different dropout rates and plot the results\n",
        "def compare_dropout_rates_and_plot(model_class, train_loader, eval_loader, criterion, input_size, hidden_sizes, output_size, activation_fn, learning_rate=1e-02, epochs=20):\n",
        "\n",
        "    dropout_rates = [0.1, 0.2, 0.3, 0.5]\n",
        "    dropout_colors = ['blue', 'green', 'orange', 'red']\n",
        "\n",
        "    # Create lists to store results for each dropout rate\n",
        "    all_accuracies = {}\n",
        "    all_f1_scores = {}\n",
        "\n",
        "    for dropout_rate, color in zip(dropout_rates, dropout_colors):\n",
        "\n",
        "        # Reinitialize the model from scratch before each dropout test\n",
        "        model = model_class(input_size, hidden_sizes, output_size, activation_fn).to(device)  # Pass the required arguments\n",
        "        optimizer = optim.Adam(model.parameters(), lr=learning_rate)  # Fixed learning rate\n",
        "\n",
        "        # Train and evaluate with the dropout rate\n",
        "        epoch_steps, accuracies, f1_scores = train_and_evaluate_with_dropout(model, train_loader, eval_loader, criterion, optimizer, dropout_rate, epochs)\n",
        "\n",
        "        # Store results for each dropout rate\n",
        "        all_accuracies[dropout_rate] = accuracies\n",
        "        all_f1_scores[dropout_rate] = f1_scores\n",
        "\n",
        "    # Plot the results\n",
        "    fig, ax = plt.subplots(1, 2, figsize=(12, 6))\n",
        "\n",
        "    # Plot accuracy\n",
        "    for dropout_rate, color in zip(dropout_rates, dropout_colors):\n",
        "        ax[0].plot(epoch_steps, all_accuracies[dropout_rate], label=f'Dropout {dropout_rate} Accuracy', color=color, marker='o')\n",
        "\n",
        "    # Plot F1 score\n",
        "    for dropout_rate, color in zip(dropout_rates, dropout_colors):\n",
        "        ax[1].plot(epoch_steps, all_f1_scores[dropout_rate], label=f'Dropout {dropout_rate} F1 Score', color=color, marker='o')\n",
        "\n",
        "    # Customize the accuracy plot\n",
        "    ax[0].set_title('Accuracy Over Epochs (Varying Dropout Rates)')\n",
        "    ax[0].set_xlabel('Epoch')\n",
        "    ax[0].set_ylabel('Accuracy')\n",
        "    ax[0].legend()\n",
        "    ax[0].grid(True)\n",
        "\n",
        "    # Customize the F1 score plot\n",
        "    ax[1].set_title('F1 Score Over Epochs (Varying Dropout Rates)')\n",
        "    ax[1].set_xlabel('Epoch')\n",
        "    ax[1].set_ylabel('F1 Score')\n",
        "    ax[1].legend()\n",
        "    ax[1].grid(True)\n",
        "\n",
        "    plt.tight_layout()\n",
        "    plt.show()\n",
        "\n",
        "# Example call to compare dropout rates and plot results\n",
        "compare_dropout_rates_and_plot(MLP, train_loader, eval_loader, criterion, input_size=784, hidden_sizes=[256, 128], output_size=10, activation_fn=torch.nn.ReLU(), learning_rate=1e-02, epochs=10)\n"
      ],
      "metadata": {
        "colab": {
          "base_uri": "https://localhost:8080/",
          "height": 1000
        },
        "id": "y80UJEwyD6VE",
        "outputId": "c437752e-8aa0-4a0e-8136-da462c2417d9"
      },
      "execution_count": null,
      "outputs": [
        {
          "output_type": "stream",
          "name": "stderr",
          "text": [
            "Epoch 1/10 (Dropout 0.1): 100%|██████████| 1875/1875 [00:48<00:00, 38.85it/s, Train Loss=0.257]\n"
          ]
        },
        {
          "output_type": "stream",
          "name": "stdout",
          "text": [
            "              precision    recall  f1-score   support\n",
            "\n",
            "           0       0.96      0.99      0.97       980\n",
            "           1       0.95      0.99      0.97      1135\n",
            "           2       0.98      0.92      0.95      1032\n",
            "           3       0.98      0.95      0.96      1010\n",
            "           4       0.97      0.97      0.97       982\n",
            "           5       0.96      0.96      0.96       892\n",
            "           6       0.97      0.98      0.97       958\n",
            "           7       0.93      0.96      0.95      1027\n",
            "           8       0.98      0.94      0.96       974\n",
            "           9       0.96      0.95      0.95      1009\n",
            "\n",
            "    accuracy                           0.96      9999\n",
            "   macro avg       0.96      0.96      0.96      9999\n",
            "weighted avg       0.96      0.96      0.96      9999\n",
            "\n",
            "\n",
            "Epoch 1: Validation Loss: 0.1221, Accuracy: 0.9622, F1 Score: 0.9621\n",
            "Epoch 1 completed. Average Train Loss: 0.2569\n"
          ]
        },
        {
          "output_type": "stream",
          "name": "stderr",
          "text": [
            "Epoch 2/10 (Dropout 0.1): 100%|██████████| 1875/1875 [00:25<00:00, 72.48it/s, Train Loss=0.15]\n"
          ]
        },
        {
          "output_type": "stream",
          "name": "stdout",
          "text": [
            "              precision    recall  f1-score   support\n",
            "\n",
            "           0       0.97      0.99      0.98       980\n",
            "           1       0.99      0.99      0.99      1135\n",
            "           2       0.98      0.96      0.97      1032\n",
            "           3       0.96      0.98      0.97      1010\n",
            "           4       0.96      0.99      0.97       982\n",
            "           5       0.98      0.97      0.98       892\n",
            "           6       0.98      0.98      0.98       958\n",
            "           7       0.97      0.98      0.97      1027\n",
            "           8       0.97      0.97      0.97       974\n",
            "           9       0.98      0.94      0.96      1009\n",
            "\n",
            "    accuracy                           0.97      9999\n",
            "   macro avg       0.97      0.97      0.97      9999\n",
            "weighted avg       0.97      0.97      0.97      9999\n",
            "\n",
            "\n",
            "Epoch 2: Validation Loss: 0.0869, Accuracy: 0.9742, F1 Score: 0.9742\n",
            "Epoch 2 completed. Average Train Loss: 0.1502\n"
          ]
        },
        {
          "output_type": "stream",
          "name": "stderr",
          "text": [
            "Epoch 3/10 (Dropout 0.1): 100%|██████████| 1875/1875 [00:26<00:00, 71.43it/s, Train Loss=0.122]\n"
          ]
        },
        {
          "output_type": "stream",
          "name": "stdout",
          "text": [
            "              precision    recall  f1-score   support\n",
            "\n",
            "           0       0.98      0.99      0.98       980\n",
            "           1       0.99      0.99      0.99      1135\n",
            "           2       0.99      0.98      0.98      1032\n",
            "           3       0.98      0.98      0.98      1010\n",
            "           4       0.96      0.98      0.97       982\n",
            "           5       0.98      0.98      0.98       892\n",
            "           6       0.98      0.97      0.98       958\n",
            "           7       0.98      0.95      0.97      1027\n",
            "           8       0.97      0.98      0.98       974\n",
            "           9       0.96      0.96      0.96      1009\n",
            "\n",
            "    accuracy                           0.98      9999\n",
            "   macro avg       0.98      0.98      0.98      9999\n",
            "weighted avg       0.98      0.98      0.98      9999\n",
            "\n",
            "\n",
            "Epoch 3: Validation Loss: 0.0763, Accuracy: 0.9767, F1 Score: 0.9767\n",
            "Epoch 3 completed. Average Train Loss: 0.1225\n"
          ]
        },
        {
          "output_type": "stream",
          "name": "stderr",
          "text": [
            "Epoch 4/10 (Dropout 0.1): 100%|██████████| 1875/1875 [00:26<00:00, 71.37it/s, Train Loss=0.106]\n"
          ]
        },
        {
          "output_type": "stream",
          "name": "stdout",
          "text": [
            "              precision    recall  f1-score   support\n",
            "\n",
            "           0       0.98      0.99      0.98       980\n",
            "           1       0.99      1.00      0.99      1135\n",
            "           2       0.98      0.98      0.98      1032\n",
            "           3       0.98      0.98      0.98      1010\n",
            "           4       0.98      0.97      0.98       982\n",
            "           5       0.98      0.98      0.98       892\n",
            "           6       0.98      0.99      0.98       958\n",
            "           7       0.98      0.97      0.97      1027\n",
            "           8       0.99      0.96      0.97       974\n",
            "           9       0.96      0.98      0.97      1009\n",
            "\n",
            "    accuracy                           0.98      9999\n",
            "   macro avg       0.98      0.98      0.98      9999\n",
            "weighted avg       0.98      0.98      0.98      9999\n",
            "\n",
            "\n",
            "Epoch 4: Validation Loss: 0.0701, Accuracy: 0.9793, F1 Score: 0.9793\n",
            "Epoch 4 completed. Average Train Loss: 0.1056\n"
          ]
        },
        {
          "output_type": "stream",
          "name": "stderr",
          "text": [
            "Epoch 5/10 (Dropout 0.1): 100%|██████████| 1875/1875 [00:28<00:00, 66.34it/s, Train Loss=0.0956]\n"
          ]
        },
        {
          "output_type": "stream",
          "name": "stdout",
          "text": [
            "              precision    recall  f1-score   support\n",
            "\n",
            "           0       0.99      0.99      0.99       980\n",
            "           1       0.99      0.99      0.99      1135\n",
            "           2       0.97      0.99      0.98      1032\n",
            "           3       0.98      0.98      0.98      1010\n",
            "           4       0.99      0.97      0.98       982\n",
            "           5       0.98      0.98      0.98       892\n",
            "           6       0.98      0.99      0.98       958\n",
            "           7       0.98      0.98      0.98      1027\n",
            "           8       0.98      0.98      0.98       974\n",
            "           9       0.98      0.98      0.98      1009\n",
            "\n",
            "    accuracy                           0.98      9999\n",
            "   macro avg       0.98      0.98      0.98      9999\n",
            "weighted avg       0.98      0.98      0.98      9999\n",
            "\n",
            "\n",
            "Epoch 5: Validation Loss: 0.0650, Accuracy: 0.9812, F1 Score: 0.9812\n",
            "Epoch 5 completed. Average Train Loss: 0.0956\n"
          ]
        },
        {
          "output_type": "stream",
          "name": "stderr",
          "text": [
            "Epoch 6/10 (Dropout 0.1): 100%|██████████| 1875/1875 [00:26<00:00, 69.94it/s, Train Loss=0.0859]\n"
          ]
        },
        {
          "output_type": "stream",
          "name": "stdout",
          "text": [
            "              precision    recall  f1-score   support\n",
            "\n",
            "           0       0.98      0.99      0.98       980\n",
            "           1       0.99      0.99      0.99      1135\n",
            "           2       0.98      0.98      0.98      1032\n",
            "           3       0.97      0.99      0.98      1010\n",
            "           4       0.98      0.97      0.98       982\n",
            "           5       0.99      0.97      0.98       892\n",
            "           6       0.98      0.99      0.98       958\n",
            "           7       0.97      0.98      0.97      1027\n",
            "           8       0.98      0.97      0.98       974\n",
            "           9       0.98      0.96      0.97      1009\n",
            "\n",
            "    accuracy                           0.98      9999\n",
            "   macro avg       0.98      0.98      0.98      9999\n",
            "weighted avg       0.98      0.98      0.98      9999\n",
            "\n",
            "\n",
            "Epoch 6: Validation Loss: 0.0733, Accuracy: 0.9786, F1 Score: 0.9786\n",
            "Epoch 6 completed. Average Train Loss: 0.0859\n"
          ]
        },
        {
          "output_type": "stream",
          "name": "stderr",
          "text": [
            "Epoch 7/10 (Dropout 0.1): 100%|██████████| 1875/1875 [00:26<00:00, 71.73it/s, Train Loss=0.078]\n"
          ]
        },
        {
          "output_type": "stream",
          "name": "stdout",
          "text": [
            "              precision    recall  f1-score   support\n",
            "\n",
            "           0       0.98      0.99      0.99       980\n",
            "           1       0.99      0.99      0.99      1135\n",
            "           2       0.98      0.97      0.98      1032\n",
            "           3       0.98      0.97      0.97      1010\n",
            "           4       0.98      0.98      0.98       982\n",
            "           5       0.99      0.97      0.98       892\n",
            "           6       0.99      0.97      0.98       958\n",
            "           7       0.98      0.97      0.98      1027\n",
            "           8       0.93      0.99      0.96       974\n",
            "           9       0.98      0.97      0.97      1009\n",
            "\n",
            "    accuracy                           0.98      9999\n",
            "   macro avg       0.98      0.98      0.98      9999\n",
            "weighted avg       0.98      0.98      0.98      9999\n",
            "\n",
            "\n",
            "Epoch 7: Validation Loss: 0.0746, Accuracy: 0.9773, F1 Score: 0.9773\n",
            "Epoch 7 completed. Average Train Loss: 0.0780\n"
          ]
        },
        {
          "output_type": "stream",
          "name": "stderr",
          "text": [
            "Epoch 8/10 (Dropout 0.1): 100%|██████████| 1875/1875 [00:25<00:00, 74.33it/s, Train Loss=0.0724]\n"
          ]
        },
        {
          "output_type": "stream",
          "name": "stdout",
          "text": [
            "              precision    recall  f1-score   support\n",
            "\n",
            "           0       0.97      0.99      0.98       980\n",
            "           1       0.99      0.99      0.99      1135\n",
            "           2       0.97      0.99      0.98      1032\n",
            "           3       0.98      0.98      0.98      1010\n",
            "           4       0.99      0.97      0.98       982\n",
            "           5       0.99      0.97      0.98       892\n",
            "           6       0.99      0.98      0.98       958\n",
            "           7       0.98      0.98      0.98      1027\n",
            "           8       0.99      0.97      0.98       974\n",
            "           9       0.96      0.98      0.97      1009\n",
            "\n",
            "    accuracy                           0.98      9999\n",
            "   macro avg       0.98      0.98      0.98      9999\n",
            "weighted avg       0.98      0.98      0.98      9999\n",
            "\n",
            "\n",
            "Epoch 8: Validation Loss: 0.0672, Accuracy: 0.9804, F1 Score: 0.9804\n",
            "Epoch 8 completed. Average Train Loss: 0.0724\n"
          ]
        },
        {
          "output_type": "stream",
          "name": "stderr",
          "text": [
            "Epoch 9/10 (Dropout 0.1): 100%|██████████| 1875/1875 [00:26<00:00, 70.12it/s, Train Loss=0.0673]\n"
          ]
        },
        {
          "output_type": "stream",
          "name": "stdout",
          "text": [
            "              precision    recall  f1-score   support\n",
            "\n",
            "           0       0.99      0.99      0.99       980\n",
            "           1       0.98      0.99      0.99      1135\n",
            "           2       0.97      0.99      0.98      1032\n",
            "           3       0.96      0.99      0.98      1010\n",
            "           4       0.99      0.97      0.98       982\n",
            "           5       0.99      0.97      0.98       892\n",
            "           6       0.97      0.99      0.98       958\n",
            "           7       0.98      0.98      0.98      1027\n",
            "           8       0.98      0.96      0.97       974\n",
            "           9       0.98      0.96      0.97      1009\n",
            "\n",
            "    accuracy                           0.98      9999\n",
            "   macro avg       0.98      0.98      0.98      9999\n",
            "weighted avg       0.98      0.98      0.98      9999\n",
            "\n",
            "\n",
            "Epoch 9: Validation Loss: 0.0720, Accuracy: 0.9790, F1 Score: 0.9790\n",
            "Epoch 9 completed. Average Train Loss: 0.0673\n"
          ]
        },
        {
          "output_type": "stream",
          "name": "stderr",
          "text": [
            "Epoch 10/10 (Dropout 0.1): 100%|██████████| 1875/1875 [00:25<00:00, 74.88it/s, Train Loss=0.0641]\n"
          ]
        },
        {
          "output_type": "stream",
          "name": "stdout",
          "text": [
            "              precision    recall  f1-score   support\n",
            "\n",
            "           0       0.99      0.99      0.99       980\n",
            "           1       0.99      0.99      0.99      1135\n",
            "           2       0.97      0.99      0.98      1032\n",
            "           3       0.98      0.97      0.97      1010\n",
            "           4       0.97      0.99      0.98       982\n",
            "           5       0.95      0.99      0.97       892\n",
            "           6       0.99      0.97      0.98       958\n",
            "           7       0.99      0.98      0.98      1027\n",
            "           8       0.99      0.97      0.98       974\n",
            "           9       0.98      0.97      0.97      1009\n",
            "\n",
            "    accuracy                           0.98      9999\n",
            "   macro avg       0.98      0.98      0.98      9999\n",
            "weighted avg       0.98      0.98      0.98      9999\n",
            "\n",
            "\n",
            "Epoch 10: Validation Loss: 0.0712, Accuracy: 0.9798, F1 Score: 0.9798\n",
            "Epoch 10 completed. Average Train Loss: 0.0641\n"
          ]
        },
        {
          "output_type": "stream",
          "name": "stderr",
          "text": [
            "Epoch 1/10 (Dropout 0.2): 100%|██████████| 1875/1875 [00:25<00:00, 72.61it/s, Train Loss=0.273]\n"
          ]
        },
        {
          "output_type": "stream",
          "name": "stdout",
          "text": [
            "              precision    recall  f1-score   support\n",
            "\n",
            "           0       0.98      0.99      0.98       980\n",
            "           1       0.98      0.99      0.98      1135\n",
            "           2       0.98      0.95      0.97      1032\n",
            "           3       0.95      0.97      0.96      1010\n",
            "           4       0.97      0.96      0.97       982\n",
            "           5       0.97      0.95      0.96       892\n",
            "           6       0.96      0.98      0.97       958\n",
            "           7       0.96      0.96      0.96      1027\n",
            "           8       0.95      0.97      0.96       974\n",
            "           9       0.96      0.94      0.95      1009\n",
            "\n",
            "    accuracy                           0.97      9999\n",
            "   macro avg       0.97      0.97      0.97      9999\n",
            "weighted avg       0.97      0.97      0.97      9999\n",
            "\n",
            "\n",
            "Epoch 1: Validation Loss: 0.1084, Accuracy: 0.9658, F1 Score: 0.9658\n",
            "Epoch 1 completed. Average Train Loss: 0.2731\n"
          ]
        },
        {
          "output_type": "stream",
          "name": "stderr",
          "text": [
            "Epoch 2/10 (Dropout 0.2): 100%|██████████| 1875/1875 [00:27<00:00, 69.36it/s, Train Loss=0.172]\n"
          ]
        },
        {
          "output_type": "stream",
          "name": "stdout",
          "text": [
            "              precision    recall  f1-score   support\n",
            "\n",
            "           0       0.99      0.98      0.98       980\n",
            "           1       0.98      0.99      0.99      1135\n",
            "           2       0.98      0.96      0.97      1032\n",
            "           3       0.96      0.98      0.97      1010\n",
            "           4       0.97      0.98      0.97       982\n",
            "           5       0.98      0.95      0.96       892\n",
            "           6       0.96      0.98      0.97       958\n",
            "           7       0.96      0.98      0.97      1027\n",
            "           8       0.97      0.98      0.97       974\n",
            "           9       0.98      0.95      0.96      1009\n",
            "\n",
            "    accuracy                           0.97      9999\n",
            "   macro avg       0.97      0.97      0.97      9999\n",
            "weighted avg       0.97      0.97      0.97      9999\n",
            "\n",
            "\n",
            "Epoch 2: Validation Loss: 0.0935, Accuracy: 0.9723, F1 Score: 0.9723\n",
            "Epoch 2 completed. Average Train Loss: 0.1724\n"
          ]
        },
        {
          "output_type": "stream",
          "name": "stderr",
          "text": [
            "Epoch 3/10 (Dropout 0.2): 100%|██████████| 1875/1875 [00:26<00:00, 71.93it/s, Train Loss=0.145]\n"
          ]
        },
        {
          "output_type": "stream",
          "name": "stdout",
          "text": [
            "              precision    recall  f1-score   support\n",
            "\n",
            "           0       0.97      0.99      0.98       980\n",
            "           1       1.00      0.99      0.99      1135\n",
            "           2       0.97      0.97      0.97      1032\n",
            "           3       0.97      0.99      0.98      1010\n",
            "           4       0.96      0.98      0.97       982\n",
            "           5       0.98      0.97      0.97       892\n",
            "           6       0.98      0.98      0.98       958\n",
            "           7       0.98      0.96      0.97      1027\n",
            "           8       0.98      0.96      0.97       974\n",
            "           9       0.98      0.96      0.97      1009\n",
            "\n",
            "    accuracy                           0.98      9999\n",
            "   macro avg       0.98      0.98      0.98      9999\n",
            "weighted avg       0.98      0.98      0.98      9999\n",
            "\n",
            "\n",
            "Epoch 3: Validation Loss: 0.0842, Accuracy: 0.9754, F1 Score: 0.9754\n",
            "Epoch 3 completed. Average Train Loss: 0.1455\n"
          ]
        },
        {
          "output_type": "stream",
          "name": "stderr",
          "text": [
            "Epoch 4/10 (Dropout 0.2): 100%|██████████| 1875/1875 [00:25<00:00, 74.57it/s, Train Loss=0.128]\n"
          ]
        },
        {
          "output_type": "stream",
          "name": "stdout",
          "text": [
            "              precision    recall  f1-score   support\n",
            "\n",
            "           0       0.99      0.99      0.99       980\n",
            "           1       0.98      1.00      0.99      1135\n",
            "           2       0.99      0.97      0.98      1032\n",
            "           3       0.98      0.97      0.97      1010\n",
            "           4       0.98      0.97      0.97       982\n",
            "           5       0.98      0.98      0.98       892\n",
            "           6       0.98      0.99      0.98       958\n",
            "           7       0.97      0.98      0.97      1027\n",
            "           8       0.97      0.97      0.97       974\n",
            "           9       0.97      0.97      0.97      1009\n",
            "\n",
            "    accuracy                           0.98      9999\n",
            "   macro avg       0.98      0.98      0.98      9999\n",
            "weighted avg       0.98      0.98      0.98      9999\n",
            "\n",
            "\n",
            "Epoch 4: Validation Loss: 0.0734, Accuracy: 0.9783, F1 Score: 0.9783\n",
            "Epoch 4 completed. Average Train Loss: 0.1277\n"
          ]
        },
        {
          "output_type": "stream",
          "name": "stderr",
          "text": [
            "Epoch 5/10 (Dropout 0.2): 100%|██████████| 1875/1875 [00:25<00:00, 73.25it/s, Train Loss=0.116]\n"
          ]
        },
        {
          "output_type": "stream",
          "name": "stdout",
          "text": [
            "              precision    recall  f1-score   support\n",
            "\n",
            "           0       0.97      0.99      0.98       980\n",
            "           1       0.99      0.99      0.99      1135\n",
            "           2       0.98      0.97      0.98      1032\n",
            "           3       0.96      0.98      0.97      1010\n",
            "           4       0.97      0.98      0.98       982\n",
            "           5       0.99      0.96      0.98       892\n",
            "           6       0.97      0.99      0.98       958\n",
            "           7       0.98      0.97      0.97      1027\n",
            "           8       0.97      0.97      0.97       974\n",
            "           9       0.98      0.96      0.97      1009\n",
            "\n",
            "    accuracy                           0.98      9999\n",
            "   macro avg       0.98      0.98      0.98      9999\n",
            "weighted avg       0.98      0.98      0.98      9999\n",
            "\n",
            "\n",
            "Epoch 5: Validation Loss: 0.0738, Accuracy: 0.9768, F1 Score: 0.9768\n",
            "Epoch 5 completed. Average Train Loss: 0.1162\n"
          ]
        },
        {
          "output_type": "stream",
          "name": "stderr",
          "text": [
            "Epoch 6/10 (Dropout 0.2): 100%|██████████| 1875/1875 [00:24<00:00, 75.59it/s, Train Loss=0.11]\n"
          ]
        },
        {
          "output_type": "stream",
          "name": "stdout",
          "text": [
            "              precision    recall  f1-score   support\n",
            "\n",
            "           0       0.99      0.98      0.98       980\n",
            "           1       0.99      0.99      0.99      1135\n",
            "           2       0.96      0.99      0.97      1032\n",
            "           3       0.97      0.97      0.97      1010\n",
            "           4       0.99      0.97      0.98       982\n",
            "           5       0.96      0.97      0.96       892\n",
            "           6       0.97      0.99      0.98       958\n",
            "           7       0.97      0.97      0.97      1027\n",
            "           8       0.94      0.98      0.96       974\n",
            "           9       0.99      0.91      0.95      1009\n",
            "\n",
            "    accuracy                           0.97      9999\n",
            "   macro avg       0.97      0.97      0.97      9999\n",
            "weighted avg       0.97      0.97      0.97      9999\n",
            "\n",
            "\n",
            "Epoch 6: Validation Loss: 0.0917, Accuracy: 0.9723, F1 Score: 0.9722\n",
            "Epoch 6 completed. Average Train Loss: 0.1102\n"
          ]
        },
        {
          "output_type": "stream",
          "name": "stderr",
          "text": [
            "Epoch 7/10 (Dropout 0.2): 100%|██████████| 1875/1875 [00:26<00:00, 71.16it/s, Train Loss=0.0995]\n"
          ]
        },
        {
          "output_type": "stream",
          "name": "stdout",
          "text": [
            "              precision    recall  f1-score   support\n",
            "\n",
            "           0       0.98      0.99      0.99       980\n",
            "           1       0.99      1.00      0.99      1135\n",
            "           2       0.98      0.98      0.98      1032\n",
            "           3       0.98      0.98      0.98      1010\n",
            "           4       0.97      0.98      0.98       982\n",
            "           5       0.97      0.98      0.97       892\n",
            "           6       0.98      0.98      0.98       958\n",
            "           7       0.97      0.98      0.98      1027\n",
            "           8       0.98      0.97      0.97       974\n",
            "           9       0.99      0.96      0.97      1009\n",
            "\n",
            "    accuracy                           0.98      9999\n",
            "   macro avg       0.98      0.98      0.98      9999\n",
            "weighted avg       0.98      0.98      0.98      9999\n",
            "\n",
            "\n",
            "Epoch 7: Validation Loss: 0.0668, Accuracy: 0.9796, F1 Score: 0.9796\n",
            "Epoch 7 completed. Average Train Loss: 0.0995\n"
          ]
        },
        {
          "output_type": "stream",
          "name": "stderr",
          "text": [
            "Epoch 8/10 (Dropout 0.2): 100%|██████████| 1875/1875 [00:27<00:00, 69.21it/s, Train Loss=0.0946]\n"
          ]
        },
        {
          "output_type": "stream",
          "name": "stdout",
          "text": [
            "              precision    recall  f1-score   support\n",
            "\n",
            "           0       0.98      0.99      0.99       980\n",
            "           1       0.99      0.99      0.99      1135\n",
            "           2       0.99      0.98      0.98      1032\n",
            "           3       0.97      0.98      0.98      1010\n",
            "           4       0.98      0.98      0.98       982\n",
            "           5       0.98      0.97      0.97       892\n",
            "           6       0.99      0.98      0.98       958\n",
            "           7       0.98      0.98      0.98      1027\n",
            "           8       0.97      0.98      0.98       974\n",
            "           9       0.98      0.97      0.97      1009\n",
            "\n",
            "    accuracy                           0.98      9999\n",
            "   macro avg       0.98      0.98      0.98      9999\n",
            "weighted avg       0.98      0.98      0.98      9999\n",
            "\n",
            "\n",
            "Epoch 8: Validation Loss: 0.0619, Accuracy: 0.9812, F1 Score: 0.9812\n",
            "Epoch 8 completed. Average Train Loss: 0.0946\n"
          ]
        },
        {
          "output_type": "stream",
          "name": "stderr",
          "text": [
            "Epoch 9/10 (Dropout 0.2): 100%|██████████| 1875/1875 [00:26<00:00, 71.09it/s, Train Loss=0.0855]\n"
          ]
        },
        {
          "output_type": "stream",
          "name": "stdout",
          "text": [
            "              precision    recall  f1-score   support\n",
            "\n",
            "           0       0.99      0.99      0.99       980\n",
            "           1       0.99      0.99      0.99      1135\n",
            "           2       0.98      0.99      0.98      1032\n",
            "           3       0.97      0.99      0.98      1010\n",
            "           4       0.98      0.98      0.98       982\n",
            "           5       0.99      0.97      0.98       892\n",
            "           6       0.99      0.98      0.99       958\n",
            "           7       0.99      0.97      0.98      1027\n",
            "           8       0.98      0.98      0.98       974\n",
            "           9       0.98      0.97      0.97      1009\n",
            "\n",
            "    accuracy                           0.98      9999\n",
            "   macro avg       0.98      0.98      0.98      9999\n",
            "weighted avg       0.98      0.98      0.98      9999\n",
            "\n",
            "\n",
            "Epoch 9: Validation Loss: 0.0614, Accuracy: 0.9823, F1 Score: 0.9823\n",
            "Epoch 9 completed. Average Train Loss: 0.0855\n"
          ]
        },
        {
          "output_type": "stream",
          "name": "stderr",
          "text": [
            "Epoch 10/10 (Dropout 0.2): 100%|██████████| 1875/1875 [00:25<00:00, 74.34it/s, Train Loss=0.0868]\n"
          ]
        },
        {
          "output_type": "stream",
          "name": "stdout",
          "text": [
            "              precision    recall  f1-score   support\n",
            "\n",
            "           0       0.98      0.99      0.99       980\n",
            "           1       0.99      0.99      0.99      1135\n",
            "           2       0.97      0.98      0.97      1032\n",
            "           3       0.98      0.97      0.98      1010\n",
            "           4       0.97      0.98      0.98       982\n",
            "           5       0.99      0.97      0.98       892\n",
            "           6       0.98      0.98      0.98       958\n",
            "           7       0.98      0.98      0.98      1027\n",
            "           8       0.98      0.98      0.98       974\n",
            "           9       0.99      0.97      0.98      1009\n",
            "\n",
            "    accuracy                           0.98      9999\n",
            "   macro avg       0.98      0.98      0.98      9999\n",
            "weighted avg       0.98      0.98      0.98      9999\n",
            "\n",
            "\n",
            "Epoch 10: Validation Loss: 0.0675, Accuracy: 0.9803, F1 Score: 0.9803\n",
            "Epoch 10 completed. Average Train Loss: 0.0868\n"
          ]
        },
        {
          "output_type": "stream",
          "name": "stderr",
          "text": [
            "Epoch 1/10 (Dropout 0.3): 100%|██████████| 1875/1875 [00:26<00:00, 71.59it/s, Train Loss=0.318]\n"
          ]
        },
        {
          "output_type": "stream",
          "name": "stdout",
          "text": [
            "              precision    recall  f1-score   support\n",
            "\n",
            "           0       0.97      0.99      0.98       980\n",
            "           1       0.98      0.99      0.98      1135\n",
            "           2       0.95      0.96      0.96      1032\n",
            "           3       0.98      0.93      0.95      1010\n",
            "           4       0.95      0.97      0.96       982\n",
            "           5       0.93      0.97      0.95       892\n",
            "           6       0.96      0.97      0.97       958\n",
            "           7       0.95      0.97      0.96      1027\n",
            "           8       0.95      0.96      0.96       974\n",
            "           9       0.98      0.91      0.94      1009\n",
            "\n",
            "    accuracy                           0.96      9999\n",
            "   macro avg       0.96      0.96      0.96      9999\n",
            "weighted avg       0.96      0.96      0.96      9999\n",
            "\n",
            "\n",
            "Epoch 1: Validation Loss: 0.1262, Accuracy: 0.9615, F1 Score: 0.9614\n",
            "Epoch 1 completed. Average Train Loss: 0.3179\n"
          ]
        },
        {
          "output_type": "stream",
          "name": "stderr",
          "text": [
            "Epoch 2/10 (Dropout 0.3): 100%|██████████| 1875/1875 [00:25<00:00, 73.48it/s, Train Loss=0.204]\n"
          ]
        },
        {
          "output_type": "stream",
          "name": "stdout",
          "text": [
            "              precision    recall  f1-score   support\n",
            "\n",
            "           0       0.97      0.99      0.98       980\n",
            "           1       0.99      0.99      0.99      1135\n",
            "           2       0.95      0.98      0.97      1032\n",
            "           3       0.97      0.96      0.97      1010\n",
            "           4       0.95      0.97      0.96       982\n",
            "           5       0.96      0.97      0.97       892\n",
            "           6       0.98      0.96      0.97       958\n",
            "           7       0.98      0.95      0.97      1027\n",
            "           8       0.98      0.93      0.96       974\n",
            "           9       0.94      0.96      0.95      1009\n",
            "\n",
            "    accuracy                           0.97      9999\n",
            "   macro avg       0.97      0.97      0.97      9999\n",
            "weighted avg       0.97      0.97      0.97      9999\n",
            "\n",
            "\n",
            "Epoch 2: Validation Loss: 0.1011, Accuracy: 0.9672, F1 Score: 0.9672\n",
            "Epoch 2 completed. Average Train Loss: 0.2044\n"
          ]
        },
        {
          "output_type": "stream",
          "name": "stderr",
          "text": [
            "Epoch 3/10 (Dropout 0.3): 100%|██████████| 1875/1875 [00:27<00:00, 68.60it/s, Train Loss=0.176]\n"
          ]
        },
        {
          "output_type": "stream",
          "name": "stdout",
          "text": [
            "              precision    recall  f1-score   support\n",
            "\n",
            "           0       0.97      0.99      0.98       980\n",
            "           1       0.98      0.99      0.99      1135\n",
            "           2       0.97      0.97      0.97      1032\n",
            "           3       0.98      0.97      0.97      1010\n",
            "           4       0.97      0.97      0.97       982\n",
            "           5       0.96      0.98      0.97       892\n",
            "           6       0.98      0.98      0.98       958\n",
            "           7       0.97      0.96      0.97      1027\n",
            "           8       0.98      0.95      0.97       974\n",
            "           9       0.96      0.97      0.97      1009\n",
            "\n",
            "    accuracy                           0.97      9999\n",
            "   macro avg       0.97      0.97      0.97      9999\n",
            "weighted avg       0.97      0.97      0.97      9999\n",
            "\n",
            "\n",
            "Epoch 3: Validation Loss: 0.0894, Accuracy: 0.9732, F1 Score: 0.9732\n",
            "Epoch 3 completed. Average Train Loss: 0.1759\n"
          ]
        },
        {
          "output_type": "stream",
          "name": "stderr",
          "text": [
            "Epoch 4/10 (Dropout 0.3): 100%|██████████| 1875/1875 [00:27<00:00, 68.04it/s, Train Loss=0.158]\n"
          ]
        },
        {
          "output_type": "stream",
          "name": "stdout",
          "text": [
            "              precision    recall  f1-score   support\n",
            "\n",
            "           0       0.98      0.99      0.99       980\n",
            "           1       0.99      0.99      0.99      1135\n",
            "           2       0.98      0.98      0.98      1032\n",
            "           3       0.97      0.98      0.97      1010\n",
            "           4       0.96      0.98      0.97       982\n",
            "           5       0.99      0.96      0.97       892\n",
            "           6       0.99      0.97      0.98       958\n",
            "           7       0.96      0.98      0.97      1027\n",
            "           8       0.97      0.97      0.97       974\n",
            "           9       0.99      0.95      0.97      1009\n",
            "\n",
            "    accuracy                           0.98      9999\n",
            "   macro avg       0.98      0.98      0.98      9999\n",
            "weighted avg       0.98      0.98      0.98      9999\n",
            "\n",
            "\n",
            "Epoch 4: Validation Loss: 0.0790, Accuracy: 0.9761, F1 Score: 0.9761\n",
            "Epoch 4 completed. Average Train Loss: 0.1578\n"
          ]
        },
        {
          "output_type": "stream",
          "name": "stderr",
          "text": [
            "Epoch 5/10 (Dropout 0.3): 100%|██████████| 1875/1875 [00:25<00:00, 73.44it/s, Train Loss=0.144]\n"
          ]
        },
        {
          "output_type": "stream",
          "name": "stdout",
          "text": [
            "              precision    recall  f1-score   support\n",
            "\n",
            "           0       1.00      0.98      0.99       980\n",
            "           1       0.98      0.99      0.99      1135\n",
            "           2       0.98      0.99      0.98      1032\n",
            "           3       0.98      0.96      0.97      1010\n",
            "           4       0.97      0.98      0.98       982\n",
            "           5       0.95      0.99      0.97       892\n",
            "           6       0.97      0.98      0.98       958\n",
            "           7       0.97      0.96      0.97      1027\n",
            "           8       0.98      0.97      0.98       974\n",
            "           9       0.97      0.96      0.97      1009\n",
            "\n",
            "    accuracy                           0.98      9999\n",
            "   macro avg       0.98      0.98      0.98      9999\n",
            "weighted avg       0.98      0.98      0.98      9999\n",
            "\n",
            "\n",
            "Epoch 5: Validation Loss: 0.0764, Accuracy: 0.9755, F1 Score: 0.9755\n",
            "Epoch 5 completed. Average Train Loss: 0.1437\n"
          ]
        },
        {
          "output_type": "stream",
          "name": "stderr",
          "text": [
            "Epoch 6/10 (Dropout 0.3): 100%|██████████| 1875/1875 [00:26<00:00, 69.84it/s, Train Loss=0.134]\n"
          ]
        },
        {
          "output_type": "stream",
          "name": "stdout",
          "text": [
            "              precision    recall  f1-score   support\n",
            "\n",
            "           0       0.97      0.99      0.98       980\n",
            "           1       0.98      0.99      0.99      1135\n",
            "           2       0.97      0.98      0.98      1032\n",
            "           3       0.98      0.98      0.98      1010\n",
            "           4       0.99      0.95      0.97       982\n",
            "           5       0.99      0.96      0.98       892\n",
            "           6       0.96      0.99      0.97       958\n",
            "           7       0.98      0.96      0.97      1027\n",
            "           8       0.97      0.98      0.98       974\n",
            "           9       0.96      0.97      0.97      1009\n",
            "\n",
            "    accuracy                           0.98      9999\n",
            "   macro avg       0.98      0.98      0.98      9999\n",
            "weighted avg       0.98      0.98      0.98      9999\n",
            "\n",
            "\n",
            "Epoch 6: Validation Loss: 0.0814, Accuracy: 0.9757, F1 Score: 0.9757\n",
            "Epoch 6 completed. Average Train Loss: 0.1338\n"
          ]
        },
        {
          "output_type": "stream",
          "name": "stderr",
          "text": [
            "Epoch 7/10 (Dropout 0.3): 100%|██████████| 1875/1875 [00:25<00:00, 73.18it/s, Train Loss=0.126]\n"
          ]
        },
        {
          "output_type": "stream",
          "name": "stdout",
          "text": [
            "              precision    recall  f1-score   support\n",
            "\n",
            "           0       0.99      0.99      0.99       980\n",
            "           1       0.99      0.99      0.99      1135\n",
            "           2       0.98      0.98      0.98      1032\n",
            "           3       0.97      0.98      0.98      1010\n",
            "           4       0.97      0.98      0.98       982\n",
            "           5       0.99      0.97      0.98       892\n",
            "           6       0.98      0.99      0.98       958\n",
            "           7       0.97      0.98      0.98      1027\n",
            "           8       0.98      0.97      0.98       974\n",
            "           9       0.98      0.96      0.97      1009\n",
            "\n",
            "    accuracy                           0.98      9999\n",
            "   macro avg       0.98      0.98      0.98      9999\n",
            "weighted avg       0.98      0.98      0.98      9999\n",
            "\n",
            "\n",
            "Epoch 7: Validation Loss: 0.0656, Accuracy: 0.9803, F1 Score: 0.9803\n",
            "Epoch 7 completed. Average Train Loss: 0.1264\n"
          ]
        },
        {
          "output_type": "stream",
          "name": "stderr",
          "text": [
            "Epoch 8/10 (Dropout 0.3): 100%|██████████| 1875/1875 [00:26<00:00, 70.25it/s, Train Loss=0.119]\n"
          ]
        },
        {
          "output_type": "stream",
          "name": "stdout",
          "text": [
            "              precision    recall  f1-score   support\n",
            "\n",
            "           0       0.97      0.99      0.98       980\n",
            "           1       0.99      0.99      0.99      1135\n",
            "           2       0.97      0.98      0.98      1032\n",
            "           3       0.98      0.98      0.98      1010\n",
            "           4       0.97      0.99      0.98       982\n",
            "           5       0.99      0.97      0.98       892\n",
            "           6       0.98      0.97      0.98       958\n",
            "           7       0.98      0.98      0.98      1027\n",
            "           8       0.98      0.97      0.98       974\n",
            "           9       0.98      0.96      0.97      1009\n",
            "\n",
            "    accuracy                           0.98      9999\n",
            "   macro avg       0.98      0.98      0.98      9999\n",
            "weighted avg       0.98      0.98      0.98      9999\n",
            "\n",
            "\n",
            "Epoch 8: Validation Loss: 0.0693, Accuracy: 0.9786, F1 Score: 0.9786\n",
            "Epoch 8 completed. Average Train Loss: 0.1194\n"
          ]
        },
        {
          "output_type": "stream",
          "name": "stderr",
          "text": [
            "Epoch 9/10 (Dropout 0.3): 100%|██████████| 1875/1875 [00:25<00:00, 73.68it/s, Train Loss=0.116]\n"
          ]
        },
        {
          "output_type": "stream",
          "name": "stdout",
          "text": [
            "              precision    recall  f1-score   support\n",
            "\n",
            "           0       0.98      0.99      0.99       980\n",
            "           1       0.99      0.99      0.99      1135\n",
            "           2       0.98      0.98      0.98      1032\n",
            "           3       0.98      0.97      0.98      1010\n",
            "           4       0.98      0.98      0.98       982\n",
            "           5       0.98      0.98      0.98       892\n",
            "           6       0.97      0.98      0.98       958\n",
            "           7       0.98      0.98      0.98      1027\n",
            "           8       0.98      0.97      0.98       974\n",
            "           9       0.98      0.96      0.97      1009\n",
            "\n",
            "    accuracy                           0.98      9999\n",
            "   macro avg       0.98      0.98      0.98      9999\n",
            "weighted avg       0.98      0.98      0.98      9999\n",
            "\n",
            "\n",
            "Epoch 9: Validation Loss: 0.0658, Accuracy: 0.9798, F1 Score: 0.9798\n",
            "Epoch 9 completed. Average Train Loss: 0.1158\n"
          ]
        },
        {
          "output_type": "stream",
          "name": "stderr",
          "text": [
            "Epoch 10/10 (Dropout 0.3): 100%|██████████| 1875/1875 [00:28<00:00, 66.20it/s, Train Loss=0.109]\n"
          ]
        },
        {
          "output_type": "stream",
          "name": "stdout",
          "text": [
            "              precision    recall  f1-score   support\n",
            "\n",
            "           0       0.99      0.99      0.99       980\n",
            "           1       0.99      0.99      0.99      1135\n",
            "           2       0.97      0.99      0.98      1032\n",
            "           3       0.99      0.97      0.98      1010\n",
            "           4       0.98      0.98      0.98       982\n",
            "           5       0.97      0.99      0.98       892\n",
            "           6       0.99      0.97      0.98       958\n",
            "           7       0.98      0.97      0.97      1027\n",
            "           8       0.97      0.98      0.98       974\n",
            "           9       0.98      0.97      0.97      1009\n",
            "\n",
            "    accuracy                           0.98      9999\n",
            "   macro avg       0.98      0.98      0.98      9999\n",
            "weighted avg       0.98      0.98      0.98      9999\n",
            "\n",
            "\n",
            "Epoch 10: Validation Loss: 0.0670, Accuracy: 0.9794, F1 Score: 0.9794\n",
            "Epoch 10 completed. Average Train Loss: 0.1093\n"
          ]
        },
        {
          "output_type": "stream",
          "name": "stderr",
          "text": [
            "Epoch 1/10 (Dropout 0.5): 100%|██████████| 1875/1875 [00:25<00:00, 72.72it/s, Train Loss=0.427]\n"
          ]
        },
        {
          "output_type": "stream",
          "name": "stdout",
          "text": [
            "              precision    recall  f1-score   support\n",
            "\n",
            "           0       0.97      0.99      0.98       980\n",
            "           1       0.97      0.98      0.97      1135\n",
            "           2       0.97      0.94      0.95      1032\n",
            "           3       0.96      0.95      0.95      1010\n",
            "           4       0.93      0.96      0.94       982\n",
            "           5       0.95      0.95      0.95       892\n",
            "           6       0.95      0.97      0.96       958\n",
            "           7       0.97      0.93      0.95      1027\n",
            "           8       0.95      0.94      0.94       974\n",
            "           9       0.93      0.95      0.94      1009\n",
            "\n",
            "    accuracy                           0.95      9999\n",
            "   macro avg       0.95      0.95      0.95      9999\n",
            "weighted avg       0.95      0.95      0.95      9999\n",
            "\n",
            "\n",
            "Epoch 1: Validation Loss: 0.1438, Accuracy: 0.9546, F1 Score: 0.9546\n",
            "Epoch 1 completed. Average Train Loss: 0.4266\n"
          ]
        },
        {
          "output_type": "stream",
          "name": "stderr",
          "text": [
            "Epoch 2/10 (Dropout 0.5): 100%|██████████| 1875/1875 [00:25<00:00, 73.37it/s, Train Loss=0.296]\n"
          ]
        },
        {
          "output_type": "stream",
          "name": "stdout",
          "text": [
            "              precision    recall  f1-score   support\n",
            "\n",
            "           0       0.96      0.99      0.97       980\n",
            "           1       0.98      0.99      0.98      1135\n",
            "           2       0.95      0.97      0.96      1032\n",
            "           3       0.95      0.95      0.95      1010\n",
            "           4       0.97      0.96      0.96       982\n",
            "           5       0.99      0.91      0.95       892\n",
            "           6       0.97      0.98      0.97       958\n",
            "           7       0.96      0.96      0.96      1027\n",
            "           8       0.95      0.96      0.95       974\n",
            "           9       0.95      0.96      0.96      1009\n",
            "\n",
            "    accuracy                           0.96      9999\n",
            "   macro avg       0.96      0.96      0.96      9999\n",
            "weighted avg       0.96      0.96      0.96      9999\n",
            "\n",
            "\n",
            "Epoch 2: Validation Loss: 0.1166, Accuracy: 0.9623, F1 Score: 0.9622\n",
            "Epoch 2 completed. Average Train Loss: 0.2955\n"
          ]
        },
        {
          "output_type": "stream",
          "name": "stderr",
          "text": [
            "Epoch 3/10 (Dropout 0.5): 100%|██████████| 1875/1875 [00:26<00:00, 70.14it/s, Train Loss=0.264]\n"
          ]
        },
        {
          "output_type": "stream",
          "name": "stdout",
          "text": [
            "              precision    recall  f1-score   support\n",
            "\n",
            "           0       0.97      0.99      0.98       980\n",
            "           1       0.98      0.99      0.98      1135\n",
            "           2       0.97      0.96      0.97      1032\n",
            "           3       0.95      0.97      0.96      1010\n",
            "           4       0.96      0.98      0.97       982\n",
            "           5       0.97      0.95      0.96       892\n",
            "           6       0.97      0.98      0.98       958\n",
            "           7       0.97      0.95      0.96      1027\n",
            "           8       0.96      0.97      0.96       974\n",
            "           9       0.97      0.94      0.96      1009\n",
            "\n",
            "    accuracy                           0.97      9999\n",
            "   macro avg       0.97      0.97      0.97      9999\n",
            "weighted avg       0.97      0.97      0.97      9999\n",
            "\n",
            "\n",
            "Epoch 3: Validation Loss: 0.1035, Accuracy: 0.9681, F1 Score: 0.9680\n",
            "Epoch 3 completed. Average Train Loss: 0.2639\n"
          ]
        },
        {
          "output_type": "stream",
          "name": "stderr",
          "text": [
            "Epoch 4/10 (Dropout 0.5): 100%|██████████| 1875/1875 [00:25<00:00, 74.36it/s, Train Loss=0.242]\n"
          ]
        },
        {
          "output_type": "stream",
          "name": "stdout",
          "text": [
            "              precision    recall  f1-score   support\n",
            "\n",
            "           0       0.97      0.99      0.98       980\n",
            "           1       0.98      0.99      0.98      1135\n",
            "           2       0.96      0.98      0.97      1032\n",
            "           3       0.97      0.96      0.97      1010\n",
            "           4       0.98      0.95      0.97       982\n",
            "           5       0.98      0.96      0.97       892\n",
            "           6       0.97      0.98      0.98       958\n",
            "           7       0.97      0.96      0.96      1027\n",
            "           8       0.96      0.97      0.97       974\n",
            "           9       0.96      0.96      0.96      1009\n",
            "\n",
            "    accuracy                           0.97      9999\n",
            "   macro avg       0.97      0.97      0.97      9999\n",
            "weighted avg       0.97      0.97      0.97      9999\n",
            "\n",
            "\n",
            "Epoch 4: Validation Loss: 0.0972, Accuracy: 0.9704, F1 Score: 0.9704\n",
            "Epoch 4 completed. Average Train Loss: 0.2416\n"
          ]
        },
        {
          "output_type": "stream",
          "name": "stderr",
          "text": [
            "Epoch 5/10 (Dropout 0.5): 100%|██████████| 1875/1875 [00:26<00:00, 69.67it/s, Train Loss=0.23]\n"
          ]
        },
        {
          "output_type": "stream",
          "name": "stdout",
          "text": [
            "              precision    recall  f1-score   support\n",
            "\n",
            "           0       0.97      0.99      0.98       980\n",
            "           1       0.98      0.99      0.99      1135\n",
            "           2       0.97      0.96      0.97      1032\n",
            "           3       0.97      0.97      0.97      1010\n",
            "           4       0.96      0.98      0.97       982\n",
            "           5       0.98      0.95      0.96       892\n",
            "           6       0.95      0.99      0.97       958\n",
            "           7       0.97      0.97      0.97      1027\n",
            "           8       0.96      0.97      0.96       974\n",
            "           9       0.98      0.94      0.96      1009\n",
            "\n",
            "    accuracy                           0.97      9999\n",
            "   macro avg       0.97      0.97      0.97      9999\n",
            "weighted avg       0.97      0.97      0.97      9999\n",
            "\n",
            "\n",
            "Epoch 5: Validation Loss: 0.0943, Accuracy: 0.9709, F1 Score: 0.9709\n",
            "Epoch 5 completed. Average Train Loss: 0.2300\n"
          ]
        },
        {
          "output_type": "stream",
          "name": "stderr",
          "text": [
            "Epoch 6/10 (Dropout 0.5): 100%|██████████| 1875/1875 [00:27<00:00, 68.73it/s, Train Loss=0.215]\n"
          ]
        },
        {
          "output_type": "stream",
          "name": "stdout",
          "text": [
            "              precision    recall  f1-score   support\n",
            "\n",
            "           0       0.98      0.99      0.98       980\n",
            "           1       0.98      1.00      0.99      1135\n",
            "           2       0.98      0.98      0.98      1032\n",
            "           3       0.98      0.96      0.97      1010\n",
            "           4       0.97      0.98      0.98       982\n",
            "           5       0.97      0.96      0.97       892\n",
            "           6       0.97      0.98      0.97       958\n",
            "           7       0.97      0.96      0.97      1027\n",
            "           8       0.98      0.96      0.97       974\n",
            "           9       0.97      0.96      0.96      1009\n",
            "\n",
            "    accuracy                           0.97      9999\n",
            "   macro avg       0.97      0.97      0.97      9999\n",
            "weighted avg       0.97      0.97      0.97      9999\n",
            "\n",
            "\n",
            "Epoch 6: Validation Loss: 0.0850, Accuracy: 0.9742, F1 Score: 0.9742\n",
            "Epoch 6 completed. Average Train Loss: 0.2148\n"
          ]
        },
        {
          "output_type": "stream",
          "name": "stderr",
          "text": [
            "Epoch 7/10 (Dropout 0.5): 100%|██████████| 1875/1875 [00:27<00:00, 68.71it/s, Train Loss=0.205]\n"
          ]
        },
        {
          "output_type": "stream",
          "name": "stdout",
          "text": [
            "              precision    recall  f1-score   support\n",
            "\n",
            "           0       0.98      0.99      0.98       980\n",
            "           1       0.98      0.99      0.99      1135\n",
            "           2       0.96      0.98      0.97      1032\n",
            "           3       0.97      0.97      0.97      1010\n",
            "           4       0.98      0.98      0.98       982\n",
            "           5       0.98      0.97      0.97       892\n",
            "           6       0.97      0.98      0.98       958\n",
            "           7       0.98      0.96      0.97      1027\n",
            "           8       0.98      0.96      0.97       974\n",
            "           9       0.97      0.96      0.97      1009\n",
            "\n",
            "    accuracy                           0.97      9999\n",
            "   macro avg       0.97      0.97      0.97      9999\n",
            "weighted avg       0.97      0.97      0.97      9999\n",
            "\n",
            "\n",
            "Epoch 7: Validation Loss: 0.0820, Accuracy: 0.9748, F1 Score: 0.9748\n",
            "Epoch 7 completed. Average Train Loss: 0.2047\n"
          ]
        },
        {
          "output_type": "stream",
          "name": "stderr",
          "text": [
            "Epoch 8/10 (Dropout 0.5): 100%|██████████| 1875/1875 [00:25<00:00, 73.12it/s, Train Loss=0.2]\n"
          ]
        },
        {
          "output_type": "stream",
          "name": "stdout",
          "text": [
            "              precision    recall  f1-score   support\n",
            "\n",
            "           0       0.97      0.99      0.98       980\n",
            "           1       0.99      0.99      0.99      1135\n",
            "           2       0.98      0.98      0.98      1032\n",
            "           3       0.99      0.96      0.97      1010\n",
            "           4       0.98      0.96      0.97       982\n",
            "           5       0.97      0.98      0.97       892\n",
            "           6       0.97      0.98      0.98       958\n",
            "           7       0.97      0.97      0.97      1027\n",
            "           8       0.98      0.96      0.97       974\n",
            "           9       0.95      0.98      0.96      1009\n",
            "\n",
            "    accuracy                           0.97      9999\n",
            "   macro avg       0.97      0.97      0.97      9999\n",
            "weighted avg       0.97      0.97      0.97      9999\n",
            "\n",
            "\n",
            "Epoch 8: Validation Loss: 0.0820, Accuracy: 0.9747, F1 Score: 0.9747\n",
            "Epoch 8 completed. Average Train Loss: 0.2003\n"
          ]
        },
        {
          "output_type": "stream",
          "name": "stderr",
          "text": [
            "Epoch 9/10 (Dropout 0.5): 100%|██████████| 1875/1875 [00:26<00:00, 69.92it/s, Train Loss=0.185]\n"
          ]
        },
        {
          "output_type": "stream",
          "name": "stdout",
          "text": [
            "              precision    recall  f1-score   support\n",
            "\n",
            "           0       0.97      0.99      0.98       980\n",
            "           1       0.98      0.99      0.99      1135\n",
            "           2       0.98      0.97      0.98      1032\n",
            "           3       0.98      0.97      0.98      1010\n",
            "           4       0.98      0.98      0.98       982\n",
            "           5       0.98      0.98      0.98       892\n",
            "           6       0.98      0.98      0.98       958\n",
            "           7       0.98      0.96      0.97      1027\n",
            "           8       0.97      0.96      0.97       974\n",
            "           9       0.96      0.98      0.97      1009\n",
            "\n",
            "    accuracy                           0.98      9999\n",
            "   macro avg       0.98      0.98      0.98      9999\n",
            "weighted avg       0.98      0.98      0.98      9999\n",
            "\n",
            "\n",
            "Epoch 9: Validation Loss: 0.0757, Accuracy: 0.9772, F1 Score: 0.9772\n",
            "Epoch 9 completed. Average Train Loss: 0.1853\n"
          ]
        },
        {
          "output_type": "stream",
          "name": "stderr",
          "text": [
            "Epoch 10/10 (Dropout 0.5): 100%|██████████| 1875/1875 [00:25<00:00, 72.46it/s, Train Loss=0.186]\n"
          ]
        },
        {
          "output_type": "stream",
          "name": "stdout",
          "text": [
            "              precision    recall  f1-score   support\n",
            "\n",
            "           0       0.98      0.99      0.98       980\n",
            "           1       0.99      0.99      0.99      1135\n",
            "           2       0.98      0.98      0.98      1032\n",
            "           3       0.98      0.98      0.98      1010\n",
            "           4       0.98      0.98      0.98       982\n",
            "           5       0.98      0.97      0.98       892\n",
            "           6       0.98      0.98      0.98       958\n",
            "           7       0.97      0.97      0.97      1027\n",
            "           8       0.97      0.97      0.97       974\n",
            "           9       0.97      0.97      0.97      1009\n",
            "\n",
            "    accuracy                           0.98      9999\n",
            "   macro avg       0.98      0.98      0.98      9999\n",
            "weighted avg       0.98      0.98      0.98      9999\n",
            "\n",
            "\n",
            "Epoch 10: Validation Loss: 0.0714, Accuracy: 0.9784, F1 Score: 0.9784\n",
            "Epoch 10 completed. Average Train Loss: 0.1860\n"
          ]
        },
        {
          "output_type": "display_data",
          "data": {
            "text/plain": [
              "<Figure size 1200x600 with 2 Axes>"
            ],
            "image/png": "[encoded data removed]"
          },
          "metadata": {}
        }
      ]
    },
    {
      "cell_type": "code",
      "source": [
        "import torch.optim as optim\n",
        "import matplotlib.pyplot as plt\n",
        "\n",
        "# Modified MLP model with optional batch normalization and dropout removal\n",
        "class MLP(nn.Module):\n",
        "    def __init__(self, input_size, hidden_sizes, output_size, activation_fn=torch.nn.ReLU, use_batchnorm=True):\n",
        "        super(MLP, self).__init__()\n",
        "        layers = []\n",
        "\n",
        "        # Input to first hidden layer\n",
        "        layers.append(nn.Linear(input_size, hidden_sizes[0]))\n",
        "        if use_batchnorm:\n",
        "            layers.append(nn.BatchNorm1d(hidden_sizes[0]))  # Adding BatchNorm\n",
        "        layers.append(activation_fn())\n",
        "\n",
        "        # Add additional hidden layers\n",
        "        for i in range(1, len(hidden_sizes)):\n",
        "            layers.append(nn.Linear(hidden_sizes[i-1], hidden_sizes[i]))\n",
        "            if use_batchnorm:\n",
        "                layers.append(nn.BatchNorm1d(hidden_sizes[i]))  # Adding BatchNorm\n",
        "            layers.append(activation_fn())\n",
        "\n",
        "        # Output layer\n",
        "        layers.append(nn.Linear(hidden_sizes[-1], output_size))\n",
        "        self.model = nn.Sequential(*layers)\n",
        "\n",
        "    def forward(self, x):\n",
        "        return self.model(x)\n",
        "\n",
        "# Function to train and evaluate with different hidden layer configurations\n",
        "def train_and_evaluate_with_hidden_layers(train_loader, eval_loader, criterion, input_size, hidden_layers_configs, output_size, learning_rate=1e-03, epochs=15):  # Reduced learning rate\n",
        "\n",
        "    # Dictionary to store results\n",
        "    all_accuracies = {}\n",
        "    all_f1_scores = {}\n",
        "\n",
        "    for hidden_sizes in hidden_layers_configs:\n",
        "        print(f\"Training model with {len(hidden_sizes)} hidden layers: {hidden_sizes}\")\n",
        "\n",
        "        model = MLP(input_size, hidden_sizes, output_size).to(device)\n",
        "        optimizer = optim.Adam(model.parameters(), lr=learning_rate)  # Lower learning rate to 1e-03\n",
        "\n",
        "        # Train and evaluate the model\n",
        "        epoch_steps, accuracies, f1_scores = train_and_evaluate_with_dropout(model, train_loader, eval_loader, criterion, optimizer, dropout_rate=0.1, epochs=epochs)  # No dropout\n",
        "\n",
        "        # Store results for each hidden layer configuration\n",
        "        all_accuracies[f'{len(hidden_sizes)} layers'] = accuracies\n",
        "        all_f1_scores[f'{len(hidden_sizes)} layers'] = f1_scores\n",
        "\n",
        "    # Plot the results\n",
        "    fig, ax = plt.subplots(1, 2, figsize=(12, 6))\n",
        "\n",
        "    # Plot accuracy\n",
        "    for label in all_accuracies:\n",
        "        ax[0].plot(epoch_steps, all_accuracies[label], label=f'{label} Accuracy', marker='o')\n",
        "\n",
        "    # Plot F1 score\n",
        "    for label in all_f1_scores:\n",
        "        ax[1].plot(epoch_steps, all_f1_scores[label], label=f'{label} F1 Score', marker='o')\n",
        "\n",
        "    # Customize the accuracy plot\n",
        "    ax[0].set_title('Accuracy Over Epochs (Different Hidden Layers)')\n",
        "    ax[0].set_xlabel('Epoch')\n",
        "    ax[0].set_ylabel('Accuracy')\n",
        "    ax[0].legend()\n",
        "    ax[0].grid(True)\n",
        "\n",
        "    # Customize the F1 score plot\n",
        "    ax[1].set_title('F1 Score Over Epochs (Different Hidden Layers)')\n",
        "    ax[1].set_xlabel('Epoch')\n",
        "    ax[1].set_ylabel('F1 Score')\n",
        "    ax[1].legend()\n",
        "    ax[1].grid(True)\n",
        "\n",
        "    plt.tight_layout()\n",
        "    plt.show()\n",
        "\n",
        "# Hidden layer configurations for ablation study (1, 2, and 3 hidden layers with larger neurons)\n",
        "hidden_layers_configs = [\n",
        "    [256],         # 1 hidden layer with 256 neurons\n",
        "    [512, 256],    # 2 hidden layers with more neurons\n",
        "    [512, 256, 128] # 3 hidden layers with even more capacity\n",
        "]\n",
        "\n",
        "# Example call for the ablation study with different hidden layers\n",
        "train_and_evaluate_with_hidden_layers(train_loader, eval_loader, criterion, input_size=784, hidden_layers_configs=hidden_layers_configs, output_size=10, learning_rate=1e-03, epochs=15)\n"
      ],
      "metadata": {
        "colab": {
          "base_uri": "https://localhost:8080/",
          "height": 1000
        },
        "id": "StAV1GFZZx2F",
        "outputId": "de86bb5a-811d-4e96-dfd1-05e0197d646d"
      },
      "execution_count": null,
      "outputs": [
        {
          "output_type": "stream",
          "name": "stdout",
          "text": [
            "Training model with 1 hidden layers: [256]\n"
          ]
        },
        {
          "output_type": "stream",
          "name": "stderr",
          "text": [
            "Epoch 1/15 (Dropout 0.1): 100%|██████████| 1875/1875 [00:29<00:00, 62.60it/s, Train Loss=0.224] \n"
          ]
        },
        {
          "output_type": "stream",
          "name": "stdout",
          "text": [
            "              precision    recall  f1-score   support\n",
            "\n",
            "           0       0.98      0.99      0.98       980\n",
            "           1       0.98      0.99      0.98      1135\n",
            "           2       0.97      0.96      0.96      1032\n",
            "           3       0.97      0.97      0.97      1010\n",
            "           4       0.97      0.95      0.96       982\n",
            "           5       0.95      0.98      0.97       892\n",
            "           6       0.98      0.97      0.98       958\n",
            "           7       0.97      0.95      0.96      1027\n",
            "           8       0.97      0.95      0.96       974\n",
            "           9       0.94      0.97      0.95      1009\n",
            "\n",
            "    accuracy                           0.97      9999\n",
            "   macro avg       0.97      0.97      0.97      9999\n",
            "weighted avg       0.97      0.97      0.97      9999\n",
            "\n",
            "\n",
            "Epoch 1: Validation Loss: 0.1063, Accuracy: 0.9673, F1 Score: 0.9673\n",
            "Epoch 1 completed. Average Train Loss: 0.2235\n"
          ]
        },
        {
          "output_type": "stream",
          "name": "stderr",
          "text": [
            "Epoch 2/15 (Dropout 0.1): 100%|██████████| 1875/1875 [00:21<00:00, 85.26it/s, Train Loss=0.107]\n"
          ]
        },
        {
          "output_type": "stream",
          "name": "stdout",
          "text": [
            "              precision    recall  f1-score   support\n",
            "\n",
            "           0       0.98      0.99      0.98       980\n",
            "           1       0.98      0.99      0.99      1135\n",
            "           2       0.98      0.97      0.97      1032\n",
            "           3       0.98      0.98      0.98      1010\n",
            "           4       0.97      0.97      0.97       982\n",
            "           5       0.98      0.96      0.97       892\n",
            "           6       0.99      0.97      0.98       958\n",
            "           7       0.97      0.96      0.96      1027\n",
            "           8       0.96      0.97      0.96       974\n",
            "           9       0.95      0.97      0.96      1009\n",
            "\n",
            "    accuracy                           0.97      9999\n",
            "   macro avg       0.97      0.97      0.97      9999\n",
            "weighted avg       0.97      0.97      0.97      9999\n",
            "\n",
            "\n",
            "Epoch 2: Validation Loss: 0.0849, Accuracy: 0.9732, F1 Score: 0.9732\n",
            "Epoch 2 completed. Average Train Loss: 0.1066\n"
          ]
        },
        {
          "output_type": "stream",
          "name": "stderr",
          "text": [
            "Epoch 3/15 (Dropout 0.1): 100%|██████████| 1875/1875 [00:23<00:00, 81.08it/s, Train Loss=0.0787]\n"
          ]
        },
        {
          "output_type": "stream",
          "name": "stdout",
          "text": [
            "              precision    recall  f1-score   support\n",
            "\n",
            "           0       0.98      0.99      0.99       980\n",
            "           1       0.99      0.99      0.99      1135\n",
            "           2       0.97      0.98      0.97      1032\n",
            "           3       0.96      0.98      0.97      1010\n",
            "           4       0.98      0.98      0.98       982\n",
            "           5       0.98      0.96      0.97       892\n",
            "           6       0.99      0.98      0.98       958\n",
            "           7       0.98      0.97      0.98      1027\n",
            "           8       0.97      0.96      0.97       974\n",
            "           9       0.98      0.97      0.97      1009\n",
            "\n",
            "    accuracy                           0.98      9999\n",
            "   macro avg       0.98      0.98      0.98      9999\n",
            "weighted avg       0.98      0.98      0.98      9999\n",
            "\n",
            "\n",
            "Epoch 3: Validation Loss: 0.0726, Accuracy: 0.9780, F1 Score: 0.9780\n",
            "Epoch 3 completed. Average Train Loss: 0.0787\n"
          ]
        },
        {
          "output_type": "stream",
          "name": "stderr",
          "text": [
            "Epoch 4/15 (Dropout 0.1): 100%|██████████| 1875/1875 [00:23<00:00, 80.42it/s, Train Loss=0.0624]\n"
          ]
        },
        {
          "output_type": "stream",
          "name": "stdout",
          "text": [
            "              precision    recall  f1-score   support\n",
            "\n",
            "           0       0.98      0.99      0.98       980\n",
            "           1       0.99      0.99      0.99      1135\n",
            "           2       0.98      0.97      0.97      1032\n",
            "           3       0.98      0.97      0.98      1010\n",
            "           4       0.98      0.98      0.98       982\n",
            "           5       0.98      0.97      0.98       892\n",
            "           6       0.97      0.99      0.98       958\n",
            "           7       0.97      0.98      0.98      1027\n",
            "           8       0.98      0.97      0.97       974\n",
            "           9       0.97      0.97      0.97      1009\n",
            "\n",
            "    accuracy                           0.98      9999\n",
            "   macro avg       0.98      0.98      0.98      9999\n",
            "weighted avg       0.98      0.98      0.98      9999\n",
            "\n",
            "\n",
            "Epoch 4: Validation Loss: 0.0696, Accuracy: 0.9786, F1 Score: 0.9786\n",
            "Epoch 4 completed. Average Train Loss: 0.0624\n"
          ]
        },
        {
          "output_type": "stream",
          "name": "stderr",
          "text": [
            "Epoch 5/15 (Dropout 0.1): 100%|██████████| 1875/1875 [00:22<00:00, 82.08it/s, Train Loss=0.0516]\n"
          ]
        },
        {
          "output_type": "stream",
          "name": "stdout",
          "text": [
            "              precision    recall  f1-score   support\n",
            "\n",
            "           0       0.99      0.98      0.99       980\n",
            "           1       0.99      0.99      0.99      1135\n",
            "           2       0.98      0.97      0.98      1032\n",
            "           3       0.96      0.98      0.97      1010\n",
            "           4       0.97      0.97      0.97       982\n",
            "           5       0.99      0.95      0.97       892\n",
            "           6       0.98      0.98      0.98       958\n",
            "           7       0.98      0.97      0.98      1027\n",
            "           8       0.96      0.98      0.97       974\n",
            "           9       0.96      0.98      0.97      1009\n",
            "\n",
            "    accuracy                           0.98      9999\n",
            "   macro avg       0.98      0.98      0.98      9999\n",
            "weighted avg       0.98      0.98      0.98      9999\n",
            "\n",
            "\n",
            "Epoch 5: Validation Loss: 0.0753, Accuracy: 0.9760, F1 Score: 0.9760\n",
            "Epoch 5 completed. Average Train Loss: 0.0516\n"
          ]
        },
        {
          "output_type": "stream",
          "name": "stderr",
          "text": [
            "Epoch 6/15 (Dropout 0.1): 100%|██████████| 1875/1875 [00:22<00:00, 82.68it/s, Train Loss=0.0434]\n"
          ]
        },
        {
          "output_type": "stream",
          "name": "stdout",
          "text": [
            "              precision    recall  f1-score   support\n",
            "\n",
            "           0       0.98      0.99      0.99       980\n",
            "           1       0.99      0.99      0.99      1135\n",
            "           2       0.98      0.97      0.98      1032\n",
            "           3       0.99      0.97      0.98      1010\n",
            "           4       0.98      0.98      0.98       982\n",
            "           5       0.98      0.98      0.98       892\n",
            "           6       0.99      0.98      0.99       958\n",
            "           7       0.97      0.98      0.98      1027\n",
            "           8       0.96      0.98      0.97       974\n",
            "           9       0.98      0.97      0.97      1009\n",
            "\n",
            "    accuracy                           0.98      9999\n",
            "   macro avg       0.98      0.98      0.98      9999\n",
            "weighted avg       0.98      0.98      0.98      9999\n",
            "\n",
            "\n",
            "Epoch 6: Validation Loss: 0.0675, Accuracy: 0.9806, F1 Score: 0.9806\n",
            "Epoch 6 completed. Average Train Loss: 0.0434\n"
          ]
        },
        {
          "output_type": "stream",
          "name": "stderr",
          "text": [
            "Epoch 7/15 (Dropout 0.1): 100%|██████████| 1875/1875 [00:23<00:00, 80.32it/s, Train Loss=0.0393]\n"
          ]
        },
        {
          "output_type": "stream",
          "name": "stdout",
          "text": [
            "              precision    recall  f1-score   support\n",
            "\n",
            "           0       0.99      0.99      0.99       980\n",
            "           1       0.99      0.99      0.99      1135\n",
            "           2       0.97      0.98      0.98      1032\n",
            "           3       0.98      0.99      0.98      1010\n",
            "           4       0.98      0.98      0.98       982\n",
            "           5       0.98      0.98      0.98       892\n",
            "           6       0.99      0.99      0.99       958\n",
            "           7       0.98      0.97      0.98      1027\n",
            "           8       0.98      0.97      0.98       974\n",
            "           9       0.98      0.97      0.98      1009\n",
            "\n",
            "    accuracy                           0.98      9999\n",
            "   macro avg       0.98      0.98      0.98      9999\n",
            "weighted avg       0.98      0.98      0.98      9999\n",
            "\n",
            "\n",
            "Epoch 7: Validation Loss: 0.0618, Accuracy: 0.9825, F1 Score: 0.9825\n",
            "Epoch 7 completed. Average Train Loss: 0.0393\n"
          ]
        },
        {
          "output_type": "stream",
          "name": "stderr",
          "text": [
            "Epoch 8/15 (Dropout 0.1): 100%|██████████| 1875/1875 [00:24<00:00, 77.63it/s, Train Loss=0.0323]\n"
          ]
        },
        {
          "output_type": "stream",
          "name": "stdout",
          "text": [
            "              precision    recall  f1-score   support\n",
            "\n",
            "           0       0.98      0.99      0.99       980\n",
            "           1       0.98      0.99      0.99      1135\n",
            "           2       0.97      0.98      0.98      1032\n",
            "           3       0.96      0.99      0.97      1010\n",
            "           4       0.97      0.98      0.98       982\n",
            "           5       0.99      0.96      0.98       892\n",
            "           6       0.99      0.98      0.99       958\n",
            "           7       0.99      0.97      0.98      1027\n",
            "           8       0.97      0.98      0.97       974\n",
            "           9       0.98      0.97      0.97      1009\n",
            "\n",
            "    accuracy                           0.98      9999\n",
            "   macro avg       0.98      0.98      0.98      9999\n",
            "weighted avg       0.98      0.98      0.98      9999\n",
            "\n",
            "\n",
            "Epoch 8: Validation Loss: 0.0698, Accuracy: 0.9793, F1 Score: 0.9793\n",
            "Epoch 8 completed. Average Train Loss: 0.0323\n"
          ]
        },
        {
          "output_type": "stream",
          "name": "stderr",
          "text": [
            "Epoch 9/15 (Dropout 0.1): 100%|██████████| 1875/1875 [00:22<00:00, 84.12it/s, Train Loss=0.0267]\n"
          ]
        },
        {
          "output_type": "stream",
          "name": "stdout",
          "text": [
            "              precision    recall  f1-score   support\n",
            "\n",
            "           0       0.99      0.99      0.99       980\n",
            "           1       0.99      0.99      0.99      1135\n",
            "           2       0.98      0.98      0.98      1032\n",
            "           3       0.98      0.98      0.98      1010\n",
            "           4       0.97      0.98      0.98       982\n",
            "           5       0.98      0.98      0.98       892\n",
            "           6       0.99      0.97      0.98       958\n",
            "           7       0.97      0.98      0.98      1027\n",
            "           8       0.98      0.97      0.97       974\n",
            "           9       0.98      0.98      0.98      1009\n",
            "\n",
            "    accuracy                           0.98      9999\n",
            "   macro avg       0.98      0.98      0.98      9999\n",
            "weighted avg       0.98      0.98      0.98      9999\n",
            "\n",
            "\n",
            "Epoch 9: Validation Loss: 0.0664, Accuracy: 0.9811, F1 Score: 0.9811\n",
            "Epoch 9 completed. Average Train Loss: 0.0267\n"
          ]
        },
        {
          "output_type": "stream",
          "name": "stderr",
          "text": [
            "Epoch 10/15 (Dropout 0.1): 100%|██████████| 1875/1875 [00:23<00:00, 80.12it/s, Train Loss=0.0265]\n"
          ]
        },
        {
          "output_type": "stream",
          "name": "stdout",
          "text": [
            "              precision    recall  f1-score   support\n",
            "\n",
            "           0       0.98      0.99      0.99       980\n",
            "           1       0.98      0.99      0.99      1135\n",
            "           2       0.98      0.98      0.98      1032\n",
            "           3       0.98      0.98      0.98      1010\n",
            "           4       0.98      0.98      0.98       982\n",
            "           5       0.97      0.99      0.98       892\n",
            "           6       0.99      0.98      0.99       958\n",
            "           7       0.98      0.97      0.98      1027\n",
            "           8       0.98      0.97      0.98       974\n",
            "           9       0.98      0.97      0.98      1009\n",
            "\n",
            "    accuracy                           0.98      9999\n",
            "   macro avg       0.98      0.98      0.98      9999\n",
            "weighted avg       0.98      0.98      0.98      9999\n",
            "\n",
            "\n",
            "Epoch 10: Validation Loss: 0.0610, Accuracy: 0.9809, F1 Score: 0.9809\n",
            "Epoch 10 completed. Average Train Loss: 0.0265\n"
          ]
        },
        {
          "output_type": "stream",
          "name": "stderr",
          "text": [
            "Epoch 11/15 (Dropout 0.1): 100%|██████████| 1875/1875 [00:23<00:00, 80.24it/s, Train Loss=0.0246]\n"
          ]
        },
        {
          "output_type": "stream",
          "name": "stdout",
          "text": [
            "              precision    recall  f1-score   support\n",
            "\n",
            "           0       0.99      0.99      0.99       980\n",
            "           1       0.99      0.99      0.99      1135\n",
            "           2       0.98      0.98      0.98      1032\n",
            "           3       0.96      0.99      0.98      1010\n",
            "           4       0.98      0.98      0.98       982\n",
            "           5       0.99      0.97      0.98       892\n",
            "           6       0.98      0.99      0.99       958\n",
            "           7       0.98      0.98      0.98      1027\n",
            "           8       0.97      0.98      0.97       974\n",
            "           9       0.99      0.96      0.97      1009\n",
            "\n",
            "    accuracy                           0.98      9999\n",
            "   macro avg       0.98      0.98      0.98      9999\n",
            "weighted avg       0.98      0.98      0.98      9999\n",
            "\n",
            "\n",
            "Epoch 11: Validation Loss: 0.0632, Accuracy: 0.9808, F1 Score: 0.9808\n",
            "Epoch 11 completed. Average Train Loss: 0.0246\n"
          ]
        },
        {
          "output_type": "stream",
          "name": "stderr",
          "text": [
            "Epoch 12/15 (Dropout 0.1): 100%|██████████| 1875/1875 [00:22<00:00, 83.99it/s, Train Loss=0.0194]\n"
          ]
        },
        {
          "output_type": "stream",
          "name": "stdout",
          "text": [
            "              precision    recall  f1-score   support\n",
            "\n",
            "           0       0.98      0.99      0.99       980\n",
            "           1       0.99      0.99      0.99      1135\n",
            "           2       0.98      0.98      0.98      1032\n",
            "           3       0.98      0.99      0.98      1010\n",
            "           4       0.99      0.97      0.98       982\n",
            "           5       0.99      0.97      0.98       892\n",
            "           6       0.99      0.98      0.98       958\n",
            "           7       0.98      0.98      0.98      1027\n",
            "           8       0.96      0.99      0.97       974\n",
            "           9       0.98      0.97      0.98      1009\n",
            "\n",
            "    accuracy                           0.98      9999\n",
            "   macro avg       0.98      0.98      0.98      9999\n",
            "weighted avg       0.98      0.98      0.98      9999\n",
            "\n",
            "\n",
            "Epoch 12: Validation Loss: 0.0644, Accuracy: 0.9821, F1 Score: 0.9821\n",
            "Epoch 12 completed. Average Train Loss: 0.0194\n"
          ]
        },
        {
          "output_type": "stream",
          "name": "stderr",
          "text": [
            "Epoch 13/15 (Dropout 0.1): 100%|██████████| 1875/1875 [00:22<00:00, 82.88it/s, Train Loss=0.019]\n"
          ]
        },
        {
          "output_type": "stream",
          "name": "stdout",
          "text": [
            "              precision    recall  f1-score   support\n",
            "\n",
            "           0       0.98      0.99      0.99       980\n",
            "           1       0.99      0.99      0.99      1135\n",
            "           2       0.98      0.97      0.97      1032\n",
            "           3       0.97      0.98      0.98      1010\n",
            "           4       0.98      0.98      0.98       982\n",
            "           5       0.99      0.97      0.98       892\n",
            "           6       0.99      0.98      0.98       958\n",
            "           7       0.99      0.97      0.98      1027\n",
            "           8       0.97      0.98      0.97       974\n",
            "           9       0.97      0.98      0.97      1009\n",
            "\n",
            "    accuracy                           0.98      9999\n",
            "   macro avg       0.98      0.98      0.98      9999\n",
            "weighted avg       0.98      0.98      0.98      9999\n",
            "\n",
            "\n",
            "Epoch 13: Validation Loss: 0.0728, Accuracy: 0.9803, F1 Score: 0.9803\n",
            "Epoch 13 completed. Average Train Loss: 0.0190\n"
          ]
        },
        {
          "output_type": "stream",
          "name": "stderr",
          "text": [
            "Epoch 14/15 (Dropout 0.1): 100%|██████████| 1875/1875 [00:23<00:00, 78.89it/s, Train Loss=0.0184]\n"
          ]
        },
        {
          "output_type": "stream",
          "name": "stdout",
          "text": [
            "              precision    recall  f1-score   support\n",
            "\n",
            "           0       0.98      0.99      0.99       980\n",
            "           1       0.99      0.99      0.99      1135\n",
            "           2       0.97      0.98      0.98      1032\n",
            "           3       0.98      0.98      0.98      1010\n",
            "           4       0.98      0.98      0.98       982\n",
            "           5       0.98      0.98      0.98       892\n",
            "           6       0.99      0.97      0.98       958\n",
            "           7       0.98      0.97      0.98      1027\n",
            "           8       0.98      0.98      0.98       974\n",
            "           9       0.98      0.97      0.98      1009\n",
            "\n",
            "    accuracy                           0.98      9999\n",
            "   macro avg       0.98      0.98      0.98      9999\n",
            "weighted avg       0.98      0.98      0.98      9999\n",
            "\n",
            "\n",
            "Epoch 14: Validation Loss: 0.0701, Accuracy: 0.9807, F1 Score: 0.9807\n",
            "Epoch 14 completed. Average Train Loss: 0.0184\n"
          ]
        },
        {
          "output_type": "stream",
          "name": "stderr",
          "text": [
            "Epoch 15/15 (Dropout 0.1): 100%|██████████| 1875/1875 [00:22<00:00, 81.72it/s, Train Loss=0.0169]\n"
          ]
        },
        {
          "output_type": "stream",
          "name": "stdout",
          "text": [
            "              precision    recall  f1-score   support\n",
            "\n",
            "           0       0.98      0.99      0.99       980\n",
            "           1       0.99      0.99      0.99      1135\n",
            "           2       0.97      0.98      0.97      1032\n",
            "           3       0.97      0.98      0.98      1010\n",
            "           4       0.98      0.98      0.98       982\n",
            "           5       0.98      0.97      0.98       892\n",
            "           6       0.98      0.99      0.98       958\n",
            "           7       0.98      0.97      0.98      1027\n",
            "           8       0.97      0.97      0.97       974\n",
            "           9       0.98      0.98      0.98      1009\n",
            "\n",
            "    accuracy                           0.98      9999\n",
            "   macro avg       0.98      0.98      0.98      9999\n",
            "weighted avg       0.98      0.98      0.98      9999\n",
            "\n",
            "\n",
            "Epoch 15: Validation Loss: 0.0730, Accuracy: 0.9795, F1 Score: 0.9795\n",
            "Epoch 15 completed. Average Train Loss: 0.0169\n",
            "Training model with 2 hidden layers: [512, 256]\n"
          ]
        },
        {
          "output_type": "stream",
          "name": "stderr",
          "text": [
            "Epoch 1/15 (Dropout 0.1): 100%|██████████| 1875/1875 [00:31<00:00, 58.87it/s, Train Loss=0.197]\n"
          ]
        },
        {
          "output_type": "stream",
          "name": "stdout",
          "text": [
            "              precision    recall  f1-score   support\n",
            "\n",
            "           0       0.98      0.99      0.99       980\n",
            "           1       0.98      0.99      0.99      1135\n",
            "           2       0.97      0.98      0.97      1032\n",
            "           3       0.97      0.97      0.97      1010\n",
            "           4       0.98      0.97      0.98       982\n",
            "           5       0.97      0.97      0.97       892\n",
            "           6       0.99      0.97      0.98       958\n",
            "           7       0.98      0.97      0.97      1027\n",
            "           8       0.97      0.97      0.97       974\n",
            "           9       0.97      0.96      0.96      1009\n",
            "\n",
            "    accuracy                           0.98      9999\n",
            "   macro avg       0.98      0.98      0.98      9999\n",
            "weighted avg       0.98      0.98      0.98      9999\n",
            "\n",
            "\n",
            "Epoch 1: Validation Loss: 0.0810, Accuracy: 0.9754, F1 Score: 0.9754\n",
            "Epoch 1 completed. Average Train Loss: 0.1971\n"
          ]
        },
        {
          "output_type": "stream",
          "name": "stderr",
          "text": [
            "Epoch 2/15 (Dropout 0.1): 100%|██████████| 1875/1875 [00:32<00:00, 57.96it/s, Train Loss=0.0977]\n"
          ]
        },
        {
          "output_type": "stream",
          "name": "stdout",
          "text": [
            "              precision    recall  f1-score   support\n",
            "\n",
            "           0       0.99      0.99      0.99       980\n",
            "           1       0.99      0.99      0.99      1135\n",
            "           2       0.97      0.98      0.97      1032\n",
            "           3       0.98      0.97      0.97      1010\n",
            "           4       0.97      0.98      0.98       982\n",
            "           5       0.98      0.97      0.98       892\n",
            "           6       0.99      0.98      0.98       958\n",
            "           7       0.98      0.97      0.98      1027\n",
            "           8       0.96      0.98      0.97       974\n",
            "           9       0.97      0.97      0.97      1009\n",
            "\n",
            "    accuracy                           0.98      9999\n",
            "   macro avg       0.98      0.98      0.98      9999\n",
            "weighted avg       0.98      0.98      0.98      9999\n",
            "\n",
            "\n",
            "Epoch 2: Validation Loss: 0.0669, Accuracy: 0.9781, F1 Score: 0.9781\n",
            "Epoch 2 completed. Average Train Loss: 0.0977\n"
          ]
        },
        {
          "output_type": "stream",
          "name": "stderr",
          "text": [
            "Epoch 3/15 (Dropout 0.1): 100%|██████████| 1875/1875 [00:32<00:00, 57.82it/s, Train Loss=0.0712]\n"
          ]
        },
        {
          "output_type": "stream",
          "name": "stdout",
          "text": [
            "              precision    recall  f1-score   support\n",
            "\n",
            "           0       0.97      0.99      0.98       980\n",
            "           1       0.97      1.00      0.98      1135\n",
            "           2       0.98      0.97      0.98      1032\n",
            "           3       0.97      0.98      0.97      1010\n",
            "           4       0.95      0.99      0.97       982\n",
            "           5       0.96      0.99      0.97       892\n",
            "           6       0.99      0.95      0.97       958\n",
            "           7       0.98      0.95      0.96      1027\n",
            "           8       0.98      0.96      0.97       974\n",
            "           9       0.97      0.97      0.97      1009\n",
            "\n",
            "    accuracy                           0.97      9999\n",
            "   macro avg       0.97      0.97      0.97      9999\n",
            "weighted avg       0.97      0.97      0.97      9999\n",
            "\n",
            "\n",
            "Epoch 3: Validation Loss: 0.0831, Accuracy: 0.9739, F1 Score: 0.9739\n",
            "Epoch 3 completed. Average Train Loss: 0.0712\n"
          ]
        },
        {
          "output_type": "stream",
          "name": "stderr",
          "text": [
            "Epoch 4/15 (Dropout 0.1): 100%|██████████| 1875/1875 [00:34<00:00, 54.22it/s, Train Loss=0.0574]\n"
          ]
        },
        {
          "output_type": "stream",
          "name": "stdout",
          "text": [
            "              precision    recall  f1-score   support\n",
            "\n",
            "           0       0.98      0.99      0.99       980\n",
            "           1       0.99      0.99      0.99      1135\n",
            "           2       0.98      0.97      0.98      1032\n",
            "           3       0.97      0.99      0.98      1010\n",
            "           4       0.98      0.98      0.98       982\n",
            "           5       0.99      0.98      0.98       892\n",
            "           6       0.98      0.99      0.98       958\n",
            "           7       0.98      0.98      0.98      1027\n",
            "           8       0.99      0.98      0.98       974\n",
            "           9       0.98      0.96      0.97      1009\n",
            "\n",
            "    accuracy                           0.98      9999\n",
            "   macro avg       0.98      0.98      0.98      9999\n",
            "weighted avg       0.98      0.98      0.98      9999\n",
            "\n",
            "\n",
            "Epoch 4: Validation Loss: 0.0611, Accuracy: 0.9811, F1 Score: 0.9811\n",
            "Epoch 4 completed. Average Train Loss: 0.0574\n"
          ]
        },
        {
          "output_type": "stream",
          "name": "stderr",
          "text": [
            "Epoch 5/15 (Dropout 0.1): 100%|██████████| 1875/1875 [00:33<00:00, 56.75it/s, Train Loss=0.0477]\n"
          ]
        },
        {
          "output_type": "stream",
          "name": "stdout",
          "text": [
            "              precision    recall  f1-score   support\n",
            "\n",
            "           0       0.99      0.99      0.99       980\n",
            "           1       0.99      0.99      0.99      1135\n",
            "           2       0.98      0.98      0.98      1032\n",
            "           3       0.97      0.98      0.98      1010\n",
            "           4       0.99      0.98      0.99       982\n",
            "           5       0.98      0.98      0.98       892\n",
            "           6       0.99      0.99      0.99       958\n",
            "           7       0.98      0.98      0.98      1027\n",
            "           8       0.99      0.97      0.98       974\n",
            "           9       0.98      0.98      0.98      1009\n",
            "\n",
            "    accuracy                           0.98      9999\n",
            "   macro avg       0.98      0.98      0.98      9999\n",
            "weighted avg       0.98      0.98      0.98      9999\n",
            "\n",
            "\n",
            "Epoch 5: Validation Loss: 0.0513, Accuracy: 0.9839, F1 Score: 0.9839\n",
            "Epoch 5 completed. Average Train Loss: 0.0477\n"
          ]
        },
        {
          "output_type": "stream",
          "name": "stderr",
          "text": [
            "Epoch 6/15 (Dropout 0.1): 100%|██████████| 1875/1875 [00:32<00:00, 56.83it/s, Train Loss=0.0385]\n"
          ]
        },
        {
          "output_type": "stream",
          "name": "stdout",
          "text": [
            "              precision    recall  f1-score   support\n",
            "\n",
            "           0       0.99      0.99      0.99       980\n",
            "           1       0.99      0.98      0.99      1135\n",
            "           2       0.98      0.97      0.98      1032\n",
            "           3       0.96      0.99      0.97      1010\n",
            "           4       0.99      0.98      0.98       982\n",
            "           5       0.99      0.97      0.98       892\n",
            "           6       0.98      0.99      0.99       958\n",
            "           7       0.98      0.99      0.98      1027\n",
            "           8       0.98      0.98      0.98       974\n",
            "           9       0.98      0.98      0.98      1009\n",
            "\n",
            "    accuracy                           0.98      9999\n",
            "   macro avg       0.98      0.98      0.98      9999\n",
            "weighted avg       0.98      0.98      0.98      9999\n",
            "\n",
            "\n",
            "Epoch 6: Validation Loss: 0.0600, Accuracy: 0.9816, F1 Score: 0.9816\n",
            "Epoch 6 completed. Average Train Loss: 0.0385\n"
          ]
        },
        {
          "output_type": "stream",
          "name": "stderr",
          "text": [
            "Epoch 7/15 (Dropout 0.1): 100%|██████████| 1875/1875 [00:35<00:00, 52.81it/s, Train Loss=0.0334]\n"
          ]
        },
        {
          "output_type": "stream",
          "name": "stdout",
          "text": [
            "              precision    recall  f1-score   support\n",
            "\n",
            "           0       0.99      0.99      0.99       980\n",
            "           1       0.99      0.99      0.99      1135\n",
            "           2       0.97      0.99      0.98      1032\n",
            "           3       0.98      0.98      0.98      1010\n",
            "           4       0.98      0.97      0.98       982\n",
            "           5       0.99      0.98      0.98       892\n",
            "           6       0.98      0.99      0.98       958\n",
            "           7       0.98      0.98      0.98      1027\n",
            "           8       0.99      0.98      0.98       974\n",
            "           9       0.98      0.97      0.98      1009\n",
            "\n",
            "    accuracy                           0.98      9999\n",
            "   macro avg       0.98      0.98      0.98      9999\n",
            "weighted avg       0.98      0.98      0.98      9999\n",
            "\n",
            "\n",
            "Epoch 7: Validation Loss: 0.0599, Accuracy: 0.9823, F1 Score: 0.9823\n",
            "Epoch 7 completed. Average Train Loss: 0.0334\n"
          ]
        },
        {
          "output_type": "stream",
          "name": "stderr",
          "text": [
            "Epoch 8/15 (Dropout 0.1): 100%|██████████| 1875/1875 [00:33<00:00, 56.17it/s, Train Loss=0.0282]\n"
          ]
        },
        {
          "output_type": "stream",
          "name": "stdout",
          "text": [
            "              precision    recall  f1-score   support\n",
            "\n",
            "           0       0.99      0.99      0.99       980\n",
            "           1       0.98      0.99      0.99      1135\n",
            "           2       0.98      0.98      0.98      1032\n",
            "           3       0.98      0.98      0.98      1010\n",
            "           4       0.99      0.98      0.98       982\n",
            "           5       0.98      0.98      0.98       892\n",
            "           6       0.98      0.99      0.99       958\n",
            "           7       0.98      0.96      0.97      1027\n",
            "           8       0.96      0.99      0.97       974\n",
            "           9       0.98      0.97      0.98      1009\n",
            "\n",
            "    accuracy                           0.98      9999\n",
            "   macro avg       0.98      0.98      0.98      9999\n",
            "weighted avg       0.98      0.98      0.98      9999\n",
            "\n",
            "\n",
            "Epoch 8: Validation Loss: 0.0601, Accuracy: 0.9808, F1 Score: 0.9808\n",
            "Epoch 8 completed. Average Train Loss: 0.0282\n"
          ]
        },
        {
          "output_type": "stream",
          "name": "stderr",
          "text": [
            "Epoch 9/15 (Dropout 0.1): 100%|██████████| 1875/1875 [00:35<00:00, 53.36it/s, Train Loss=0.026]\n"
          ]
        },
        {
          "output_type": "stream",
          "name": "stdout",
          "text": [
            "              precision    recall  f1-score   support\n",
            "\n",
            "           0       0.99      0.99      0.99       980\n",
            "           1       0.99      1.00      0.99      1135\n",
            "           2       0.98      0.98      0.98      1032\n",
            "           3       0.99      0.98      0.98      1010\n",
            "           4       0.98      0.97      0.98       982\n",
            "           5       0.98      0.98      0.98       892\n",
            "           6       0.99      0.98      0.98       958\n",
            "           7       0.98      0.98      0.98      1027\n",
            "           8       0.98      0.98      0.98       974\n",
            "           9       0.96      0.98      0.97      1009\n",
            "\n",
            "    accuracy                           0.98      9999\n",
            "   macro avg       0.98      0.98      0.98      9999\n",
            "weighted avg       0.98      0.98      0.98      9999\n",
            "\n",
            "\n",
            "Epoch 9: Validation Loss: 0.0599, Accuracy: 0.9828, F1 Score: 0.9828\n",
            "Epoch 9 completed. Average Train Loss: 0.0260\n"
          ]
        },
        {
          "output_type": "stream",
          "name": "stderr",
          "text": [
            "Epoch 10/15 (Dropout 0.1): 100%|██████████| 1875/1875 [00:33<00:00, 56.23it/s, Train Loss=0.0216]\n"
          ]
        },
        {
          "output_type": "stream",
          "name": "stdout",
          "text": [
            "              precision    recall  f1-score   support\n",
            "\n",
            "           0       0.99      0.99      0.99       980\n",
            "           1       0.99      0.99      0.99      1135\n",
            "           2       0.98      0.99      0.98      1032\n",
            "           3       0.98      0.98      0.98      1010\n",
            "           4       0.98      0.98      0.98       982\n",
            "           5       0.99      0.98      0.98       892\n",
            "           6       0.99      0.98      0.99       958\n",
            "           7       0.98      0.98      0.98      1027\n",
            "           8       0.98      0.99      0.98       974\n",
            "           9       0.98      0.97      0.97      1009\n",
            "\n",
            "    accuracy                           0.98      9999\n",
            "   macro avg       0.98      0.98      0.98      9999\n",
            "weighted avg       0.98      0.98      0.98      9999\n",
            "\n",
            "\n",
            "Epoch 10: Validation Loss: 0.0588, Accuracy: 0.9840, F1 Score: 0.9840\n",
            "Epoch 10 completed. Average Train Loss: 0.0216\n"
          ]
        },
        {
          "output_type": "stream",
          "name": "stderr",
          "text": [
            "Epoch 11/15 (Dropout 0.1): 100%|██████████| 1875/1875 [00:33<00:00, 55.68it/s, Train Loss=0.0227]\n"
          ]
        },
        {
          "output_type": "stream",
          "name": "stdout",
          "text": [
            "              precision    recall  f1-score   support\n",
            "\n",
            "           0       0.99      0.99      0.99       980\n",
            "           1       0.99      0.99      0.99      1135\n",
            "           2       0.97      0.99      0.98      1032\n",
            "           3       0.98      0.97      0.98      1010\n",
            "           4       0.98      0.98      0.98       982\n",
            "           5       0.99      0.97      0.98       892\n",
            "           6       0.98      0.99      0.98       958\n",
            "           7       0.97      0.98      0.98      1027\n",
            "           8       0.99      0.98      0.98       974\n",
            "           9       0.98      0.97      0.98      1009\n",
            "\n",
            "    accuracy                           0.98      9999\n",
            "   macro avg       0.98      0.98      0.98      9999\n",
            "weighted avg       0.98      0.98      0.98      9999\n",
            "\n",
            "\n",
            "Epoch 11: Validation Loss: 0.0671, Accuracy: 0.9818, F1 Score: 0.9818\n",
            "Epoch 11 completed. Average Train Loss: 0.0227\n"
          ]
        },
        {
          "output_type": "stream",
          "name": "stderr",
          "text": [
            "Epoch 12/15 (Dropout 0.1): 100%|██████████| 1875/1875 [00:33<00:00, 56.60it/s, Train Loss=0.0179]\n"
          ]
        },
        {
          "output_type": "stream",
          "name": "stdout",
          "text": [
            "              precision    recall  f1-score   support\n",
            "\n",
            "           0       0.99      0.99      0.99       980\n",
            "           1       0.99      0.99      0.99      1135\n",
            "           2       0.98      0.98      0.98      1032\n",
            "           3       0.98      0.98      0.98      1010\n",
            "           4       0.98      0.97      0.98       982\n",
            "           5       0.99      0.98      0.98       892\n",
            "           6       0.99      0.98      0.99       958\n",
            "           7       0.99      0.98      0.98      1027\n",
            "           8       0.98      0.99      0.99       974\n",
            "           9       0.97      0.98      0.98      1009\n",
            "\n",
            "    accuracy                           0.98      9999\n",
            "   macro avg       0.98      0.98      0.98      9999\n",
            "weighted avg       0.98      0.98      0.98      9999\n",
            "\n",
            "\n",
            "Epoch 12: Validation Loss: 0.0589, Accuracy: 0.9834, F1 Score: 0.9834\n",
            "Epoch 12 completed. Average Train Loss: 0.0179\n"
          ]
        },
        {
          "output_type": "stream",
          "name": "stderr",
          "text": [
            "Epoch 13/15 (Dropout 0.1): 100%|██████████| 1875/1875 [00:33<00:00, 56.58it/s, Train Loss=0.0197]\n"
          ]
        },
        {
          "output_type": "stream",
          "name": "stdout",
          "text": [
            "              precision    recall  f1-score   support\n",
            "\n",
            "           0       0.99      0.99      0.99       980\n",
            "           1       0.99      0.99      0.99      1135\n",
            "           2       0.99      0.98      0.98      1032\n",
            "           3       0.98      0.98      0.98      1010\n",
            "           4       0.98      0.98      0.98       982\n",
            "           5       0.98      0.98      0.98       892\n",
            "           6       0.98      0.98      0.98       958\n",
            "           7       0.99      0.97      0.98      1027\n",
            "           8       0.98      0.98      0.98       974\n",
            "           9       0.98      0.98      0.98      1009\n",
            "\n",
            "    accuracy                           0.98      9999\n",
            "   macro avg       0.98      0.98      0.98      9999\n",
            "weighted avg       0.98      0.98      0.98      9999\n",
            "\n",
            "\n",
            "Epoch 13: Validation Loss: 0.0711, Accuracy: 0.9814, F1 Score: 0.9814\n",
            "Epoch 13 completed. Average Train Loss: 0.0197\n"
          ]
        },
        {
          "output_type": "stream",
          "name": "stderr",
          "text": [
            "Epoch 14/15 (Dropout 0.1): 100%|██████████| 1875/1875 [00:34<00:00, 54.06it/s, Train Loss=0.018]\n"
          ]
        },
        {
          "output_type": "stream",
          "name": "stdout",
          "text": [
            "              precision    recall  f1-score   support\n",
            "\n",
            "           0       0.98      0.99      0.99       980\n",
            "           1       0.99      0.99      0.99      1135\n",
            "           2       0.98      0.98      0.98      1032\n",
            "           3       0.98      0.97      0.98      1010\n",
            "           4       0.98      0.99      0.98       982\n",
            "           5       0.98      0.98      0.98       892\n",
            "           6       0.99      0.99      0.99       958\n",
            "           7       0.99      0.98      0.98      1027\n",
            "           8       0.98      0.98      0.98       974\n",
            "           9       0.98      0.98      0.98      1009\n",
            "\n",
            "    accuracy                           0.98      9999\n",
            "   macro avg       0.98      0.98      0.98      9999\n",
            "weighted avg       0.98      0.98      0.98      9999\n",
            "\n",
            "\n",
            "Epoch 14: Validation Loss: 0.0547, Accuracy: 0.9837, F1 Score: 0.9837\n",
            "Epoch 14 completed. Average Train Loss: 0.0180\n"
          ]
        },
        {
          "output_type": "stream",
          "name": "stderr",
          "text": [
            "Epoch 15/15 (Dropout 0.1): 100%|██████████| 1875/1875 [00:32<00:00, 57.02it/s, Train Loss=0.0138]\n"
          ]
        },
        {
          "output_type": "stream",
          "name": "stdout",
          "text": [
            "              precision    recall  f1-score   support\n",
            "\n",
            "           0       0.98      0.99      0.99       980\n",
            "           1       0.99      0.99      0.99      1135\n",
            "           2       0.98      0.98      0.98      1032\n",
            "           3       0.98      0.99      0.98      1010\n",
            "           4       0.99      0.97      0.98       982\n",
            "           5       0.99      0.97      0.98       892\n",
            "           6       0.98      0.99      0.98       958\n",
            "           7       0.99      0.98      0.98      1027\n",
            "           8       0.98      0.98      0.98       974\n",
            "           9       0.96      0.99      0.98      1009\n",
            "\n",
            "    accuracy                           0.98      9999\n",
            "   macro avg       0.98      0.98      0.98      9999\n",
            "weighted avg       0.98      0.98      0.98      9999\n",
            "\n",
            "\n",
            "Epoch 15: Validation Loss: 0.0622, Accuracy: 0.9836, F1 Score: 0.9836\n",
            "Epoch 15 completed. Average Train Loss: 0.0138\n",
            "Training model with 3 hidden layers: [512, 256, 128]\n"
          ]
        },
        {
          "output_type": "stream",
          "name": "stderr",
          "text": [
            "Epoch 1/15 (Dropout 0.1): 100%|██████████| 1875/1875 [00:34<00:00, 54.72it/s, Train Loss=0.216]\n"
          ]
        },
        {
          "output_type": "stream",
          "name": "stdout",
          "text": [
            "              precision    recall  f1-score   support\n",
            "\n",
            "           0       0.98      0.98      0.98       980\n",
            "           1       0.99      0.99      0.99      1135\n",
            "           2       0.98      0.97      0.97      1032\n",
            "           3       0.97      0.96      0.97      1010\n",
            "           4       0.98      0.96      0.97       982\n",
            "           5       0.97      0.96      0.97       892\n",
            "           6       0.96      0.97      0.97       958\n",
            "           7       0.97      0.96      0.96      1027\n",
            "           8       0.96      0.97      0.96       974\n",
            "           9       0.93      0.97      0.95      1009\n",
            "\n",
            "    accuracy                           0.97      9999\n",
            "   macro avg       0.97      0.97      0.97      9999\n",
            "weighted avg       0.97      0.97      0.97      9999\n",
            "\n",
            "\n",
            "Epoch 1: Validation Loss: 0.0972, Accuracy: 0.9688, F1 Score: 0.9688\n",
            "Epoch 1 completed. Average Train Loss: 0.2165\n"
          ]
        },
        {
          "output_type": "stream",
          "name": "stderr",
          "text": [
            "Epoch 2/15 (Dropout 0.1): 100%|██████████| 1875/1875 [00:36<00:00, 51.65it/s, Train Loss=0.108]\n"
          ]
        },
        {
          "output_type": "stream",
          "name": "stdout",
          "text": [
            "              precision    recall  f1-score   support\n",
            "\n",
            "           0       0.98      0.98      0.98       980\n",
            "           1       0.99      0.99      0.99      1135\n",
            "           2       0.98      0.97      0.98      1032\n",
            "           3       0.97      0.98      0.97      1010\n",
            "           4       0.99      0.95      0.97       982\n",
            "           5       0.98      0.97      0.97       892\n",
            "           6       0.98      0.98      0.98       958\n",
            "           7       0.95      0.98      0.97      1027\n",
            "           8       0.97      0.97      0.97       974\n",
            "           9       0.96      0.97      0.97      1009\n",
            "\n",
            "    accuracy                           0.97      9999\n",
            "   macro avg       0.97      0.97      0.97      9999\n",
            "weighted avg       0.97      0.97      0.97      9999\n",
            "\n",
            "\n",
            "Epoch 2: Validation Loss: 0.0802, Accuracy: 0.9746, F1 Score: 0.9746\n",
            "Epoch 2 completed. Average Train Loss: 0.1083\n"
          ]
        },
        {
          "output_type": "stream",
          "name": "stderr",
          "text": [
            "Epoch 3/15 (Dropout 0.1): 100%|██████████| 1875/1875 [00:36<00:00, 50.72it/s, Train Loss=0.0811]\n"
          ]
        },
        {
          "output_type": "stream",
          "name": "stdout",
          "text": [
            "              precision    recall  f1-score   support\n",
            "\n",
            "           0       0.98      0.99      0.98       980\n",
            "           1       0.99      0.99      0.99      1135\n",
            "           2       0.98      0.98      0.98      1032\n",
            "           3       0.98      0.97      0.97      1010\n",
            "           4       0.99      0.96      0.97       982\n",
            "           5       0.98      0.98      0.98       892\n",
            "           6       0.98      0.98      0.98       958\n",
            "           7       0.98      0.97      0.98      1027\n",
            "           8       0.98      0.98      0.98       974\n",
            "           9       0.96      0.98      0.97      1009\n",
            "\n",
            "    accuracy                           0.98      9999\n",
            "   macro avg       0.98      0.98      0.98      9999\n",
            "weighted avg       0.98      0.98      0.98      9999\n",
            "\n",
            "\n",
            "Epoch 3: Validation Loss: 0.0692, Accuracy: 0.9790, F1 Score: 0.9790\n",
            "Epoch 3 completed. Average Train Loss: 0.0811\n"
          ]
        },
        {
          "output_type": "stream",
          "name": "stderr",
          "text": [
            "Epoch 4/15 (Dropout 0.1): 100%|██████████| 1875/1875 [00:35<00:00, 52.72it/s, Train Loss=0.0644]\n"
          ]
        },
        {
          "output_type": "stream",
          "name": "stdout",
          "text": [
            "              precision    recall  f1-score   support\n",
            "\n",
            "           0       0.99      0.98      0.98       980\n",
            "           1       0.99      0.99      0.99      1135\n",
            "           2       0.98      0.98      0.98      1032\n",
            "           3       0.99      0.97      0.98      1010\n",
            "           4       0.98      0.98      0.98       982\n",
            "           5       0.98      0.98      0.98       892\n",
            "           6       0.98      0.99      0.99       958\n",
            "           7       0.97      0.98      0.98      1027\n",
            "           8       0.97      0.97      0.97       974\n",
            "           9       0.96      0.97      0.97      1009\n",
            "\n",
            "    accuracy                           0.98      9999\n",
            "   macro avg       0.98      0.98      0.98      9999\n",
            "weighted avg       0.98      0.98      0.98      9999\n",
            "\n",
            "\n",
            "Epoch 4: Validation Loss: 0.0684, Accuracy: 0.9792, F1 Score: 0.9792\n",
            "Epoch 4 completed. Average Train Loss: 0.0644\n"
          ]
        },
        {
          "output_type": "stream",
          "name": "stderr",
          "text": [
            "Epoch 5/15 (Dropout 0.1): 100%|██████████| 1875/1875 [00:35<00:00, 53.15it/s, Train Loss=0.0544]\n"
          ]
        },
        {
          "output_type": "stream",
          "name": "stdout",
          "text": [
            "              precision    recall  f1-score   support\n",
            "\n",
            "           0       0.98      0.99      0.99       980\n",
            "           1       0.99      1.00      0.99      1135\n",
            "           2       0.99      0.98      0.98      1032\n",
            "           3       0.99      0.98      0.99      1010\n",
            "           4       0.98      0.97      0.98       982\n",
            "           5       0.98      0.98      0.98       892\n",
            "           6       0.98      0.99      0.99       958\n",
            "           7       0.99      0.97      0.98      1027\n",
            "           8       0.97      0.99      0.98       974\n",
            "           9       0.97      0.97      0.97      1009\n",
            "\n",
            "    accuracy                           0.98      9999\n",
            "   macro avg       0.98      0.98      0.98      9999\n",
            "weighted avg       0.98      0.98      0.98      9999\n",
            "\n",
            "\n",
            "Epoch 5: Validation Loss: 0.0548, Accuracy: 0.9821, F1 Score: 0.9821\n",
            "Epoch 5 completed. Average Train Loss: 0.0544\n"
          ]
        },
        {
          "output_type": "stream",
          "name": "stderr",
          "text": [
            "Epoch 6/15 (Dropout 0.1): 100%|██████████| 1875/1875 [00:35<00:00, 52.86it/s, Train Loss=0.0447]\n"
          ]
        },
        {
          "output_type": "stream",
          "name": "stdout",
          "text": [
            "              precision    recall  f1-score   support\n",
            "\n",
            "           0       0.99      0.99      0.99       980\n",
            "           1       0.99      0.99      0.99      1135\n",
            "           2       0.97      0.98      0.98      1032\n",
            "           3       0.97      0.98      0.98      1010\n",
            "           4       0.99      0.98      0.98       982\n",
            "           5       0.98      0.98      0.98       892\n",
            "           6       0.99      0.99      0.99       958\n",
            "           7       0.98      0.98      0.98      1027\n",
            "           8       0.98      0.98      0.98       974\n",
            "           9       0.98      0.97      0.97      1009\n",
            "\n",
            "    accuracy                           0.98      9999\n",
            "   macro avg       0.98      0.98      0.98      9999\n",
            "weighted avg       0.98      0.98      0.98      9999\n",
            "\n",
            "\n",
            "Epoch 6: Validation Loss: 0.0599, Accuracy: 0.9820, F1 Score: 0.9820\n",
            "Epoch 6 completed. Average Train Loss: 0.0447\n"
          ]
        },
        {
          "output_type": "stream",
          "name": "stderr",
          "text": [
            "Epoch 7/15 (Dropout 0.1): 100%|██████████| 1875/1875 [00:35<00:00, 53.00it/s, Train Loss=0.0381]\n"
          ]
        },
        {
          "output_type": "stream",
          "name": "stdout",
          "text": [
            "              precision    recall  f1-score   support\n",
            "\n",
            "           0       0.99      0.99      0.99       980\n",
            "           1       0.99      1.00      0.99      1135\n",
            "           2       0.97      0.99      0.98      1032\n",
            "           3       0.96      0.98      0.97      1010\n",
            "           4       0.99      0.98      0.98       982\n",
            "           5       0.99      0.96      0.98       892\n",
            "           6       0.99      0.99      0.99       958\n",
            "           7       0.99      0.97      0.98      1027\n",
            "           8       0.97      0.99      0.98       974\n",
            "           9       0.97      0.97      0.97      1009\n",
            "\n",
            "    accuracy                           0.98      9999\n",
            "   macro avg       0.98      0.98      0.98      9999\n",
            "weighted avg       0.98      0.98      0.98      9999\n",
            "\n",
            "\n",
            "Epoch 7: Validation Loss: 0.0648, Accuracy: 0.9817, F1 Score: 0.9817\n",
            "Epoch 7 completed. Average Train Loss: 0.0381\n"
          ]
        },
        {
          "output_type": "stream",
          "name": "stderr",
          "text": [
            "Epoch 8/15 (Dropout 0.1): 100%|██████████| 1875/1875 [00:37<00:00, 49.75it/s, Train Loss=0.0326]\n"
          ]
        },
        {
          "output_type": "stream",
          "name": "stdout",
          "text": [
            "              precision    recall  f1-score   support\n",
            "\n",
            "           0       0.99      0.99      0.99       980\n",
            "           1       0.99      0.99      0.99      1135\n",
            "           2       0.98      0.98      0.98      1032\n",
            "           3       0.98      0.98      0.98      1010\n",
            "           4       0.96      0.99      0.98       982\n",
            "           5       0.97      0.98      0.98       892\n",
            "           6       0.99      0.97      0.98       958\n",
            "           7       0.98      0.97      0.98      1027\n",
            "           8       0.97      0.98      0.98       974\n",
            "           9       0.98      0.97      0.97      1009\n",
            "\n",
            "    accuracy                           0.98      9999\n",
            "   macro avg       0.98      0.98      0.98      9999\n",
            "weighted avg       0.98      0.98      0.98      9999\n",
            "\n",
            "\n",
            "Epoch 8: Validation Loss: 0.0643, Accuracy: 0.9812, F1 Score: 0.9812\n",
            "Epoch 8 completed. Average Train Loss: 0.0326\n"
          ]
        },
        {
          "output_type": "stream",
          "name": "stderr",
          "text": [
            "Epoch 9/15 (Dropout 0.1): 100%|██████████| 1875/1875 [00:35<00:00, 52.22it/s, Train Loss=0.0298]\n"
          ]
        },
        {
          "output_type": "stream",
          "name": "stdout",
          "text": [
            "              precision    recall  f1-score   support\n",
            "\n",
            "           0       0.99      0.99      0.99       980\n",
            "           1       0.99      0.99      0.99      1135\n",
            "           2       0.98      0.99      0.98      1032\n",
            "           3       0.99      0.98      0.99      1010\n",
            "           4       0.99      0.98      0.98       982\n",
            "           5       0.98      0.99      0.98       892\n",
            "           6       0.99      0.98      0.99       958\n",
            "           7       0.98      0.98      0.98      1027\n",
            "           8       0.97      0.99      0.98       974\n",
            "           9       0.98      0.98      0.98      1009\n",
            "\n",
            "    accuracy                           0.98      9999\n",
            "   macro avg       0.98      0.98      0.98      9999\n",
            "weighted avg       0.98      0.98      0.98      9999\n",
            "\n",
            "\n",
            "Epoch 9: Validation Loss: 0.0537, Accuracy: 0.9849, F1 Score: 0.9849\n",
            "Epoch 9 completed. Average Train Loss: 0.0298\n"
          ]
        },
        {
          "output_type": "stream",
          "name": "stderr",
          "text": [
            "Epoch 10/15 (Dropout 0.1): 100%|██████████| 1875/1875 [00:35<00:00, 52.42it/s, Train Loss=0.0274]\n"
          ]
        },
        {
          "output_type": "stream",
          "name": "stdout",
          "text": [
            "              precision    recall  f1-score   support\n",
            "\n",
            "           0       0.99      0.99      0.99       980\n",
            "           1       0.99      1.00      0.99      1135\n",
            "           2       0.98      0.98      0.98      1032\n",
            "           3       0.97      0.99      0.98      1010\n",
            "           4       0.98      0.98      0.98       982\n",
            "           5       0.99      0.98      0.98       892\n",
            "           6       0.99      0.98      0.98       958\n",
            "           7       0.98      0.98      0.98      1027\n",
            "           8       0.97      0.99      0.98       974\n",
            "           9       0.98      0.97      0.97      1009\n",
            "\n",
            "    accuracy                           0.98      9999\n",
            "   macro avg       0.98      0.98      0.98      9999\n",
            "weighted avg       0.98      0.98      0.98      9999\n",
            "\n",
            "\n",
            "Epoch 10: Validation Loss: 0.0603, Accuracy: 0.9827, F1 Score: 0.9827\n",
            "Epoch 10 completed. Average Train Loss: 0.0274\n"
          ]
        },
        {
          "output_type": "stream",
          "name": "stderr",
          "text": [
            "Epoch 11/15 (Dropout 0.1): 100%|██████████| 1875/1875 [00:35<00:00, 52.86it/s, Train Loss=0.0214]\n"
          ]
        },
        {
          "output_type": "stream",
          "name": "stdout",
          "text": [
            "              precision    recall  f1-score   support\n",
            "\n",
            "           0       0.99      0.99      0.99       980\n",
            "           1       0.99      0.99      0.99      1135\n",
            "           2       0.98      0.98      0.98      1032\n",
            "           3       0.98      0.98      0.98      1010\n",
            "           4       0.98      0.99      0.98       982\n",
            "           5       0.98      0.98      0.98       892\n",
            "           6       0.99      0.98      0.99       958\n",
            "           7       0.98      0.98      0.98      1027\n",
            "           8       0.98      0.99      0.98       974\n",
            "           9       0.98      0.97      0.98      1009\n",
            "\n",
            "    accuracy                           0.98      9999\n",
            "   macro avg       0.98      0.98      0.98      9999\n",
            "weighted avg       0.98      0.98      0.98      9999\n",
            "\n",
            "\n",
            "Epoch 11: Validation Loss: 0.0610, Accuracy: 0.9834, F1 Score: 0.9834\n",
            "Epoch 11 completed. Average Train Loss: 0.0214\n"
          ]
        },
        {
          "output_type": "stream",
          "name": "stderr",
          "text": [
            "Epoch 12/15 (Dropout 0.1): 100%|██████████| 1875/1875 [00:37<00:00, 49.44it/s, Train Loss=0.0227]\n"
          ]
        },
        {
          "output_type": "stream",
          "name": "stdout",
          "text": [
            "              precision    recall  f1-score   support\n",
            "\n",
            "           0       0.98      0.99      0.99       980\n",
            "           1       0.99      0.99      0.99      1135\n",
            "           2       0.97      0.98      0.98      1032\n",
            "           3       0.99      0.98      0.98      1010\n",
            "           4       0.99      0.97      0.98       982\n",
            "           5       0.99      0.97      0.98       892\n",
            "           6       0.98      0.99      0.98       958\n",
            "           7       0.98      0.97      0.98      1027\n",
            "           8       0.98      0.98      0.98       974\n",
            "           9       0.97      0.98      0.98      1009\n",
            "\n",
            "    accuracy                           0.98      9999\n",
            "   macro avg       0.98      0.98      0.98      9999\n",
            "weighted avg       0.98      0.98      0.98      9999\n",
            "\n",
            "\n",
            "Epoch 12: Validation Loss: 0.0618, Accuracy: 0.9814, F1 Score: 0.9814\n",
            "Epoch 12 completed. Average Train Loss: 0.0227\n"
          ]
        },
        {
          "output_type": "stream",
          "name": "stderr",
          "text": [
            "Epoch 13/15 (Dropout 0.1): 100%|██████████| 1875/1875 [00:35<00:00, 52.57it/s, Train Loss=0.021]\n"
          ]
        },
        {
          "output_type": "stream",
          "name": "stdout",
          "text": [
            "              precision    recall  f1-score   support\n",
            "\n",
            "           0       0.98      0.99      0.99       980\n",
            "           1       0.99      1.00      0.99      1135\n",
            "           2       0.99      0.97      0.98      1032\n",
            "           3       0.98      0.98      0.98      1010\n",
            "           4       0.99      0.98      0.98       982\n",
            "           5       0.98      0.98      0.98       892\n",
            "           6       0.99      0.98      0.99       958\n",
            "           7       0.99      0.98      0.98      1027\n",
            "           8       0.98      0.98      0.98       974\n",
            "           9       0.97      0.98      0.98      1009\n",
            "\n",
            "    accuracy                           0.98      9999\n",
            "   macro avg       0.98      0.98      0.98      9999\n",
            "weighted avg       0.98      0.98      0.98      9999\n",
            "\n",
            "\n",
            "Epoch 13: Validation Loss: 0.0599, Accuracy: 0.9835, F1 Score: 0.9835\n",
            "Epoch 13 completed. Average Train Loss: 0.0210\n"
          ]
        },
        {
          "output_type": "stream",
          "name": "stderr",
          "text": [
            "Epoch 14/15 (Dropout 0.1): 100%|██████████| 1875/1875 [00:35<00:00, 52.64it/s, Train Loss=0.0181]\n"
          ]
        },
        {
          "output_type": "stream",
          "name": "stdout",
          "text": [
            "              precision    recall  f1-score   support\n",
            "\n",
            "           0       0.99      0.99      0.99       980\n",
            "           1       0.99      0.99      0.99      1135\n",
            "           2       0.98      0.98      0.98      1032\n",
            "           3       0.96      0.99      0.97      1010\n",
            "           4       0.99      0.98      0.99       982\n",
            "           5       0.98      0.97      0.98       892\n",
            "           6       0.99      0.99      0.99       958\n",
            "           7       0.99      0.98      0.98      1027\n",
            "           8       0.98      0.99      0.98       974\n",
            "           9       0.98      0.98      0.98      1009\n",
            "\n",
            "    accuracy                           0.98      9999\n",
            "   macro avg       0.98      0.98      0.98      9999\n",
            "weighted avg       0.98      0.98      0.98      9999\n",
            "\n",
            "\n",
            "Epoch 14: Validation Loss: 0.0648, Accuracy: 0.9836, F1 Score: 0.9836\n",
            "Epoch 14 completed. Average Train Loss: 0.0181\n"
          ]
        },
        {
          "output_type": "stream",
          "name": "stderr",
          "text": [
            "Epoch 15/15 (Dropout 0.1): 100%|██████████| 1875/1875 [00:35<00:00, 52.52it/s, Train Loss=0.0191]\n"
          ]
        },
        {
          "output_type": "stream",
          "name": "stdout",
          "text": [
            "              precision    recall  f1-score   support\n",
            "\n",
            "           0       0.98      0.99      0.99       980\n",
            "           1       0.99      1.00      0.99      1135\n",
            "           2       0.98      0.98      0.98      1032\n",
            "           3       0.99      0.98      0.98      1010\n",
            "           4       0.98      0.98      0.98       982\n",
            "           5       0.99      0.98      0.98       892\n",
            "           6       0.99      0.99      0.99       958\n",
            "           7       0.98      0.98      0.98      1027\n",
            "           8       0.99      0.99      0.99       974\n",
            "           9       0.98      0.97      0.97      1009\n",
            "\n",
            "    accuracy                           0.98      9999\n",
            "   macro avg       0.98      0.98      0.98      9999\n",
            "weighted avg       0.98      0.98      0.98      9999\n",
            "\n",
            "\n",
            "Epoch 15: Validation Loss: 0.0582, Accuracy: 0.9836, F1 Score: 0.9836\n",
            "Epoch 15 completed. Average Train Loss: 0.0191\n"
          ]
        },
        {
          "output_type": "display_data",
          "data": {
            "text/plain": [
              "<Figure size 1200x600 with 2 Axes>"
            ],
            "image/png": "[encoded data removed]"
          },
          "metadata": {}
        }
      ]
    }
  ]
}